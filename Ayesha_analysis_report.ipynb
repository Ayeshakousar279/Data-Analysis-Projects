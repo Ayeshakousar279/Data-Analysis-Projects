{
 "cells": [
  {
   "cell_type": "markdown",
   "metadata": {},
   "source": [
    "# Introduction"
   ]
  },
  {
   "cell_type": "markdown",
   "metadata": {},
   "source": [
    "This analysis report consists of an analytical task from an international online store. The purpose of the test is to detect changes related to the introduction of an improved recommendation system to the users on the website.\n",
    "\n",
    "We are supposed to get the results as follows:\n",
    "\n",
    "Within 14 days of signing up, users will show better conversion into product page views (the product_page event), instances of adding items to the shopping cart (product_cart), and purchases (purchase). At each stage of the funnel product_page → product_cart → purchase, there will be at least a 10% increase and the expected number of test participants are 6000.\n",
    "\n",
    "In this analysis, I've done the data pre processing, exploratorydata analysis to study conversion at different stages of the funnel, check whether number of events per user are distributed equally among the samples? , Are there users who are present in both samples?, How is the number of events distributed among days?, Are there any peculiarities in the data that you have to take into account before starting the A/B test? etc. \n",
    "\n",
    "I winded off by evaluating the A/B test results by using a z-test to check the statistical difference between the proportions and gave my final conclusion and few recommendations."
   ]
  },
  {
   "cell_type": "markdown",
   "metadata": {},
   "source": [
    "# Table of contents"
   ]
  },
  {
   "cell_type": "markdown",
   "metadata": {},
   "source": [
    "<div id=\"toc\" class=\"toc\"><ul class=\"toc-item\"><li><span class=\"highlight_on_scroll\"><i class=\"fa fa-fw\"></i><a href=\"#Introduction\" data-toc-modified-id=\"Introduction-1\"><span class=\"toc-item-num\">1&nbsp;&nbsp;</span>Introduction</a></span></li><li><span class=\"\"><i class=\"fa fa-fw fa-caret-down\"></i><a href=\"#Table-of-contents\" data-toc-modified-id=\"Table-of-contents-2\" class=\"toc-item-highlight-select\"><span class=\"toc-item-num\">2&nbsp;&nbsp;</span>Table of contents</a></span><ul class=\"toc-item\"><li><span class=\"\"><i class=\"fa fa-fw fa-caret-down\"></i><a href=\"#Downloading-the-data-and-Pre-processing-it\" data-toc-modified-id=\"Downloading-the-data-and-Pre-processing-it-2.1\"><span class=\"toc-item-num\">2.1&nbsp;&nbsp;</span>Downloading the data and Pre-processing it</a></span><ul class=\"toc-item\"><li><span><i class=\"fa fa-fw\"></i><a href=\"#Conclusion-:\" data-toc-modified-id=\"Conclusion-:-2.1.1\"><span class=\"toc-item-num\">2.1.1&nbsp;&nbsp;</span>Conclusion :</a></span></li></ul></li><li><span><i class=\"fa fa-fw fa-caret-down\"></i><a href=\"#Exploratory-data-analysis\" data-toc-modified-id=\"Exploratory-data-analysis-2.2\"><span class=\"toc-item-num\">2.2&nbsp;&nbsp;</span>Exploratory data analysis</a></span><ul class=\"toc-item\"><li><span><i class=\"fa fa-fw\"></i><a href=\"#Finding-out-number-of-unique-users-in-each-ab_test\" data-toc-modified-id=\"Finding-out-number-of-unique-users-in-each-ab_test-2.2.1\"><span class=\"toc-item-num\">2.2.1&nbsp;&nbsp;</span>Finding out number of unique users in each ab_test</a></span></li><li><span><i class=\"fa fa-fw\"></i><a href=\"#Studying-total-users-in-each-group-per-ab_test\" data-toc-modified-id=\"Studying-total-users-in-each-group-per-ab_test-2.2.2\"><span class=\"toc-item-num\">2.2.2&nbsp;&nbsp;</span>Studying total users in each group per ab_test</a></span></li><li><span><i class=\"fa fa-fw\"></i><a href=\"#Study-conversion-at-different-stages-of-the-funnel.\" data-toc-modified-id=\"Study-conversion-at-different-stages-of-the-funnel.-2.2.3\"><span class=\"toc-item-num\">2.2.3&nbsp;&nbsp;</span>Study conversion at different stages of the funnel.</a></span></li><li><span><i class=\"fa fa-fw\"></i><a href=\"#Is-the-number-of-events-per-user-distributed-equally-among-the-samples?\" data-toc-modified-id=\"Is-the-number-of-events-per-user-distributed-equally-among-the-samples?-2.2.4\"><span class=\"toc-item-num\">2.2.4&nbsp;&nbsp;</span>Is the number of events per user distributed equally among the samples?</a></span></li><li><span><i class=\"fa fa-fw\"></i><a href=\"#Checking-if-the-condition-15%-of-the-new-users-from-the-EU-region-is-satisfied\" data-toc-modified-id=\"Checking-if-the-condition-15%-of-the-new-users-from-the-EU-region-is-satisfied-2.2.5\"><span class=\"toc-item-num\">2.2.5&nbsp;&nbsp;</span>Checking if the condition 15% of the new users from the EU region is satisfied</a></span></li><li><span><i class=\"fa fa-fw\"></i><a href=\"#Are-there-any-peculiarities-in-the-data-that-you-have-to-take-into-account-before-starting-the-A/B-test?\" data-toc-modified-id=\"Are-there-any-peculiarities-in-the-data-that-you-have-to-take-into-account-before-starting-the-A/B-test?-2.2.6\"><span class=\"toc-item-num\">2.2.6&nbsp;&nbsp;</span>Are there any peculiarities in the data that you have to take into account before starting the A/B test?</a></span></li><li><span><i class=\"fa fa-fw\"></i><a href=\"#Calculating-cummulative-revenue-for-the-groups-A-&amp;-B-for-the-interface_test\" data-toc-modified-id=\"Calculating-cummulative-revenue-for-the-groups-A-&amp;-B-for-the-interface_test-2.2.7\"><span class=\"toc-item-num\">2.2.7&nbsp;&nbsp;</span>Calculating cummulative revenue for the groups A &amp; B for the interface_test</a></span></li><li><span><i class=\"fa fa-fw\"></i><a href=\"#Checking-whether-users-are-split-equally-in-both-the-groups\" data-toc-modified-id=\"Checking-whether-users-are-split-equally-in-both-the-groups-2.2.8\"><span class=\"toc-item-num\">2.2.8&nbsp;&nbsp;</span>Checking whether users are split equally in both the groups</a></span></li><li><span><i class=\"fa fa-fw fa-caret-down\"></i><a href=\"#Use-a-z-test-to-check-the-statistical-difference-between-the-proportions.\" data-toc-modified-id=\"Use-a-z-test-to-check-the-statistical-difference-between-the-proportions.-2.2.9\"><span class=\"toc-item-num\">2.2.9&nbsp;&nbsp;</span>Use a z-test to check the statistical difference between the proportions.</a></span><ul class=\"toc-item\"><li><span><i class=\"fa fa-fw\"></i><a href=\"#Formulating-Hypothesis\" data-toc-modified-id=\"Formulating-Hypothesis-2.2.9.1\"><span class=\"toc-item-num\">2.2.9.1&nbsp;&nbsp;</span>Formulating Hypothesis</a></span></li></ul></li></ul></li></ul></li><li><span><i class=\"fa fa-fw\"></i><a href=\"#Overall-conclusion-and-recommendations\" data-toc-modified-id=\"Overall-conclusion-and-recommendations-3\"><span class=\"toc-item-num\">3&nbsp;&nbsp;</span>Overall conclusion and recommendations</a></span></li></ul></div>"
   ]
  },
  {
   "cell_type": "markdown",
   "metadata": {},
   "source": [
    "## Downloading the data and Pre-processing it"
   ]
  },
  {
   "cell_type": "code",
   "execution_count": 2,
   "metadata": {},
   "outputs": [
    {
     "name": "stdout",
     "output_type": "stream",
     "text": [
      "Defaulting to user installation because normal site-packages is not writeable\n",
      "Collecting plotly==4.4.1\n",
      "  Downloading plotly-4.4.1-py2.py3-none-any.whl (7.3 MB)\n",
      "\u001b[K     |████████████████████████████████| 7.3 MB 1.6 MB/s eta 0:00:01\n",
      "\u001b[?25hRequirement already satisfied: six in /opt/conda/lib/python3.7/site-packages (from plotly==4.4.1) (1.15.0)\n",
      "Requirement already satisfied: retrying>=1.3.3 in /opt/conda/lib/python3.7/site-packages (from plotly==4.4.1) (1.3.3)\n",
      "Installing collected packages: plotly\n",
      "Successfully installed plotly-4.4.1\n"
     ]
    }
   ],
   "source": [
    "# to install  plotly module\n",
    "!pip install plotly==4.4.1 --trusted-host pypi.org --trusted-host files.pythonhosted.org"
   ]
  },
  {
   "cell_type": "code",
   "execution_count": 3,
   "metadata": {},
   "outputs": [
    {
     "data": {
      "text/html": [
       "        <script type=\"text/javascript\">\n",
       "        window.PlotlyConfig = {MathJaxConfig: 'local'};\n",
       "        if (window.MathJax) {MathJax.Hub.Config({SVG: {font: \"STIX-Web\"}});}\n",
       "        if (typeof require !== 'undefined') {\n",
       "        require.undef(\"plotly\");\n",
       "        requirejs.config({\n",
       "            paths: {\n",
       "                'plotly': ['https://cdn.plot.ly/plotly-latest.min']\n",
       "            }\n",
       "        });\n",
       "        require(['plotly'], function(Plotly) {\n",
       "            window._Plotly = Plotly;\n",
       "        });\n",
       "        }\n",
       "        </script>\n",
       "        "
      ]
     },
     "metadata": {},
     "output_type": "display_data"
    }
   ],
   "source": [
    "# importing all required libraries\n",
    "import pandas as pd\n",
    "import numpy as np\n",
    "from scipy import stats as st\n",
    "import scipy.stats as stats\n",
    "from scipy.stats import norm\n",
    "from math import factorial\n",
    "import seaborn as sns\n",
    "import warnings\n",
    "from datetime import date, timedelta\n",
    "import datetime as dt\n",
    "import matplotlib.pyplot as plt\n",
    "import plotly.express as px\n",
    "from plotly.offline import download_plotlyjs, init_notebook_mode, plot, iplot\n",
    "init_notebook_mode(connected=True)\n",
    "import math as mth\n",
    "from plotly import graph_objects as go"
   ]
  },
  {
   "cell_type": "code",
   "execution_count": 4,
   "metadata": {},
   "outputs": [
    {
     "data": {
      "text/html": [
       "<div>\n",
       "<style scoped>\n",
       "    .dataframe tbody tr th:only-of-type {\n",
       "        vertical-align: middle;\n",
       "    }\n",
       "\n",
       "    .dataframe tbody tr th {\n",
       "        vertical-align: top;\n",
       "    }\n",
       "\n",
       "    .dataframe thead th {\n",
       "        text-align: right;\n",
       "    }\n",
       "</style>\n",
       "<table border=\"1\" class=\"dataframe\">\n",
       "  <thead>\n",
       "    <tr style=\"text-align: right;\">\n",
       "      <th></th>\n",
       "      <th>user_id</th>\n",
       "      <th>event_dt</th>\n",
       "      <th>event_name</th>\n",
       "      <th>details</th>\n",
       "    </tr>\n",
       "  </thead>\n",
       "  <tbody>\n",
       "    <tr>\n",
       "      <td>0</td>\n",
       "      <td>E1BDDCE0DAFA2679</td>\n",
       "      <td>2020-12-07 20:22:03</td>\n",
       "      <td>purchase</td>\n",
       "      <td>99.99</td>\n",
       "    </tr>\n",
       "    <tr>\n",
       "      <td>1</td>\n",
       "      <td>7B6452F081F49504</td>\n",
       "      <td>2020-12-07 09:22:53</td>\n",
       "      <td>purchase</td>\n",
       "      <td>9.99</td>\n",
       "    </tr>\n",
       "    <tr>\n",
       "      <td>2</td>\n",
       "      <td>9CD9F34546DF254C</td>\n",
       "      <td>2020-12-07 12:59:29</td>\n",
       "      <td>purchase</td>\n",
       "      <td>4.99</td>\n",
       "    </tr>\n",
       "    <tr>\n",
       "      <td>3</td>\n",
       "      <td>96F27A054B191457</td>\n",
       "      <td>2020-12-07 04:02:40</td>\n",
       "      <td>purchase</td>\n",
       "      <td>4.99</td>\n",
       "    </tr>\n",
       "    <tr>\n",
       "      <td>4</td>\n",
       "      <td>1FD7660FDF94CA1F</td>\n",
       "      <td>2020-12-07 10:15:09</td>\n",
       "      <td>purchase</td>\n",
       "      <td>4.99</td>\n",
       "    </tr>\n",
       "    <tr>\n",
       "      <td>5</td>\n",
       "      <td>831887FE7F2D6CBA</td>\n",
       "      <td>2020-12-07 06:50:29</td>\n",
       "      <td>purchase</td>\n",
       "      <td>4.99</td>\n",
       "    </tr>\n",
       "    <tr>\n",
       "      <td>6</td>\n",
       "      <td>6B2F726BFD5F8220</td>\n",
       "      <td>2020-12-07 11:27:42</td>\n",
       "      <td>purchase</td>\n",
       "      <td>4.99</td>\n",
       "    </tr>\n",
       "    <tr>\n",
       "      <td>7</td>\n",
       "      <td>BEB37715AACF53B0</td>\n",
       "      <td>2020-12-07 04:26:15</td>\n",
       "      <td>purchase</td>\n",
       "      <td>4.99</td>\n",
       "    </tr>\n",
       "    <tr>\n",
       "      <td>8</td>\n",
       "      <td>B5FA27F582227197</td>\n",
       "      <td>2020-12-07 01:46:37</td>\n",
       "      <td>purchase</td>\n",
       "      <td>4.99</td>\n",
       "    </tr>\n",
       "    <tr>\n",
       "      <td>9</td>\n",
       "      <td>A92195E3CFB83DBD</td>\n",
       "      <td>2020-12-07 00:32:07</td>\n",
       "      <td>purchase</td>\n",
       "      <td>4.99</td>\n",
       "    </tr>\n",
       "  </tbody>\n",
       "</table>\n",
       "</div>"
      ],
      "text/plain": [
       "            user_id             event_dt event_name  details\n",
       "0  E1BDDCE0DAFA2679  2020-12-07 20:22:03   purchase    99.99\n",
       "1  7B6452F081F49504  2020-12-07 09:22:53   purchase     9.99\n",
       "2  9CD9F34546DF254C  2020-12-07 12:59:29   purchase     4.99\n",
       "3  96F27A054B191457  2020-12-07 04:02:40   purchase     4.99\n",
       "4  1FD7660FDF94CA1F  2020-12-07 10:15:09   purchase     4.99\n",
       "5  831887FE7F2D6CBA  2020-12-07 06:50:29   purchase     4.99\n",
       "6  6B2F726BFD5F8220  2020-12-07 11:27:42   purchase     4.99\n",
       "7  BEB37715AACF53B0  2020-12-07 04:26:15   purchase     4.99\n",
       "8  B5FA27F582227197  2020-12-07 01:46:37   purchase     4.99\n",
       "9  A92195E3CFB83DBD  2020-12-07 00:32:07   purchase     4.99"
      ]
     },
     "execution_count": 4,
     "metadata": {},
     "output_type": "execute_result"
    }
   ],
   "source": [
    "# importing the data file and turning it into a readable dataframe\n",
    "final_ab_events = pd.read_csv('/datasets/final_ab_events_upd_us.csv')\n",
    "final_ab_events.head(10)"
   ]
  },
  {
   "cell_type": "code",
   "execution_count": 5,
   "metadata": {},
   "outputs": [
    {
     "name": "stdout",
     "output_type": "stream",
     "text": [
      "<class 'pandas.core.frame.DataFrame'>\n",
      "RangeIndex: 423761 entries, 0 to 423760\n",
      "Data columns (total 4 columns):\n",
      "user_id       423761 non-null object\n",
      "event_dt      423761 non-null object\n",
      "event_name    423761 non-null object\n",
      "details       60314 non-null float64\n",
      "dtypes: float64(1), object(3)\n",
      "memory usage: 12.9+ MB\n"
     ]
    }
   ],
   "source": [
    "# checking the general information of the data\n",
    "final_ab_events.info()"
   ]
  },
  {
   "cell_type": "code",
   "execution_count": 6,
   "metadata": {},
   "outputs": [],
   "source": [
    "# changing the datetime info from object datatype to datetime datatype and event_name to category type to optimise the data\n",
    "final_ab_events['event_dt'] = final_ab_events['event_dt'].map(lambda x: dt.datetime.strptime(x, '%Y-%m-%d %H:%M:%S'))\n",
    "final_ab_events['event_name'] = final_ab_events['event_name'].astype('category')\n"
   ]
  },
  {
   "cell_type": "code",
   "execution_count": 7,
   "metadata": {},
   "outputs": [
    {
     "data": {
      "text/plain": [
       "user_id            0\n",
       "event_dt           0\n",
       "event_name         0\n",
       "details       363447\n",
       "dtype: int64"
      ]
     },
     "execution_count": 7,
     "metadata": {},
     "output_type": "execute_result"
    }
   ],
   "source": [
    "# checking for any missing values in the dataset\n",
    "final_ab_events.isna().sum()"
   ]
  },
  {
   "cell_type": "code",
   "execution_count": 8,
   "metadata": {},
   "outputs": [
    {
     "data": {
      "text/plain": [
       "0"
      ]
     },
     "execution_count": 8,
     "metadata": {},
     "output_type": "execute_result"
    }
   ],
   "source": [
    "# checking for any duplicated values in the dataset\n",
    "final_ab_events.duplicated().sum()"
   ]
  },
  {
   "cell_type": "code",
   "execution_count": 9,
   "metadata": {},
   "outputs": [
    {
     "data": {
      "text/plain": [
       "login           182465\n",
       "product_page    120862\n",
       "purchase         60314\n",
       "product_cart     60120\n",
       "Name: event_name, dtype: int64"
      ]
     },
     "execution_count": 9,
     "metadata": {},
     "output_type": "execute_result"
    }
   ],
   "source": [
    "# checking the number of unique events\n",
    "final_ab_events.event_name.value_counts()"
   ]
  },
  {
   "cell_type": "code",
   "execution_count": 10,
   "metadata": {},
   "outputs": [
    {
     "data": {
      "text/plain": [
       "4.99      44579\n",
       "9.99       9158\n",
       "99.99      5405\n",
       "499.99     1172\n",
       "Name: details, dtype: int64"
      ]
     },
     "execution_count": 10,
     "metadata": {},
     "output_type": "execute_result"
    }
   ],
   "source": [
    "# checking the number of unique details\n",
    "final_ab_events.details.value_counts()"
   ]
  },
  {
   "cell_type": "code",
   "execution_count": 11,
   "metadata": {
    "scrolled": true
   },
   "outputs": [
    {
     "data": {
      "text/html": [
       "<div>\n",
       "<style scoped>\n",
       "    .dataframe tbody tr th:only-of-type {\n",
       "        vertical-align: middle;\n",
       "    }\n",
       "\n",
       "    .dataframe tbody tr th {\n",
       "        vertical-align: top;\n",
       "    }\n",
       "\n",
       "    .dataframe thead th {\n",
       "        text-align: right;\n",
       "    }\n",
       "</style>\n",
       "<table border=\"1\" class=\"dataframe\">\n",
       "  <thead>\n",
       "    <tr style=\"text-align: right;\">\n",
       "      <th></th>\n",
       "      <th>user_id</th>\n",
       "      <th>first_date</th>\n",
       "      <th>region</th>\n",
       "      <th>device</th>\n",
       "    </tr>\n",
       "  </thead>\n",
       "  <tbody>\n",
       "    <tr>\n",
       "      <td>0</td>\n",
       "      <td>D72A72121175D8BE</td>\n",
       "      <td>2020-12-07</td>\n",
       "      <td>EU</td>\n",
       "      <td>PC</td>\n",
       "    </tr>\n",
       "    <tr>\n",
       "      <td>1</td>\n",
       "      <td>F1C668619DFE6E65</td>\n",
       "      <td>2020-12-07</td>\n",
       "      <td>N.America</td>\n",
       "      <td>Android</td>\n",
       "    </tr>\n",
       "    <tr>\n",
       "      <td>2</td>\n",
       "      <td>2E1BF1D4C37EA01F</td>\n",
       "      <td>2020-12-07</td>\n",
       "      <td>EU</td>\n",
       "      <td>PC</td>\n",
       "    </tr>\n",
       "    <tr>\n",
       "      <td>3</td>\n",
       "      <td>50734A22C0C63768</td>\n",
       "      <td>2020-12-07</td>\n",
       "      <td>EU</td>\n",
       "      <td>iPhone</td>\n",
       "    </tr>\n",
       "    <tr>\n",
       "      <td>4</td>\n",
       "      <td>E1BDDCE0DAFA2679</td>\n",
       "      <td>2020-12-07</td>\n",
       "      <td>N.America</td>\n",
       "      <td>iPhone</td>\n",
       "    </tr>\n",
       "    <tr>\n",
       "      <td>5</td>\n",
       "      <td>137119F5A9E69421</td>\n",
       "      <td>2020-12-07</td>\n",
       "      <td>N.America</td>\n",
       "      <td>iPhone</td>\n",
       "    </tr>\n",
       "    <tr>\n",
       "      <td>6</td>\n",
       "      <td>62F0C741CC42D0CC</td>\n",
       "      <td>2020-12-07</td>\n",
       "      <td>APAC</td>\n",
       "      <td>iPhone</td>\n",
       "    </tr>\n",
       "    <tr>\n",
       "      <td>7</td>\n",
       "      <td>8942E64218C9A1ED</td>\n",
       "      <td>2020-12-07</td>\n",
       "      <td>EU</td>\n",
       "      <td>PC</td>\n",
       "    </tr>\n",
       "    <tr>\n",
       "      <td>8</td>\n",
       "      <td>499AFACF904BBAE3</td>\n",
       "      <td>2020-12-07</td>\n",
       "      <td>N.America</td>\n",
       "      <td>iPhone</td>\n",
       "    </tr>\n",
       "    <tr>\n",
       "      <td>9</td>\n",
       "      <td>FFCEA1179C253104</td>\n",
       "      <td>2020-12-07</td>\n",
       "      <td>EU</td>\n",
       "      <td>Android</td>\n",
       "    </tr>\n",
       "  </tbody>\n",
       "</table>\n",
       "</div>"
      ],
      "text/plain": [
       "            user_id  first_date     region   device\n",
       "0  D72A72121175D8BE  2020-12-07         EU       PC\n",
       "1  F1C668619DFE6E65  2020-12-07  N.America  Android\n",
       "2  2E1BF1D4C37EA01F  2020-12-07         EU       PC\n",
       "3  50734A22C0C63768  2020-12-07         EU   iPhone\n",
       "4  E1BDDCE0DAFA2679  2020-12-07  N.America   iPhone\n",
       "5  137119F5A9E69421  2020-12-07  N.America   iPhone\n",
       "6  62F0C741CC42D0CC  2020-12-07       APAC   iPhone\n",
       "7  8942E64218C9A1ED  2020-12-07         EU       PC\n",
       "8  499AFACF904BBAE3  2020-12-07  N.America   iPhone\n",
       "9  FFCEA1179C253104  2020-12-07         EU  Android"
      ]
     },
     "execution_count": 11,
     "metadata": {},
     "output_type": "execute_result"
    }
   ],
   "source": [
    "# importing the data file and turning it into a readable dataframe\n",
    "final_ab_new_users = pd.read_csv('/datasets/final_ab_new_users.csv')\n",
    "final_ab_new_users.head(10)"
   ]
  },
  {
   "cell_type": "code",
   "execution_count": 12,
   "metadata": {},
   "outputs": [
    {
     "name": "stdout",
     "output_type": "stream",
     "text": [
      "<class 'pandas.core.frame.DataFrame'>\n",
      "RangeIndex: 61733 entries, 0 to 61732\n",
      "Data columns (total 4 columns):\n",
      "user_id       61733 non-null object\n",
      "first_date    61733 non-null object\n",
      "region        61733 non-null object\n",
      "device        61733 non-null object\n",
      "dtypes: object(4)\n",
      "memory usage: 1.9+ MB\n"
     ]
    }
   ],
   "source": [
    "# checking the general information of the data\n",
    "final_ab_new_users.info()"
   ]
  },
  {
   "cell_type": "code",
   "execution_count": 13,
   "metadata": {},
   "outputs": [
    {
     "name": "stdout",
     "output_type": "stream",
     "text": [
      "<class 'pandas.core.frame.DataFrame'>\n",
      "RangeIndex: 61733 entries, 0 to 61732\n",
      "Data columns (total 4 columns):\n",
      "user_id       61733 non-null object\n",
      "first_date    61733 non-null datetime64[ns]\n",
      "region        61733 non-null category\n",
      "device        61733 non-null category\n",
      "dtypes: category(2), datetime64[ns](1), object(1)\n",
      "memory usage: 1.1+ MB\n"
     ]
    }
   ],
   "source": [
    "# changing the datetime info from object datatype to datetime datatype and region,device to category type to optimise the data\n",
    "final_ab_new_users['first_date'] = final_ab_new_users['first_date'].map(lambda x: dt.datetime.strptime(x, '%Y-%m-%d'))\n",
    "final_ab_new_users['region'] =  final_ab_new_users['region'].astype('category')\n",
    "final_ab_new_users['device'] =  final_ab_new_users['device'].astype('category')\n",
    "\n",
    "final_ab_new_users.info()"
   ]
  },
  {
   "cell_type": "code",
   "execution_count": 14,
   "metadata": {},
   "outputs": [
    {
     "data": {
      "text/plain": [
       "user_id       0\n",
       "first_date    0\n",
       "region        0\n",
       "device        0\n",
       "dtype: int64"
      ]
     },
     "execution_count": 14,
     "metadata": {},
     "output_type": "execute_result"
    }
   ],
   "source": [
    "# checking for any missing values in the dataset\n",
    "final_ab_new_users.isna().sum()"
   ]
  },
  {
   "cell_type": "code",
   "execution_count": 15,
   "metadata": {},
   "outputs": [
    {
     "data": {
      "text/plain": [
       "0"
      ]
     },
     "execution_count": 15,
     "metadata": {},
     "output_type": "execute_result"
    }
   ],
   "source": [
    "# checking for any duplicated values in the dataset\n",
    "final_ab_new_users.duplicated().sum()"
   ]
  },
  {
   "cell_type": "code",
   "execution_count": 16,
   "metadata": {},
   "outputs": [
    {
     "data": {
      "text/plain": [
       "EU           46270\n",
       "N.America     9155\n",
       "CIS           3155\n",
       "APAC          3153\n",
       "Name: region, dtype: int64"
      ]
     },
     "execution_count": 16,
     "metadata": {},
     "output_type": "execute_result"
    }
   ],
   "source": [
    "# checking the number of unique regions\n",
    "final_ab_new_users.region.value_counts()"
   ]
  },
  {
   "cell_type": "code",
   "execution_count": 17,
   "metadata": {},
   "outputs": [
    {
     "data": {
      "text/plain": [
       "Android    27520\n",
       "PC         15599\n",
       "iPhone     12530\n",
       "Mac         6084\n",
       "Name: device, dtype: int64"
      ]
     },
     "execution_count": 17,
     "metadata": {},
     "output_type": "execute_result"
    }
   ],
   "source": [
    "# checking the number of unique devices\n",
    "final_ab_new_users.device.value_counts()"
   ]
  },
  {
   "cell_type": "code",
   "execution_count": 18,
   "metadata": {},
   "outputs": [
    {
     "data": {
      "text/plain": [
       "0"
      ]
     },
     "execution_count": 18,
     "metadata": {},
     "output_type": "execute_result"
    }
   ],
   "source": [
    "# checking for any duplicated values in the dataset\n",
    "final_ab_new_users.duplicated().sum()"
   ]
  },
  {
   "cell_type": "code",
   "execution_count": 19,
   "metadata": {},
   "outputs": [
    {
     "data": {
      "text/html": [
       "<div>\n",
       "<style scoped>\n",
       "    .dataframe tbody tr th:only-of-type {\n",
       "        vertical-align: middle;\n",
       "    }\n",
       "\n",
       "    .dataframe tbody tr th {\n",
       "        vertical-align: top;\n",
       "    }\n",
       "\n",
       "    .dataframe thead th {\n",
       "        text-align: right;\n",
       "    }\n",
       "</style>\n",
       "<table border=\"1\" class=\"dataframe\">\n",
       "  <thead>\n",
       "    <tr style=\"text-align: right;\">\n",
       "      <th></th>\n",
       "      <th>name</th>\n",
       "      <th>regions</th>\n",
       "      <th>start_dt</th>\n",
       "      <th>finish_dt</th>\n",
       "    </tr>\n",
       "  </thead>\n",
       "  <tbody>\n",
       "    <tr>\n",
       "      <td>0</td>\n",
       "      <td>Christmas&amp;New Year Promo</td>\n",
       "      <td>EU, N.America</td>\n",
       "      <td>2020-12-25</td>\n",
       "      <td>2021-01-03</td>\n",
       "    </tr>\n",
       "    <tr>\n",
       "      <td>1</td>\n",
       "      <td>St. Valentine's Day Giveaway</td>\n",
       "      <td>EU, CIS, APAC, N.America</td>\n",
       "      <td>2020-02-14</td>\n",
       "      <td>2020-02-16</td>\n",
       "    </tr>\n",
       "    <tr>\n",
       "      <td>2</td>\n",
       "      <td>St. Patric's Day Promo</td>\n",
       "      <td>EU, N.America</td>\n",
       "      <td>2020-03-17</td>\n",
       "      <td>2020-03-19</td>\n",
       "    </tr>\n",
       "    <tr>\n",
       "      <td>3</td>\n",
       "      <td>Easter Promo</td>\n",
       "      <td>EU, CIS, APAC, N.America</td>\n",
       "      <td>2020-04-12</td>\n",
       "      <td>2020-04-19</td>\n",
       "    </tr>\n",
       "    <tr>\n",
       "      <td>4</td>\n",
       "      <td>4th of July Promo</td>\n",
       "      <td>N.America</td>\n",
       "      <td>2020-07-04</td>\n",
       "      <td>2020-07-11</td>\n",
       "    </tr>\n",
       "    <tr>\n",
       "      <td>5</td>\n",
       "      <td>Black Friday Ads Campaign</td>\n",
       "      <td>EU, CIS, APAC, N.America</td>\n",
       "      <td>2020-11-26</td>\n",
       "      <td>2020-12-01</td>\n",
       "    </tr>\n",
       "    <tr>\n",
       "      <td>6</td>\n",
       "      <td>Chinese New Year Promo</td>\n",
       "      <td>APAC</td>\n",
       "      <td>2020-01-25</td>\n",
       "      <td>2020-02-07</td>\n",
       "    </tr>\n",
       "    <tr>\n",
       "      <td>7</td>\n",
       "      <td>Labor day (May 1st) Ads Campaign</td>\n",
       "      <td>EU, CIS, APAC</td>\n",
       "      <td>2020-05-01</td>\n",
       "      <td>2020-05-03</td>\n",
       "    </tr>\n",
       "    <tr>\n",
       "      <td>8</td>\n",
       "      <td>International Women's Day Promo</td>\n",
       "      <td>EU, CIS, APAC</td>\n",
       "      <td>2020-03-08</td>\n",
       "      <td>2020-03-10</td>\n",
       "    </tr>\n",
       "    <tr>\n",
       "      <td>9</td>\n",
       "      <td>Victory Day CIS (May 9th) Event</td>\n",
       "      <td>CIS</td>\n",
       "      <td>2020-05-09</td>\n",
       "      <td>2020-05-11</td>\n",
       "    </tr>\n",
       "    <tr>\n",
       "      <td>10</td>\n",
       "      <td>CIS New Year Gift Lottery</td>\n",
       "      <td>CIS</td>\n",
       "      <td>2020-12-30</td>\n",
       "      <td>2021-01-07</td>\n",
       "    </tr>\n",
       "    <tr>\n",
       "      <td>11</td>\n",
       "      <td>Dragon Boat Festival Giveaway</td>\n",
       "      <td>APAC</td>\n",
       "      <td>2020-06-25</td>\n",
       "      <td>2020-07-01</td>\n",
       "    </tr>\n",
       "    <tr>\n",
       "      <td>12</td>\n",
       "      <td>Single's Day Gift Promo</td>\n",
       "      <td>APAC</td>\n",
       "      <td>2020-11-11</td>\n",
       "      <td>2020-11-12</td>\n",
       "    </tr>\n",
       "    <tr>\n",
       "      <td>13</td>\n",
       "      <td>Chinese Moon Festival</td>\n",
       "      <td>APAC</td>\n",
       "      <td>2020-10-01</td>\n",
       "      <td>2020-10-07</td>\n",
       "    </tr>\n",
       "  </tbody>\n",
       "</table>\n",
       "</div>"
      ],
      "text/plain": [
       "                                name                   regions    start_dt  \\\n",
       "0           Christmas&New Year Promo             EU, N.America  2020-12-25   \n",
       "1       St. Valentine's Day Giveaway  EU, CIS, APAC, N.America  2020-02-14   \n",
       "2             St. Patric's Day Promo             EU, N.America  2020-03-17   \n",
       "3                       Easter Promo  EU, CIS, APAC, N.America  2020-04-12   \n",
       "4                  4th of July Promo                 N.America  2020-07-04   \n",
       "5          Black Friday Ads Campaign  EU, CIS, APAC, N.America  2020-11-26   \n",
       "6             Chinese New Year Promo                      APAC  2020-01-25   \n",
       "7   Labor day (May 1st) Ads Campaign             EU, CIS, APAC  2020-05-01   \n",
       "8    International Women's Day Promo             EU, CIS, APAC  2020-03-08   \n",
       "9    Victory Day CIS (May 9th) Event                       CIS  2020-05-09   \n",
       "10         CIS New Year Gift Lottery                       CIS  2020-12-30   \n",
       "11     Dragon Boat Festival Giveaway                      APAC  2020-06-25   \n",
       "12           Single's Day Gift Promo                      APAC  2020-11-11   \n",
       "13             Chinese Moon Festival                      APAC  2020-10-01   \n",
       "\n",
       "     finish_dt  \n",
       "0   2021-01-03  \n",
       "1   2020-02-16  \n",
       "2   2020-03-19  \n",
       "3   2020-04-19  \n",
       "4   2020-07-11  \n",
       "5   2020-12-01  \n",
       "6   2020-02-07  \n",
       "7   2020-05-03  \n",
       "8   2020-03-10  \n",
       "9   2020-05-11  \n",
       "10  2021-01-07  \n",
       "11  2020-07-01  \n",
       "12  2020-11-12  \n",
       "13  2020-10-07  "
      ]
     },
     "execution_count": 19,
     "metadata": {},
     "output_type": "execute_result"
    }
   ],
   "source": [
    "# importing the data file and turning it into a readable dataframe\n",
    "ab_project_marketing_events = pd.read_csv('/datasets/ab_project_marketing_events_us.csv')\n",
    "ab_project_marketing_events"
   ]
  },
  {
   "cell_type": "code",
   "execution_count": 20,
   "metadata": {},
   "outputs": [
    {
     "name": "stdout",
     "output_type": "stream",
     "text": [
      "<class 'pandas.core.frame.DataFrame'>\n",
      "RangeIndex: 14 entries, 0 to 13\n",
      "Data columns (total 4 columns):\n",
      "name         14 non-null object\n",
      "regions      14 non-null object\n",
      "start_dt     14 non-null object\n",
      "finish_dt    14 non-null object\n",
      "dtypes: object(4)\n",
      "memory usage: 576.0+ bytes\n"
     ]
    }
   ],
   "source": [
    "# checking the general information of the data\n",
    "ab_project_marketing_events.info()"
   ]
  },
  {
   "cell_type": "code",
   "execution_count": 21,
   "metadata": {},
   "outputs": [
    {
     "name": "stdout",
     "output_type": "stream",
     "text": [
      "<class 'pandas.core.frame.DataFrame'>\n",
      "RangeIndex: 14 entries, 0 to 13\n",
      "Data columns (total 4 columns):\n",
      "name         14 non-null object\n",
      "regions      14 non-null object\n",
      "start_dt     14 non-null datetime64[ns]\n",
      "finish_dt    14 non-null datetime64[ns]\n",
      "dtypes: datetime64[ns](2), object(2)\n",
      "memory usage: 576.0+ bytes\n"
     ]
    }
   ],
   "source": [
    "# changing the datetime info from object datatype to datetime datatype to optimise the data\n",
    "ab_project_marketing_events['start_dt'] = ab_project_marketing_events['start_dt'].map(\n",
    "                                                                                lambda x: dt.datetime.strptime(x, '%Y-%m-%d'))\n",
    "ab_project_marketing_events['finish_dt'] = ab_project_marketing_events['finish_dt'].map(\n",
    "                                                                                lambda x: dt.datetime.strptime(x, '%Y-%m-%d'))\n",
    "\n",
    "ab_project_marketing_events.info()"
   ]
  },
  {
   "cell_type": "code",
   "execution_count": 22,
   "metadata": {},
   "outputs": [
    {
     "data": {
      "text/plain": [
       "name         0\n",
       "regions      0\n",
       "start_dt     0\n",
       "finish_dt    0\n",
       "dtype: int64"
      ]
     },
     "execution_count": 22,
     "metadata": {},
     "output_type": "execute_result"
    }
   ],
   "source": [
    "# checking for any missing values in the dataset\n",
    "ab_project_marketing_events.isna().sum()"
   ]
  },
  {
   "cell_type": "code",
   "execution_count": 23,
   "metadata": {},
   "outputs": [
    {
     "data": {
      "text/plain": [
       "APAC                        4\n",
       "EU, CIS, APAC, N.America    3\n",
       "CIS                         2\n",
       "EU, CIS, APAC               2\n",
       "EU, N.America               2\n",
       "N.America                   1\n",
       "Name: regions, dtype: int64"
      ]
     },
     "execution_count": 23,
     "metadata": {},
     "output_type": "execute_result"
    }
   ],
   "source": [
    "# checking for number of unique regions\n",
    "ab_project_marketing_events.regions.value_counts()"
   ]
  },
  {
   "cell_type": "code",
   "execution_count": 24,
   "metadata": {},
   "outputs": [
    {
     "data": {
      "text/plain": [
       "0"
      ]
     },
     "execution_count": 24,
     "metadata": {},
     "output_type": "execute_result"
    }
   ],
   "source": [
    "# checking for any duplicated values in the dataset\n",
    "ab_project_marketing_events.duplicated().sum()"
   ]
  },
  {
   "cell_type": "code",
   "execution_count": 25,
   "metadata": {},
   "outputs": [
    {
     "data": {
      "text/html": [
       "<div>\n",
       "<style scoped>\n",
       "    .dataframe tbody tr th:only-of-type {\n",
       "        vertical-align: middle;\n",
       "    }\n",
       "\n",
       "    .dataframe tbody tr th {\n",
       "        vertical-align: top;\n",
       "    }\n",
       "\n",
       "    .dataframe thead th {\n",
       "        text-align: right;\n",
       "    }\n",
       "</style>\n",
       "<table border=\"1\" class=\"dataframe\">\n",
       "  <thead>\n",
       "    <tr style=\"text-align: right;\">\n",
       "      <th></th>\n",
       "      <th>user_id</th>\n",
       "      <th>group</th>\n",
       "      <th>ab_test</th>\n",
       "    </tr>\n",
       "  </thead>\n",
       "  <tbody>\n",
       "    <tr>\n",
       "      <td>0</td>\n",
       "      <td>D1ABA3E2887B6A73</td>\n",
       "      <td>A</td>\n",
       "      <td>recommender_system_test</td>\n",
       "    </tr>\n",
       "    <tr>\n",
       "      <td>1</td>\n",
       "      <td>A7A3664BD6242119</td>\n",
       "      <td>A</td>\n",
       "      <td>recommender_system_test</td>\n",
       "    </tr>\n",
       "    <tr>\n",
       "      <td>2</td>\n",
       "      <td>DABC14FDDFADD29E</td>\n",
       "      <td>A</td>\n",
       "      <td>recommender_system_test</td>\n",
       "    </tr>\n",
       "    <tr>\n",
       "      <td>3</td>\n",
       "      <td>04988C5DF189632E</td>\n",
       "      <td>A</td>\n",
       "      <td>recommender_system_test</td>\n",
       "    </tr>\n",
       "    <tr>\n",
       "      <td>4</td>\n",
       "      <td>482F14783456D21B</td>\n",
       "      <td>B</td>\n",
       "      <td>recommender_system_test</td>\n",
       "    </tr>\n",
       "    <tr>\n",
       "      <td>5</td>\n",
       "      <td>4FF2998A348C484F</td>\n",
       "      <td>A</td>\n",
       "      <td>recommender_system_test</td>\n",
       "    </tr>\n",
       "    <tr>\n",
       "      <td>6</td>\n",
       "      <td>7473E0943673C09E</td>\n",
       "      <td>A</td>\n",
       "      <td>recommender_system_test</td>\n",
       "    </tr>\n",
       "    <tr>\n",
       "      <td>7</td>\n",
       "      <td>C46FE336D240A054</td>\n",
       "      <td>A</td>\n",
       "      <td>recommender_system_test</td>\n",
       "    </tr>\n",
       "    <tr>\n",
       "      <td>8</td>\n",
       "      <td>92CB588012C10D3D</td>\n",
       "      <td>A</td>\n",
       "      <td>recommender_system_test</td>\n",
       "    </tr>\n",
       "    <tr>\n",
       "      <td>9</td>\n",
       "      <td>057AB296296C7FC0</td>\n",
       "      <td>B</td>\n",
       "      <td>recommender_system_test</td>\n",
       "    </tr>\n",
       "  </tbody>\n",
       "</table>\n",
       "</div>"
      ],
      "text/plain": [
       "            user_id group                  ab_test\n",
       "0  D1ABA3E2887B6A73     A  recommender_system_test\n",
       "1  A7A3664BD6242119     A  recommender_system_test\n",
       "2  DABC14FDDFADD29E     A  recommender_system_test\n",
       "3  04988C5DF189632E     A  recommender_system_test\n",
       "4  482F14783456D21B     B  recommender_system_test\n",
       "5  4FF2998A348C484F     A  recommender_system_test\n",
       "6  7473E0943673C09E     A  recommender_system_test\n",
       "7  C46FE336D240A054     A  recommender_system_test\n",
       "8  92CB588012C10D3D     A  recommender_system_test\n",
       "9  057AB296296C7FC0     B  recommender_system_test"
      ]
     },
     "execution_count": 25,
     "metadata": {},
     "output_type": "execute_result"
    }
   ],
   "source": [
    "# importing the data file and turning it into a readable dataframe\n",
    "final_ab_participants = pd.read_csv('/datasets/final_ab_participants.csv')\n",
    "final_ab_participants.head(10)"
   ]
  },
  {
   "cell_type": "code",
   "execution_count": 26,
   "metadata": {},
   "outputs": [
    {
     "name": "stdout",
     "output_type": "stream",
     "text": [
      "<class 'pandas.core.frame.DataFrame'>\n",
      "RangeIndex: 18268 entries, 0 to 18267\n",
      "Data columns (total 3 columns):\n",
      "user_id    18268 non-null object\n",
      "group      18268 non-null object\n",
      "ab_test    18268 non-null object\n",
      "dtypes: object(3)\n",
      "memory usage: 428.3+ KB\n"
     ]
    }
   ],
   "source": [
    "# getting the general info of the data\n",
    "final_ab_participants.info()"
   ]
  },
  {
   "cell_type": "code",
   "execution_count": 27,
   "metadata": {},
   "outputs": [],
   "source": [
    "# changing the ab_test to category type to optimise the data\n",
    "final_ab_participants['ab_test'] = final_ab_participants['ab_test'].astype('category')\n"
   ]
  },
  {
   "cell_type": "code",
   "execution_count": 28,
   "metadata": {},
   "outputs": [
    {
     "data": {
      "text/plain": [
       "user_id    0\n",
       "group      0\n",
       "ab_test    0\n",
       "dtype: int64"
      ]
     },
     "execution_count": 28,
     "metadata": {},
     "output_type": "execute_result"
    }
   ],
   "source": [
    "# checking for any missing values in the dataset\n",
    "final_ab_participants.isna().sum()"
   ]
  },
  {
   "cell_type": "code",
   "execution_count": 29,
   "metadata": {},
   "outputs": [
    {
     "data": {
      "text/plain": [
       "A    9655\n",
       "B    8613\n",
       "Name: group, dtype: int64"
      ]
     },
     "execution_count": 29,
     "metadata": {},
     "output_type": "execute_result"
    }
   ],
   "source": [
    "# checking for number of unique group\n",
    "final_ab_participants. group.value_counts()"
   ]
  },
  {
   "cell_type": "code",
   "execution_count": 30,
   "metadata": {},
   "outputs": [
    {
     "data": {
      "text/plain": [
       "interface_eu_test          11567\n",
       "recommender_system_test     6701\n",
       "Name: ab_test, dtype: int64"
      ]
     },
     "execution_count": 30,
     "metadata": {},
     "output_type": "execute_result"
    }
   ],
   "source": [
    "# checking for number of unique ab_test\n",
    "final_ab_participants.ab_test.value_counts()"
   ]
  },
  {
   "cell_type": "code",
   "execution_count": 31,
   "metadata": {},
   "outputs": [
    {
     "data": {
      "text/plain": [
       "0"
      ]
     },
     "execution_count": 31,
     "metadata": {},
     "output_type": "execute_result"
    }
   ],
   "source": [
    "# checking for any duplicated values in the dataset\n",
    "final_ab_participants.duplicated().sum()"
   ]
  },
  {
   "cell_type": "code",
   "execution_count": 32,
   "metadata": {},
   "outputs": [
    {
     "data": {
      "text/plain": [
       "1    15890\n",
       "2      776\n",
       "Name: group, dtype: int64"
      ]
     },
     "execution_count": 32,
     "metadata": {},
     "output_type": "execute_result"
    }
   ],
   "source": [
    "# checking if there are any repeated users in groups \n",
    "final_ab_participants.groupby('user_id')['group'].nunique().value_counts()"
   ]
  },
  {
   "cell_type": "code",
   "execution_count": 33,
   "metadata": {},
   "outputs": [
    {
     "data": {
      "text/plain": [
       "1    15064\n",
       "2     1602\n",
       "Name: ab_test, dtype: int64"
      ]
     },
     "execution_count": 33,
     "metadata": {},
     "output_type": "execute_result"
    }
   ],
   "source": [
    "# checking if there are any repeated users in ab_test columns\n",
    "final_ab_participants.groupby('user_id')['ab_test'].nunique().value_counts()"
   ]
  },
  {
   "cell_type": "code",
   "execution_count": 34,
   "metadata": {},
   "outputs": [],
   "source": [
    "# creating new dataframes from the final_ab_participants dataset based on the type of ab_test\n",
    "interface_eu_test = final_ab_participants.query('ab_test == \"interface_eu_test\" ')\n",
    "recommender_system_test = final_ab_participants.query('ab_test == \"recommender_system_test\" ')"
   ]
  },
  {
   "cell_type": "code",
   "execution_count": 35,
   "metadata": {},
   "outputs": [
    {
     "data": {
      "text/plain": [
       "1    11567\n",
       "Name: group, dtype: int64"
      ]
     },
     "execution_count": 35,
     "metadata": {},
     "output_type": "execute_result"
    }
   ],
   "source": [
    "# checking if there are any mixed users in this ab_test\n",
    "interface_eu_test.groupby('user_id')['group'].nunique().value_counts()"
   ]
  },
  {
   "cell_type": "code",
   "execution_count": 36,
   "metadata": {},
   "outputs": [
    {
     "data": {
      "text/plain": [
       "1    6701\n",
       "Name: group, dtype: int64"
      ]
     },
     "execution_count": 36,
     "metadata": {},
     "output_type": "execute_result"
    }
   ],
   "source": [
    "# checking if there are any mixed users in this ab_test\n",
    "recommender_system_test.groupby('user_id')['group'].nunique().value_counts()"
   ]
  },
  {
   "cell_type": "markdown",
   "metadata": {},
   "source": [
    "### Conclusion :"
   ]
  },
  {
   "cell_type": "markdown",
   "metadata": {},
   "source": [
    "There are 4 dataset that have be downloaded into 4 different dataframes which can be stated as below:\n",
    "\n",
    "- `ab_project_marketing_events_us.csv` — the calendar of marketing events for 2020\n",
    "- `final_ab_new_users_upd_us.csv` — all users who signed up in the online store from December 7 to 21, 2020\n",
    "- `final_ab_events_upd_us.csv` — all events of the new users within the period from December 7, 2020 to January 1, 2021\n",
    "- `final_ab_participants_upd_us.csv` — table containing test participants\n",
    "\n",
    "The following pre processing has been done to the data:\n",
    "\n",
    "1. The date column datatype has be modified as datetime for all the datasets and few other categorical columns have been put under category datatype. \n",
    "\n",
    "2. There were no missing values reported in any of the dataframes except for the 'details' column in the final_ab_events dataframe which has 363447 missing values, which certainly may be due to the fact that not all users who login and search for products end up making purchases.\n",
    "\n",
    "3. There were no duplicate values reported in any of the dataframes except for the final_ab_participants dataframe that too specifically in the group and ab_test columns, this may be due to the reason that repeated usrs in group A may be users who belong to both the tests or vice versa so for our further analysis I separated the users based on type of ab_test and no mixed users were found.\n",
    "\n"
   ]
  },
  {
   "cell_type": "markdown",
   "metadata": {},
   "source": [
    "## Exploratory data analysis"
   ]
  },
  {
   "cell_type": "code",
   "execution_count": 37,
   "metadata": {},
   "outputs": [
    {
     "data": {
      "text/html": [
       "<div>\n",
       "<style scoped>\n",
       "    .dataframe tbody tr th:only-of-type {\n",
       "        vertical-align: middle;\n",
       "    }\n",
       "\n",
       "    .dataframe tbody tr th {\n",
       "        vertical-align: top;\n",
       "    }\n",
       "\n",
       "    .dataframe thead th {\n",
       "        text-align: right;\n",
       "    }\n",
       "</style>\n",
       "<table border=\"1\" class=\"dataframe\">\n",
       "  <thead>\n",
       "    <tr style=\"text-align: right;\">\n",
       "      <th></th>\n",
       "      <th>user_id</th>\n",
       "      <th>group</th>\n",
       "      <th>ab_test</th>\n",
       "      <th>event_dt</th>\n",
       "      <th>event_name</th>\n",
       "      <th>details</th>\n",
       "      <th>first_date</th>\n",
       "      <th>region</th>\n",
       "      <th>device</th>\n",
       "    </tr>\n",
       "  </thead>\n",
       "  <tbody>\n",
       "    <tr>\n",
       "      <td>48995</td>\n",
       "      <td>270C15B8038401DF</td>\n",
       "      <td>B</td>\n",
       "      <td>interface_eu_test</td>\n",
       "      <td>2020-12-09 19:57:56</td>\n",
       "      <td>login</td>\n",
       "      <td>NaN</td>\n",
       "      <td>2020-12-09</td>\n",
       "      <td>EU</td>\n",
       "      <td>Android</td>\n",
       "    </tr>\n",
       "    <tr>\n",
       "      <td>12473</td>\n",
       "      <td>74AB5D17BBFD29C1</td>\n",
       "      <td>B</td>\n",
       "      <td>interface_eu_test</td>\n",
       "      <td>2020-12-19 23:29:03</td>\n",
       "      <td>product_page</td>\n",
       "      <td>NaN</td>\n",
       "      <td>2020-12-12</td>\n",
       "      <td>EU</td>\n",
       "      <td>Android</td>\n",
       "    </tr>\n",
       "    <tr>\n",
       "      <td>63978</td>\n",
       "      <td>BF1EB8E6FA3F19B8</td>\n",
       "      <td>A</td>\n",
       "      <td>interface_eu_test</td>\n",
       "      <td>2020-12-15 19:02:04</td>\n",
       "      <td>login</td>\n",
       "      <td>NaN</td>\n",
       "      <td>2020-12-14</td>\n",
       "      <td>EU</td>\n",
       "      <td>Mac</td>\n",
       "    </tr>\n",
       "    <tr>\n",
       "      <td>20564</td>\n",
       "      <td>4ECF99ABEDE1125A</td>\n",
       "      <td>B</td>\n",
       "      <td>interface_eu_test</td>\n",
       "      <td>2020-12-26 10:25:19</td>\n",
       "      <td>purchase</td>\n",
       "      <td>4.99</td>\n",
       "      <td>2020-12-23</td>\n",
       "      <td>EU</td>\n",
       "      <td>Android</td>\n",
       "    </tr>\n",
       "    <tr>\n",
       "      <td>13861</td>\n",
       "      <td>79B52A43517478A4</td>\n",
       "      <td>A</td>\n",
       "      <td>interface_eu_test</td>\n",
       "      <td>2020-12-28 09:47:11</td>\n",
       "      <td>login</td>\n",
       "      <td>NaN</td>\n",
       "      <td>2020-12-18</td>\n",
       "      <td>EU</td>\n",
       "      <td>Android</td>\n",
       "    </tr>\n",
       "    <tr>\n",
       "      <td>23214</td>\n",
       "      <td>A5BB1CE41EB0B593</td>\n",
       "      <td>A</td>\n",
       "      <td>interface_eu_test</td>\n",
       "      <td>2020-12-11 17:38:26</td>\n",
       "      <td>login</td>\n",
       "      <td>NaN</td>\n",
       "      <td>2020-12-11</td>\n",
       "      <td>EU</td>\n",
       "      <td>Mac</td>\n",
       "    </tr>\n",
       "    <tr>\n",
       "      <td>77007</td>\n",
       "      <td>6CD5E479DA719109</td>\n",
       "      <td>A</td>\n",
       "      <td>interface_eu_test</td>\n",
       "      <td>2020-12-18 16:39:34</td>\n",
       "      <td>product_page</td>\n",
       "      <td>NaN</td>\n",
       "      <td>2020-12-12</td>\n",
       "      <td>EU</td>\n",
       "      <td>PC</td>\n",
       "    </tr>\n",
       "    <tr>\n",
       "      <td>45491</td>\n",
       "      <td>D93F8CBCFD4398C6</td>\n",
       "      <td>A</td>\n",
       "      <td>interface_eu_test</td>\n",
       "      <td>2020-12-12 06:34:21</td>\n",
       "      <td>purchase</td>\n",
       "      <td>9.99</td>\n",
       "      <td>2020-12-12</td>\n",
       "      <td>EU</td>\n",
       "      <td>iPhone</td>\n",
       "    </tr>\n",
       "    <tr>\n",
       "      <td>47035</td>\n",
       "      <td>3A622AABBE5F8F35</td>\n",
       "      <td>A</td>\n",
       "      <td>interface_eu_test</td>\n",
       "      <td>2020-12-23 19:29:06</td>\n",
       "      <td>login</td>\n",
       "      <td>NaN</td>\n",
       "      <td>2020-12-21</td>\n",
       "      <td>EU</td>\n",
       "      <td>PC</td>\n",
       "    </tr>\n",
       "    <tr>\n",
       "      <td>20476</td>\n",
       "      <td>5B8A6769C6F91EFF</td>\n",
       "      <td>B</td>\n",
       "      <td>interface_eu_test</td>\n",
       "      <td>2020-12-15 05:56:37</td>\n",
       "      <td>login</td>\n",
       "      <td>NaN</td>\n",
       "      <td>2020-12-15</td>\n",
       "      <td>EU</td>\n",
       "      <td>iPhone</td>\n",
       "    </tr>\n",
       "  </tbody>\n",
       "</table>\n",
       "</div>"
      ],
      "text/plain": [
       "                user_id group            ab_test            event_dt  \\\n",
       "48995  270C15B8038401DF     B  interface_eu_test 2020-12-09 19:57:56   \n",
       "12473  74AB5D17BBFD29C1     B  interface_eu_test 2020-12-19 23:29:03   \n",
       "63978  BF1EB8E6FA3F19B8     A  interface_eu_test 2020-12-15 19:02:04   \n",
       "20564  4ECF99ABEDE1125A     B  interface_eu_test 2020-12-26 10:25:19   \n",
       "13861  79B52A43517478A4     A  interface_eu_test 2020-12-28 09:47:11   \n",
       "23214  A5BB1CE41EB0B593     A  interface_eu_test 2020-12-11 17:38:26   \n",
       "77007  6CD5E479DA719109     A  interface_eu_test 2020-12-18 16:39:34   \n",
       "45491  D93F8CBCFD4398C6     A  interface_eu_test 2020-12-12 06:34:21   \n",
       "47035  3A622AABBE5F8F35     A  interface_eu_test 2020-12-23 19:29:06   \n",
       "20476  5B8A6769C6F91EFF     B  interface_eu_test 2020-12-15 05:56:37   \n",
       "\n",
       "         event_name  details first_date region   device  \n",
       "48995         login      NaN 2020-12-09     EU  Android  \n",
       "12473  product_page      NaN 2020-12-12     EU  Android  \n",
       "63978         login      NaN 2020-12-14     EU      Mac  \n",
       "20564      purchase     4.99 2020-12-23     EU  Android  \n",
       "13861         login      NaN 2020-12-18     EU  Android  \n",
       "23214         login      NaN 2020-12-11     EU      Mac  \n",
       "77007  product_page      NaN 2020-12-12     EU       PC  \n",
       "45491      purchase     9.99 2020-12-12     EU   iPhone  \n",
       "47035         login      NaN 2020-12-21     EU       PC  \n",
       "20476         login      NaN 2020-12-15     EU   iPhone  "
      ]
     },
     "execution_count": 37,
     "metadata": {},
     "output_type": "execute_result"
    }
   ],
   "source": [
    "# merging 3 dataframes interface_eu_test, final_ab_events, final_ab_new_users inorder to get complete data on users of \n",
    "# interface_eu_test\n",
    "interface_test_data  = interface_eu_test.merge(\n",
    "                    final_ab_events,\n",
    "                    how='left', \n",
    "                    left_on='user_id',\n",
    "                    right_on='user_id').merge(\n",
    "                                            final_ab_new_users,\n",
    "                                            how='left', \n",
    "                                            left_on='user_id',\n",
    "                                            right_on='user_id')\n",
    "interface_test_data.sample(10)"
   ]
  },
  {
   "cell_type": "code",
   "execution_count": 38,
   "metadata": {},
   "outputs": [
    {
     "data": {
      "text/html": [
       "<div>\n",
       "<style scoped>\n",
       "    .dataframe tbody tr th:only-of-type {\n",
       "        vertical-align: middle;\n",
       "    }\n",
       "\n",
       "    .dataframe tbody tr th {\n",
       "        vertical-align: top;\n",
       "    }\n",
       "\n",
       "    .dataframe thead th {\n",
       "        text-align: right;\n",
       "    }\n",
       "</style>\n",
       "<table border=\"1\" class=\"dataframe\">\n",
       "  <thead>\n",
       "    <tr style=\"text-align: right;\">\n",
       "      <th></th>\n",
       "      <th>user_id</th>\n",
       "      <th>group</th>\n",
       "      <th>ab_test</th>\n",
       "      <th>event_dt</th>\n",
       "      <th>event_name</th>\n",
       "      <th>details</th>\n",
       "      <th>first_date</th>\n",
       "      <th>region</th>\n",
       "      <th>device</th>\n",
       "    </tr>\n",
       "  </thead>\n",
       "  <tbody>\n",
       "    <tr>\n",
       "      <td>6895</td>\n",
       "      <td>5710EDF8BA684005</td>\n",
       "      <td>B</td>\n",
       "      <td>recommender_system_test</td>\n",
       "      <td>2020-12-16 13:19:26</td>\n",
       "      <td>login</td>\n",
       "      <td>NaN</td>\n",
       "      <td>2020-12-16</td>\n",
       "      <td>EU</td>\n",
       "      <td>Android</td>\n",
       "    </tr>\n",
       "    <tr>\n",
       "      <td>7703</td>\n",
       "      <td>2A167B851A3FB08E</td>\n",
       "      <td>A</td>\n",
       "      <td>recommender_system_test</td>\n",
       "      <td>2020-12-20 21:20:16</td>\n",
       "      <td>login</td>\n",
       "      <td>NaN</td>\n",
       "      <td>2020-12-18</td>\n",
       "      <td>EU</td>\n",
       "      <td>Android</td>\n",
       "    </tr>\n",
       "    <tr>\n",
       "      <td>20202</td>\n",
       "      <td>A13A9A1B54CAEB4B</td>\n",
       "      <td>A</td>\n",
       "      <td>recommender_system_test</td>\n",
       "      <td>2020-12-29 14:59:38</td>\n",
       "      <td>login</td>\n",
       "      <td>NaN</td>\n",
       "      <td>2020-12-17</td>\n",
       "      <td>EU</td>\n",
       "      <td>PC</td>\n",
       "    </tr>\n",
       "    <tr>\n",
       "      <td>17337</td>\n",
       "      <td>8069A6A5ED6E6D47</td>\n",
       "      <td>A</td>\n",
       "      <td>recommender_system_test</td>\n",
       "      <td>2020-12-20 12:30:55</td>\n",
       "      <td>purchase</td>\n",
       "      <td>9.99</td>\n",
       "      <td>2020-12-20</td>\n",
       "      <td>EU</td>\n",
       "      <td>PC</td>\n",
       "    </tr>\n",
       "    <tr>\n",
       "      <td>22624</td>\n",
       "      <td>C50CBD7B62641D4D</td>\n",
       "      <td>A</td>\n",
       "      <td>recommender_system_test</td>\n",
       "      <td>2020-12-22 22:08:22</td>\n",
       "      <td>login</td>\n",
       "      <td>NaN</td>\n",
       "      <td>2020-12-20</td>\n",
       "      <td>EU</td>\n",
       "      <td>iPhone</td>\n",
       "    </tr>\n",
       "    <tr>\n",
       "      <td>3145</td>\n",
       "      <td>B373E9CB6566BAFF</td>\n",
       "      <td>A</td>\n",
       "      <td>recommender_system_test</td>\n",
       "      <td>2020-12-23 17:27:58</td>\n",
       "      <td>login</td>\n",
       "      <td>NaN</td>\n",
       "      <td>2020-12-21</td>\n",
       "      <td>EU</td>\n",
       "      <td>Android</td>\n",
       "    </tr>\n",
       "    <tr>\n",
       "      <td>172</td>\n",
       "      <td>4A6379A636FDF483</td>\n",
       "      <td>A</td>\n",
       "      <td>recommender_system_test</td>\n",
       "      <td>NaT</td>\n",
       "      <td>NaN</td>\n",
       "      <td>NaN</td>\n",
       "      <td>2020-12-07</td>\n",
       "      <td>EU</td>\n",
       "      <td>PC</td>\n",
       "    </tr>\n",
       "    <tr>\n",
       "      <td>25831</td>\n",
       "      <td>507055565BFD6E97</td>\n",
       "      <td>A</td>\n",
       "      <td>recommender_system_test</td>\n",
       "      <td>2020-12-07 07:34:33</td>\n",
       "      <td>login</td>\n",
       "      <td>NaN</td>\n",
       "      <td>2020-12-07</td>\n",
       "      <td>CIS</td>\n",
       "      <td>iPhone</td>\n",
       "    </tr>\n",
       "    <tr>\n",
       "      <td>8732</td>\n",
       "      <td>147C62E5B82E2EA9</td>\n",
       "      <td>A</td>\n",
       "      <td>recommender_system_test</td>\n",
       "      <td>2020-12-17 22:24:01</td>\n",
       "      <td>product_page</td>\n",
       "      <td>NaN</td>\n",
       "      <td>2020-12-14</td>\n",
       "      <td>EU</td>\n",
       "      <td>Android</td>\n",
       "    </tr>\n",
       "    <tr>\n",
       "      <td>16638</td>\n",
       "      <td>02B66A338F0137EE</td>\n",
       "      <td>A</td>\n",
       "      <td>recommender_system_test</td>\n",
       "      <td>2020-12-20 16:06:03</td>\n",
       "      <td>product_page</td>\n",
       "      <td>NaN</td>\n",
       "      <td>2020-12-20</td>\n",
       "      <td>EU</td>\n",
       "      <td>PC</td>\n",
       "    </tr>\n",
       "  </tbody>\n",
       "</table>\n",
       "</div>"
      ],
      "text/plain": [
       "                user_id group                  ab_test            event_dt  \\\n",
       "6895   5710EDF8BA684005     B  recommender_system_test 2020-12-16 13:19:26   \n",
       "7703   2A167B851A3FB08E     A  recommender_system_test 2020-12-20 21:20:16   \n",
       "20202  A13A9A1B54CAEB4B     A  recommender_system_test 2020-12-29 14:59:38   \n",
       "17337  8069A6A5ED6E6D47     A  recommender_system_test 2020-12-20 12:30:55   \n",
       "22624  C50CBD7B62641D4D     A  recommender_system_test 2020-12-22 22:08:22   \n",
       "3145   B373E9CB6566BAFF     A  recommender_system_test 2020-12-23 17:27:58   \n",
       "172    4A6379A636FDF483     A  recommender_system_test                 NaT   \n",
       "25831  507055565BFD6E97     A  recommender_system_test 2020-12-07 07:34:33   \n",
       "8732   147C62E5B82E2EA9     A  recommender_system_test 2020-12-17 22:24:01   \n",
       "16638  02B66A338F0137EE     A  recommender_system_test 2020-12-20 16:06:03   \n",
       "\n",
       "         event_name  details first_date region   device  \n",
       "6895          login      NaN 2020-12-16     EU  Android  \n",
       "7703          login      NaN 2020-12-18     EU  Android  \n",
       "20202         login      NaN 2020-12-17     EU       PC  \n",
       "17337      purchase     9.99 2020-12-20     EU       PC  \n",
       "22624         login      NaN 2020-12-20     EU   iPhone  \n",
       "3145          login      NaN 2020-12-21     EU  Android  \n",
       "172             NaN      NaN 2020-12-07     EU       PC  \n",
       "25831         login      NaN 2020-12-07    CIS   iPhone  \n",
       "8732   product_page      NaN 2020-12-14     EU  Android  \n",
       "16638  product_page      NaN 2020-12-20     EU       PC  "
      ]
     },
     "execution_count": 38,
     "metadata": {},
     "output_type": "execute_result"
    }
   ],
   "source": [
    "# merging 3 dataframes recommender_system_test, final_ab_events, final_ab_new_users inorder to get complete data on users of \n",
    "# recommender_system_test\n",
    "recommender_test_data = recommender_system_test.merge(\n",
    "                    final_ab_events,\n",
    "                    how='left', \n",
    "                    left_on='user_id',\n",
    "                    right_on='user_id').merge(\n",
    "                                            final_ab_new_users,\n",
    "                                            how='left', \n",
    "                                            left_on='user_id',\n",
    "                                            right_on='user_id')\n",
    "recommender_test_data.sample(10)"
   ]
  },
  {
   "cell_type": "code",
   "execution_count": 39,
   "metadata": {},
   "outputs": [
    {
     "data": {
      "text/plain": [
       "user_id           0\n",
       "group             0\n",
       "ab_test           0\n",
       "event_dt        717\n",
       "event_name      717\n",
       "details       68002\n",
       "first_date        0\n",
       "region            0\n",
       "device            0\n",
       "dtype: int64"
      ]
     },
     "execution_count": 39,
     "metadata": {},
     "output_type": "execute_result"
    }
   ],
   "source": [
    "# checking for any missing values in the dataframe\n",
    "interface_test_data.isna().sum()"
   ]
  },
  {
   "cell_type": "code",
   "execution_count": 40,
   "metadata": {},
   "outputs": [
    {
     "data": {
      "text/plain": [
       "user_id           0\n",
       "group             0\n",
       "ab_test           0\n",
       "event_dt       3026\n",
       "event_name     3026\n",
       "details       23725\n",
       "first_date        0\n",
       "region            0\n",
       "device            0\n",
       "dtype: int64"
      ]
     },
     "execution_count": 40,
     "metadata": {},
     "output_type": "execute_result"
    }
   ],
   "source": [
    "# checking for any missing values in the dataframe\n",
    "recommender_test_data.isna().sum()"
   ]
  },
  {
   "cell_type": "markdown",
   "metadata": {},
   "source": [
    "The 'details' column in both the test dataframes have missing values, which certainly may be due to the fact that not all users who login and search for products end up making purchases. Also the 'event_dt' and 'event_name' columns in both ab_tests have missing values too. It's unfortunate that the users that have been registered in the tests didn't make any resulted events may be they just left the site right at the beginning."
   ]
  },
  {
   "cell_type": "markdown",
   "metadata": {},
   "source": [
    "### Finding out number of unique users in each ab_test"
   ]
  },
  {
   "cell_type": "code",
   "execution_count": 41,
   "metadata": {},
   "outputs": [
    {
     "data": {
      "text/plain": [
       "11567"
      ]
     },
     "execution_count": 41,
     "metadata": {},
     "output_type": "execute_result"
    }
   ],
   "source": [
    "# checking for number of unique users in the dataframe\n",
    "interface_test_data.user_id.nunique()"
   ]
  },
  {
   "cell_type": "code",
   "execution_count": 42,
   "metadata": {},
   "outputs": [
    {
     "data": {
      "text/plain": [
       "6701"
      ]
     },
     "execution_count": 42,
     "metadata": {},
     "output_type": "execute_result"
    }
   ],
   "source": [
    "# checking for number of unique users in the dataframe\n",
    "recommender_test_data.user_id.nunique()"
   ]
  },
  {
   "cell_type": "markdown",
   "metadata": {},
   "source": [
    "There are 11567 unique users in the interface ab_test and 6701 users in the recommender_system ab_test. But out of 11567 users signed up for the interface test 717 users and out of 6701 users signed up for the recommender_system 3026 didn't paritcipate in any of the events.Therefore, as per the project requirement we need atleast 6000 users to get good results, so we may proceed with the interface_test_data dataframe to do the A/B testing."
   ]
  },
  {
   "cell_type": "markdown",
   "metadata": {},
   "source": [
    "### Studying total users in each group per ab_test"
   ]
  },
  {
   "cell_type": "code",
   "execution_count": 43,
   "metadata": {},
   "outputs": [
    {
     "data": {
      "text/html": [
       "<div>\n",
       "<style scoped>\n",
       "    .dataframe tbody tr th:only-of-type {\n",
       "        vertical-align: middle;\n",
       "    }\n",
       "\n",
       "    .dataframe tbody tr th {\n",
       "        vertical-align: top;\n",
       "    }\n",
       "\n",
       "    .dataframe thead th {\n",
       "        text-align: right;\n",
       "    }\n",
       "</style>\n",
       "<table border=\"1\" class=\"dataframe\">\n",
       "  <thead>\n",
       "    <tr style=\"text-align: right;\">\n",
       "      <th>group</th>\n",
       "      <th>A</th>\n",
       "      <th>B</th>\n",
       "    </tr>\n",
       "    <tr>\n",
       "      <th>event_name</th>\n",
       "      <th></th>\n",
       "      <th></th>\n",
       "    </tr>\n",
       "  </thead>\n",
       "  <tbody>\n",
       "    <tr>\n",
       "      <td>login</td>\n",
       "      <td>5466</td>\n",
       "      <td>5383</td>\n",
       "    </tr>\n",
       "    <tr>\n",
       "      <td>product_cart</td>\n",
       "      <td>1756</td>\n",
       "      <td>1812</td>\n",
       "    </tr>\n",
       "    <tr>\n",
       "      <td>product_page</td>\n",
       "      <td>3639</td>\n",
       "      <td>3527</td>\n",
       "    </tr>\n",
       "    <tr>\n",
       "      <td>purchase</td>\n",
       "      <td>1931</td>\n",
       "      <td>1782</td>\n",
       "    </tr>\n",
       "  </tbody>\n",
       "</table>\n",
       "</div>"
      ],
      "text/plain": [
       "group            A     B\n",
       "event_name              \n",
       "login         5466  5383\n",
       "product_cart  1756  1812\n",
       "product_page  3639  3527\n",
       "purchase      1931  1782"
      ]
     },
     "execution_count": 43,
     "metadata": {},
     "output_type": "execute_result"
    }
   ],
   "source": [
    "#  creating a pivot table showing number of users each group per event for interface_test\n",
    "interface_pivot_data = interface_test_data.pivot_table(index='event_name',\n",
    "                                                       values='user_id', \n",
    "                                                       columns='group',\n",
    "                                                       aggfunc=lambda x: x.nunique())\n",
    "interface_pivot_data"
   ]
  },
  {
   "cell_type": "code",
   "execution_count": 44,
   "metadata": {},
   "outputs": [
    {
     "data": {
      "text/html": [
       "<div>\n",
       "<style scoped>\n",
       "    .dataframe tbody tr th:only-of-type {\n",
       "        vertical-align: middle;\n",
       "    }\n",
       "\n",
       "    .dataframe tbody tr th {\n",
       "        vertical-align: top;\n",
       "    }\n",
       "\n",
       "    .dataframe thead th {\n",
       "        text-align: right;\n",
       "    }\n",
       "</style>\n",
       "<table border=\"1\" class=\"dataframe\">\n",
       "  <thead>\n",
       "    <tr style=\"text-align: right;\">\n",
       "      <th>group</th>\n",
       "      <th>A</th>\n",
       "      <th>B</th>\n",
       "    </tr>\n",
       "    <tr>\n",
       "      <th>event_name</th>\n",
       "      <th></th>\n",
       "      <th></th>\n",
       "    </tr>\n",
       "  </thead>\n",
       "  <tbody>\n",
       "    <tr>\n",
       "      <td>login</td>\n",
       "      <td>2747</td>\n",
       "      <td>927</td>\n",
       "    </tr>\n",
       "    <tr>\n",
       "      <td>product_cart</td>\n",
       "      <td>824</td>\n",
       "      <td>255</td>\n",
       "    </tr>\n",
       "    <tr>\n",
       "      <td>product_page</td>\n",
       "      <td>1780</td>\n",
       "      <td>523</td>\n",
       "    </tr>\n",
       "    <tr>\n",
       "      <td>purchase</td>\n",
       "      <td>872</td>\n",
       "      <td>256</td>\n",
       "    </tr>\n",
       "  </tbody>\n",
       "</table>\n",
       "</div>"
      ],
      "text/plain": [
       "group            A    B\n",
       "event_name             \n",
       "login         2747  927\n",
       "product_cart   824  255\n",
       "product_page  1780  523\n",
       "purchase       872  256"
      ]
     },
     "execution_count": 44,
     "metadata": {},
     "output_type": "execute_result"
    }
   ],
   "source": [
    "#  creating a pivot table showing number of users each group per event for recommendet_system_test\n",
    "recommender_pivot_data = recommender_test_data.pivot_table(index='event_name', \n",
    "                                                           values='user_id',\n",
    "                                                           columns='group', \n",
    "                                                           aggfunc=lambda x: x.nunique())\n",
    "recommender_pivot_data"
   ]
  },
  {
   "cell_type": "code",
   "execution_count": 45,
   "metadata": {},
   "outputs": [
    {
     "data": {
      "image/png": "[encoded data removed]",
      "text/plain": [
       "<Figure size 864x288 with 1 Axes>"
      ]
     },
     "metadata": {
      "needs_background": "light"
     },
     "output_type": "display_data"
    },
    {
     "data": {
      "image/png": "[encoded data removed]",
      "text/plain": [
       "<Figure size 864x288 with 1 Axes>"
      ]
     },
     "metadata": {
      "needs_background": "light"
     },
     "output_type": "display_data"
    }
   ],
   "source": [
    "ax = interface_pivot_data.plot(kind='bar',figsize=(12,4))\n",
    "ax.set_title('Graph showing number of users per event per group')\n",
    "ax.set_ylabel('number of users')\n",
    "ax.set_xlabel('Type of event');\n",
    "\n",
    "ax = recommender_pivot_data.plot(kind='bar',figsize=(12,4))\n",
    "ax.set_title('Graph showing number of users per event per group')\n",
    "ax.set_ylabel('number of users')\n",
    "ax.set_xlabel('Type of event');\n"
   ]
  },
  {
   "cell_type": "markdown",
   "metadata": {},
   "source": [
    "Here we can see that in both the test and their corresponding groups 'login' is the most popular event which actually makes sense as users need to login first in order to access the page and make purchases. The product_page is the second popular ones as user needs to browse for their required products, however we might need to look out for things that are responsible for the users who logged in but didn't land on product_page was there any technical error or was the login process was too lengthy to make users tired of using the site.\n",
    "\n",
    " Clearly, in both the ab_tests, Group A the control group showed better results at each stage than group B."
   ]
  },
  {
   "cell_type": "markdown",
   "metadata": {},
   "source": [
    "### Study conversion at different stages of the funnel."
   ]
  },
  {
   "cell_type": "code",
   "execution_count": 52,
   "metadata": {},
   "outputs": [],
   "source": [
    "# making a new table using groupby method to show number of users per event for interface_test\n",
    "interface_users_count = interface_test_data.groupby('event_name').agg({'user_id': ['nunique']}).sort_values(\n",
    "                                                                                                by = ('user_id', 'nunique'), \n",
    "                                                                                                ascending=False)\n",
    "interface_users_count.reset_index(inplace=True)\n",
    "interface_users_count= interface_users_count.reindex(index=[0,1,3,2])"
   ]
  },
  {
   "cell_type": "code",
   "execution_count": 53,
   "metadata": {},
   "outputs": [],
   "source": [
    "# making a new table using groupby method to show number of users per event for recommender_system_test\n",
    "recommender_users_count = recommender_test_data.groupby('event_name').agg({'user_id': ['nunique']}).sort_values(by = ('user_id', 'nunique'), \n",
    "                                                                                        ascending=False)\n",
    "recommender_users_count.reset_index(inplace=True)\n",
    "recommender_users_count = recommender_users_count.reindex(index=[0,1,3,2])"
   ]
  },
  {
   "cell_type": "code",
   "execution_count": 54,
   "metadata": {},
   "outputs": [],
   "source": [
    "# renaming the column names\n",
    "interface_users_count.columns = ['event_name','number of users']\n",
    "recommender_users_count.columns = ['event_name','number of users']"
   ]
  },
  {
   "cell_type": "code",
   "execution_count": 55,
   "metadata": {},
   "outputs": [
    {
     "data": {
      "application/vnd.plotly.v1+json": {
       "config": {
        "plotlyServerURL": "https://plot.ly"
       },
       "data": [
        {
         "name": "interface_users_count",
         "textinfo": "value+percent previous+percent initial",
         "type": "funnel",
         "x": [
          10849,
          7166,
          3568,
          3713
         ],
         "y": [
          "login",
          "product_page",
          "product_cart",
          "purchase"
         ]
        },
        {
         "name": "recommender_users_count",
         "orientation": "h",
         "textinfo": "value+percent previous+percent initial",
         "type": "funnel",
         "x": [
          3674,
          2303,
          1079,
          1128
         ],
         "y": [
          "login",
          "product_page",
          "product_cart",
          "purchase"
         ]
        }
       ],
       "layout": {
        "template": {
         "data": {
          "bar": [
           {
            "error_x": {
             "color": "#2a3f5f"
            },
            "error_y": {
             "color": "#2a3f5f"
            },
            "marker": {
             "line": {
              "color": "#E5ECF6",
              "width": 0.5
             }
            },
            "type": "bar"
           }
          ],
          "barpolar": [
           {
            "marker": {
             "line": {
              "color": "#E5ECF6",
              "width": 0.5
             }
            },
            "type": "barpolar"
           }
          ],
          "carpet": [
           {
            "aaxis": {
             "endlinecolor": "#2a3f5f",
             "gridcolor": "white",
             "linecolor": "white",
             "minorgridcolor": "white",
             "startlinecolor": "#2a3f5f"
            },
            "baxis": {
             "endlinecolor": "#2a3f5f",
             "gridcolor": "white",
             "linecolor": "white",
             "minorgridcolor": "white",
             "startlinecolor": "#2a3f5f"
            },
            "type": "carpet"
           }
          ],
          "choropleth": [
           {
            "colorbar": {
             "outlinewidth": 0,
             "ticks": ""
            },
            "type": "choropleth"
           }
          ],
          "contour": [
           {
            "colorbar": {
             "outlinewidth": 0,
             "ticks": ""
            },
            "colorscale": [
             [
              0,
              "#0d0887"
             ],
             [
              0.1111111111,
              "#46039f"
             ],
             [
              0.2222222222,
              "#7201a8"
             ],
             [
              0.3333333333,
              "#9c179e"
             ],
             [
              0.4444444444,
              "#bd3786"
             ],
             [
              0.5555555556,
              "#d8576b"
             ],
             [
              0.6666666667,
              "#ed7953"
             ],
             [
              0.7777777778,
              "#fb9f3a"
             ],
             [
              0.8888888889,
              "#fdca26"
             ],
             [
              1,
              "#f0f921"
             ]
            ],
            "type": "contour"
           }
          ],
          "contourcarpet": [
           {
            "colorbar": {
             "outlinewidth": 0,
             "ticks": ""
            },
            "type": "contourcarpet"
           }
          ],
          "heatmap": [
           {
            "colorbar": {
             "outlinewidth": 0,
             "ticks": ""
            },
            "colorscale": [
             [
              0,
              "#0d0887"
             ],
             [
              0.1111111111,
              "#46039f"
             ],
             [
              0.2222222222,
              "#7201a8"
             ],
             [
              0.3333333333,
              "#9c179e"
             ],
             [
              0.4444444444,
              "#bd3786"
             ],
             [
              0.5555555556,
              "#d8576b"
             ],
             [
              0.6666666667,
              "#ed7953"
             ],
             [
              0.7777777778,
              "#fb9f3a"
             ],
             [
              0.8888888889,
              "#fdca26"
             ],
             [
              1,
              "#f0f921"
             ]
            ],
            "type": "heatmap"
           }
          ],
          "heatmapgl": [
           {
            "colorbar": {
             "outlinewidth": 0,
             "ticks": ""
            },
            "colorscale": [
             [
              0,
              "#0d0887"
             ],
             [
              0.1111111111,
              "#46039f"
             ],
             [
              0.2222222222,
              "#7201a8"
             ],
             [
              0.3333333333,
              "#9c179e"
             ],
             [
              0.4444444444,
              "#bd3786"
             ],
             [
              0.5555555556,
              "#d8576b"
             ],
             [
              0.6666666667,
              "#ed7953"
             ],
             [
              0.7777777778,
              "#fb9f3a"
             ],
             [
              0.8888888889,
              "#fdca26"
             ],
             [
              1,
              "#f0f921"
             ]
            ],
            "type": "heatmapgl"
           }
          ],
          "histogram": [
           {
            "marker": {
             "colorbar": {
              "outlinewidth": 0,
              "ticks": ""
             }
            },
            "type": "histogram"
           }
          ],
          "histogram2d": [
           {
            "colorbar": {
             "outlinewidth": 0,
             "ticks": ""
            },
            "colorscale": [
             [
              0,
              "#0d0887"
             ],
             [
              0.1111111111,
              "#46039f"
             ],
             [
              0.2222222222,
              "#7201a8"
             ],
             [
              0.3333333333,
              "#9c179e"
             ],
             [
              0.4444444444,
              "#bd3786"
             ],
             [
              0.5555555556,
              "#d8576b"
             ],
             [
              0.6666666667,
              "#ed7953"
             ],
             [
              0.7777777778,
              "#fb9f3a"
             ],
             [
              0.8888888889,
              "#fdca26"
             ],
             [
              1,
              "#f0f921"
             ]
            ],
            "type": "histogram2d"
           }
          ],
          "histogram2dcontour": [
           {
            "colorbar": {
             "outlinewidth": 0,
             "ticks": ""
            },
            "colorscale": [
             [
              0,
              "#0d0887"
             ],
             [
              0.1111111111,
              "#46039f"
             ],
             [
              0.2222222222,
              "#7201a8"
             ],
             [
              0.3333333333,
              "#9c179e"
             ],
             [
              0.4444444444,
              "#bd3786"
             ],
             [
              0.5555555556,
              "#d8576b"
             ],
             [
              0.6666666667,
              "#ed7953"
             ],
             [
              0.7777777778,
              "#fb9f3a"
             ],
             [
              0.8888888889,
              "#fdca26"
             ],
             [
              1,
              "#f0f921"
             ]
            ],
            "type": "histogram2dcontour"
           }
          ],
          "mesh3d": [
           {
            "colorbar": {
             "outlinewidth": 0,
             "ticks": ""
            },
            "type": "mesh3d"
           }
          ],
          "parcoords": [
           {
            "line": {
             "colorbar": {
              "outlinewidth": 0,
              "ticks": ""
             }
            },
            "type": "parcoords"
           }
          ],
          "pie": [
           {
            "automargin": true,
            "type": "pie"
           }
          ],
          "scatter": [
           {
            "marker": {
             "colorbar": {
              "outlinewidth": 0,
              "ticks": ""
             }
            },
            "type": "scatter"
           }
          ],
          "scatter3d": [
           {
            "line": {
             "colorbar": {
              "outlinewidth": 0,
              "ticks": ""
             }
            },
            "marker": {
             "colorbar": {
              "outlinewidth": 0,
              "ticks": ""
             }
            },
            "type": "scatter3d"
           }
          ],
          "scattercarpet": [
           {
            "marker": {
             "colorbar": {
              "outlinewidth": 0,
              "ticks": ""
             }
            },
            "type": "scattercarpet"
           }
          ],
          "scattergeo": [
           {
            "marker": {
             "colorbar": {
              "outlinewidth": 0,
              "ticks": ""
             }
            },
            "type": "scattergeo"
           }
          ],
          "scattergl": [
           {
            "marker": {
             "colorbar": {
              "outlinewidth": 0,
              "ticks": ""
             }
            },
            "type": "scattergl"
           }
          ],
          "scattermapbox": [
           {
            "marker": {
             "colorbar": {
              "outlinewidth": 0,
              "ticks": ""
             }
            },
            "type": "scattermapbox"
           }
          ],
          "scatterpolar": [
           {
            "marker": {
             "colorbar": {
              "outlinewidth": 0,
              "ticks": ""
             }
            },
            "type": "scatterpolar"
           }
          ],
          "scatterpolargl": [
           {
            "marker": {
             "colorbar": {
              "outlinewidth": 0,
              "ticks": ""
             }
            },
            "type": "scatterpolargl"
           }
          ],
          "scatterternary": [
           {
            "marker": {
             "colorbar": {
              "outlinewidth": 0,
              "ticks": ""
             }
            },
            "type": "scatterternary"
           }
          ],
          "surface": [
           {
            "colorbar": {
             "outlinewidth": 0,
             "ticks": ""
            },
            "colorscale": [
             [
              0,
              "#0d0887"
             ],
             [
              0.1111111111,
              "#46039f"
             ],
             [
              0.2222222222,
              "#7201a8"
             ],
             [
              0.3333333333,
              "#9c179e"
             ],
             [
              0.4444444444,
              "#bd3786"
             ],
             [
              0.5555555556,
              "#d8576b"
             ],
             [
              0.6666666667,
              "#ed7953"
             ],
             [
              0.7777777778,
              "#fb9f3a"
             ],
             [
              0.8888888889,
              "#fdca26"
             ],
             [
              1,
              "#f0f921"
             ]
            ],
            "type": "surface"
           }
          ],
          "table": [
           {
            "cells": {
             "fill": {
              "color": "#EBF0F8"
             },
             "line": {
              "color": "white"
             }
            },
            "header": {
             "fill": {
              "color": "#C8D4E3"
             },
             "line": {
              "color": "white"
             }
            },
            "type": "table"
           }
          ]
         },
         "layout": {
          "annotationdefaults": {
           "arrowcolor": "#2a3f5f",
           "arrowhead": 0,
           "arrowwidth": 1
          },
          "coloraxis": {
           "colorbar": {
            "outlinewidth": 0,
            "ticks": ""
           }
          },
          "colorscale": {
           "diverging": [
            [
             0,
             "#8e0152"
            ],
            [
             0.1,
             "#c51b7d"
            ],
            [
             0.2,
             "#de77ae"
            ],
            [
             0.3,
             "#f1b6da"
            ],
            [
             0.4,
             "#fde0ef"
            ],
            [
             0.5,
             "#f7f7f7"
            ],
            [
             0.6,
             "#e6f5d0"
            ],
            [
             0.7,
             "#b8e186"
            ],
            [
             0.8,
             "#7fbc41"
            ],
            [
             0.9,
             "#4d9221"
            ],
            [
             1,
             "#276419"
            ]
           ],
           "sequential": [
            [
             0,
             "#0d0887"
            ],
            [
             0.1111111111,
             "#46039f"
            ],
            [
             0.2222222222,
             "#7201a8"
            ],
            [
             0.3333333333,
             "#9c179e"
            ],
            [
             0.4444444444,
             "#bd3786"
            ],
            [
             0.5555555556,
             "#d8576b"
            ],
            [
             0.6666666667,
             "#ed7953"
            ],
            [
             0.7777777778,
             "#fb9f3a"
            ],
            [
             0.8888888889,
             "#fdca26"
            ],
            [
             1,
             "#f0f921"
            ]
           ],
           "sequentialminus": [
            [
             0,
             "#0d0887"
            ],
            [
             0.1111111111,
             "#46039f"
            ],
            [
             0.2222222222,
             "#7201a8"
            ],
            [
             0.3333333333,
             "#9c179e"
            ],
            [
             0.4444444444,
             "#bd3786"
            ],
            [
             0.5555555556,
             "#d8576b"
            ],
            [
             0.6666666667,
             "#ed7953"
            ],
            [
             0.7777777778,
             "#fb9f3a"
            ],
            [
             0.8888888889,
             "#fdca26"
            ],
            [
             1,
             "#f0f921"
            ]
           ]
          },
          "colorway": [
           "#636efa",
           "#EF553B",
           "#00cc96",
           "#ab63fa",
           "#FFA15A",
           "#19d3f3",
           "#FF6692",
           "#B6E880",
           "#FF97FF",
           "#FECB52"
          ],
          "font": {
           "color": "#2a3f5f"
          },
          "geo": {
           "bgcolor": "white",
           "lakecolor": "white",
           "landcolor": "#E5ECF6",
           "showlakes": true,
           "showland": true,
           "subunitcolor": "white"
          },
          "hoverlabel": {
           "align": "left"
          },
          "hovermode": "closest",
          "mapbox": {
           "style": "light"
          },
          "paper_bgcolor": "white",
          "plot_bgcolor": "#E5ECF6",
          "polar": {
           "angularaxis": {
            "gridcolor": "white",
            "linecolor": "white",
            "ticks": ""
           },
           "bgcolor": "#E5ECF6",
           "radialaxis": {
            "gridcolor": "white",
            "linecolor": "white",
            "ticks": ""
           }
          },
          "scene": {
           "xaxis": {
            "backgroundcolor": "#E5ECF6",
            "gridcolor": "white",
            "gridwidth": 2,
            "linecolor": "white",
            "showbackground": true,
            "ticks": "",
            "zerolinecolor": "white"
           },
           "yaxis": {
            "backgroundcolor": "#E5ECF6",
            "gridcolor": "white",
            "gridwidth": 2,
            "linecolor": "white",
            "showbackground": true,
            "ticks": "",
            "zerolinecolor": "white"
           },
           "zaxis": {
            "backgroundcolor": "#E5ECF6",
            "gridcolor": "white",
            "gridwidth": 2,
            "linecolor": "white",
            "showbackground": true,
            "ticks": "",
            "zerolinecolor": "white"
           }
          },
          "shapedefaults": {
           "line": {
            "color": "#2a3f5f"
           }
          },
          "ternary": {
           "aaxis": {
            "gridcolor": "white",
            "linecolor": "white",
            "ticks": ""
           },
           "baxis": {
            "gridcolor": "white",
            "linecolor": "white",
            "ticks": ""
           },
           "bgcolor": "#E5ECF6",
           "caxis": {
            "gridcolor": "white",
            "linecolor": "white",
            "ticks": ""
           }
          },
          "title": {
           "x": 0.05
          },
          "xaxis": {
           "automargin": true,
           "gridcolor": "white",
           "linecolor": "white",
           "ticks": "",
           "title": {
            "standoff": 15
           },
           "zerolinecolor": "white",
           "zerolinewidth": 2
          },
          "yaxis": {
           "automargin": true,
           "gridcolor": "white",
           "linecolor": "white",
           "ticks": "",
           "title": {
            "standoff": 15
           },
           "zerolinecolor": "white",
           "zerolinewidth": 2
          }
         }
        }
       }
      },
      "text/html": [
       "<div>\n",
       "        \n",
       "        \n",
       "            <div id=\"9774f183-b535-4185-af0d-fc406a5c7675\" class=\"plotly-graph-div\" style=\"height:525px; width:100%;\"></div>\n",
       "            <script type=\"text/javascript\">\n",
       "                require([\"plotly\"], function(Plotly) {\n",
       "                    window.PLOTLYENV=window.PLOTLYENV || {};\n",
       "                    \n",
       "                if (document.getElementById(\"9774f183-b535-4185-af0d-fc406a5c7675\")) {\n",
       "                    Plotly.newPlot(\n",
       "                        '9774f183-b535-4185-af0d-fc406a5c7675',\n",
       "                        [{\"name\": \"interface_users_count\", \"textinfo\": \"value+percent previous+percent initial\", \"type\": \"funnel\", \"x\": [10849, 7166, 3568, 3713], \"y\": [\"login\", \"product_page\", \"product_cart\", \"purchase\"]}, {\"name\": \"recommender_users_count\", \"orientation\": \"h\", \"textinfo\": \"value+percent previous+percent initial\", \"type\": \"funnel\", \"x\": [3674, 2303, 1079, 1128], \"y\": [\"login\", \"product_page\", \"product_cart\", \"purchase\"]}],\n",
       "                        {\"template\": {\"data\": {\"bar\": [{\"error_x\": {\"color\": \"#2a3f5f\"}, \"error_y\": {\"color\": \"#2a3f5f\"}, \"marker\": {\"line\": {\"color\": \"#E5ECF6\", \"width\": 0.5}}, \"type\": \"bar\"}], \"barpolar\": [{\"marker\": {\"line\": {\"color\": \"#E5ECF6\", \"width\": 0.5}}, \"type\": \"barpolar\"}], \"carpet\": [{\"aaxis\": {\"endlinecolor\": \"#2a3f5f\", \"gridcolor\": \"white\", \"linecolor\": \"white\", \"minorgridcolor\": \"white\", \"startlinecolor\": \"#2a3f5f\"}, \"baxis\": {\"endlinecolor\": \"#2a3f5f\", \"gridcolor\": \"white\", \"linecolor\": \"white\", \"minorgridcolor\": \"white\", \"startlinecolor\": \"#2a3f5f\"}, \"type\": \"carpet\"}], \"choropleth\": [{\"colorbar\": {\"outlinewidth\": 0, \"ticks\": \"\"}, \"type\": \"choropleth\"}], \"contour\": [{\"colorbar\": {\"outlinewidth\": 0, \"ticks\": \"\"}, \"colorscale\": [[0.0, \"#0d0887\"], [0.1111111111111111, \"#46039f\"], [0.2222222222222222, \"#7201a8\"], [0.3333333333333333, \"#9c179e\"], [0.4444444444444444, \"#bd3786\"], [0.5555555555555556, \"#d8576b\"], [0.6666666666666666, \"#ed7953\"], [0.7777777777777778, \"#fb9f3a\"], [0.8888888888888888, \"#fdca26\"], [1.0, \"#f0f921\"]], \"type\": \"contour\"}], \"contourcarpet\": [{\"colorbar\": {\"outlinewidth\": 0, \"ticks\": \"\"}, \"type\": \"contourcarpet\"}], \"heatmap\": [{\"colorbar\": {\"outlinewidth\": 0, \"ticks\": \"\"}, \"colorscale\": [[0.0, \"#0d0887\"], [0.1111111111111111, \"#46039f\"], [0.2222222222222222, \"#7201a8\"], [0.3333333333333333, \"#9c179e\"], [0.4444444444444444, \"#bd3786\"], [0.5555555555555556, \"#d8576b\"], [0.6666666666666666, \"#ed7953\"], [0.7777777777777778, \"#fb9f3a\"], [0.8888888888888888, \"#fdca26\"], [1.0, \"#f0f921\"]], \"type\": \"heatmap\"}], \"heatmapgl\": [{\"colorbar\": {\"outlinewidth\": 0, \"ticks\": \"\"}, \"colorscale\": [[0.0, \"#0d0887\"], [0.1111111111111111, \"#46039f\"], [0.2222222222222222, \"#7201a8\"], [0.3333333333333333, \"#9c179e\"], [0.4444444444444444, \"#bd3786\"], [0.5555555555555556, \"#d8576b\"], [0.6666666666666666, \"#ed7953\"], [0.7777777777777778, \"#fb9f3a\"], [0.8888888888888888, \"#fdca26\"], [1.0, \"#f0f921\"]], \"type\": \"heatmapgl\"}], \"histogram\": [{\"marker\": {\"colorbar\": {\"outlinewidth\": 0, \"ticks\": \"\"}}, \"type\": \"histogram\"}], \"histogram2d\": [{\"colorbar\": {\"outlinewidth\": 0, \"ticks\": \"\"}, \"colorscale\": [[0.0, \"#0d0887\"], [0.1111111111111111, \"#46039f\"], [0.2222222222222222, \"#7201a8\"], [0.3333333333333333, \"#9c179e\"], [0.4444444444444444, \"#bd3786\"], [0.5555555555555556, \"#d8576b\"], [0.6666666666666666, \"#ed7953\"], [0.7777777777777778, \"#fb9f3a\"], [0.8888888888888888, \"#fdca26\"], [1.0, \"#f0f921\"]], \"type\": \"histogram2d\"}], \"histogram2dcontour\": [{\"colorbar\": {\"outlinewidth\": 0, \"ticks\": \"\"}, \"colorscale\": [[0.0, \"#0d0887\"], [0.1111111111111111, \"#46039f\"], [0.2222222222222222, \"#7201a8\"], [0.3333333333333333, \"#9c179e\"], [0.4444444444444444, \"#bd3786\"], [0.5555555555555556, \"#d8576b\"], [0.6666666666666666, \"#ed7953\"], [0.7777777777777778, \"#fb9f3a\"], [0.8888888888888888, \"#fdca26\"], [1.0, \"#f0f921\"]], \"type\": \"histogram2dcontour\"}], \"mesh3d\": [{\"colorbar\": {\"outlinewidth\": 0, \"ticks\": \"\"}, \"type\": \"mesh3d\"}], \"parcoords\": [{\"line\": {\"colorbar\": {\"outlinewidth\": 0, \"ticks\": \"\"}}, \"type\": \"parcoords\"}], \"pie\": [{\"automargin\": true, \"type\": \"pie\"}], \"scatter\": [{\"marker\": {\"colorbar\": {\"outlinewidth\": 0, \"ticks\": \"\"}}, \"type\": \"scatter\"}], \"scatter3d\": [{\"line\": {\"colorbar\": {\"outlinewidth\": 0, \"ticks\": \"\"}}, \"marker\": {\"colorbar\": {\"outlinewidth\": 0, \"ticks\": \"\"}}, \"type\": \"scatter3d\"}], \"scattercarpet\": [{\"marker\": {\"colorbar\": {\"outlinewidth\": 0, \"ticks\": \"\"}}, \"type\": \"scattercarpet\"}], \"scattergeo\": [{\"marker\": {\"colorbar\": {\"outlinewidth\": 0, \"ticks\": \"\"}}, \"type\": \"scattergeo\"}], \"scattergl\": [{\"marker\": {\"colorbar\": {\"outlinewidth\": 0, \"ticks\": \"\"}}, \"type\": \"scattergl\"}], \"scattermapbox\": [{\"marker\": {\"colorbar\": {\"outlinewidth\": 0, \"ticks\": \"\"}}, \"type\": \"scattermapbox\"}], \"scatterpolar\": [{\"marker\": {\"colorbar\": {\"outlinewidth\": 0, \"ticks\": \"\"}}, \"type\": \"scatterpolar\"}], \"scatterpolargl\": [{\"marker\": {\"colorbar\": {\"outlinewidth\": 0, \"ticks\": \"\"}}, \"type\": \"scatterpolargl\"}], \"scatterternary\": [{\"marker\": {\"colorbar\": {\"outlinewidth\": 0, \"ticks\": \"\"}}, \"type\": \"scatterternary\"}], \"surface\": [{\"colorbar\": {\"outlinewidth\": 0, \"ticks\": \"\"}, \"colorscale\": [[0.0, \"#0d0887\"], [0.1111111111111111, \"#46039f\"], [0.2222222222222222, \"#7201a8\"], [0.3333333333333333, \"#9c179e\"], [0.4444444444444444, \"#bd3786\"], [0.5555555555555556, \"#d8576b\"], [0.6666666666666666, \"#ed7953\"], [0.7777777777777778, \"#fb9f3a\"], [0.8888888888888888, \"#fdca26\"], [1.0, \"#f0f921\"]], \"type\": \"surface\"}], \"table\": [{\"cells\": {\"fill\": {\"color\": \"#EBF0F8\"}, \"line\": {\"color\": \"white\"}}, \"header\": {\"fill\": {\"color\": \"#C8D4E3\"}, \"line\": {\"color\": \"white\"}}, \"type\": \"table\"}]}, \"layout\": {\"annotationdefaults\": {\"arrowcolor\": \"#2a3f5f\", \"arrowhead\": 0, \"arrowwidth\": 1}, \"coloraxis\": {\"colorbar\": {\"outlinewidth\": 0, \"ticks\": \"\"}}, \"colorscale\": {\"diverging\": [[0, \"#8e0152\"], [0.1, \"#c51b7d\"], [0.2, \"#de77ae\"], [0.3, \"#f1b6da\"], [0.4, \"#fde0ef\"], [0.5, \"#f7f7f7\"], [0.6, \"#e6f5d0\"], [0.7, \"#b8e186\"], [0.8, \"#7fbc41\"], [0.9, \"#4d9221\"], [1, \"#276419\"]], \"sequential\": [[0.0, \"#0d0887\"], [0.1111111111111111, \"#46039f\"], [0.2222222222222222, \"#7201a8\"], [0.3333333333333333, \"#9c179e\"], [0.4444444444444444, \"#bd3786\"], [0.5555555555555556, \"#d8576b\"], [0.6666666666666666, \"#ed7953\"], [0.7777777777777778, \"#fb9f3a\"], [0.8888888888888888, \"#fdca26\"], [1.0, \"#f0f921\"]], \"sequentialminus\": [[0.0, \"#0d0887\"], [0.1111111111111111, \"#46039f\"], [0.2222222222222222, \"#7201a8\"], [0.3333333333333333, \"#9c179e\"], [0.4444444444444444, \"#bd3786\"], [0.5555555555555556, \"#d8576b\"], [0.6666666666666666, \"#ed7953\"], [0.7777777777777778, \"#fb9f3a\"], [0.8888888888888888, \"#fdca26\"], [1.0, \"#f0f921\"]]}, \"colorway\": [\"#636efa\", \"#EF553B\", \"#00cc96\", \"#ab63fa\", \"#FFA15A\", \"#19d3f3\", \"#FF6692\", \"#B6E880\", \"#FF97FF\", \"#FECB52\"], \"font\": {\"color\": \"#2a3f5f\"}, \"geo\": {\"bgcolor\": \"white\", \"lakecolor\": \"white\", \"landcolor\": \"#E5ECF6\", \"showlakes\": true, \"showland\": true, \"subunitcolor\": \"white\"}, \"hoverlabel\": {\"align\": \"left\"}, \"hovermode\": \"closest\", \"mapbox\": {\"style\": \"light\"}, \"paper_bgcolor\": \"white\", \"plot_bgcolor\": \"#E5ECF6\", \"polar\": {\"angularaxis\": {\"gridcolor\": \"white\", \"linecolor\": \"white\", \"ticks\": \"\"}, \"bgcolor\": \"#E5ECF6\", \"radialaxis\": {\"gridcolor\": \"white\", \"linecolor\": \"white\", \"ticks\": \"\"}}, \"scene\": {\"xaxis\": {\"backgroundcolor\": \"#E5ECF6\", \"gridcolor\": \"white\", \"gridwidth\": 2, \"linecolor\": \"white\", \"showbackground\": true, \"ticks\": \"\", \"zerolinecolor\": \"white\"}, \"yaxis\": {\"backgroundcolor\": \"#E5ECF6\", \"gridcolor\": \"white\", \"gridwidth\": 2, \"linecolor\": \"white\", \"showbackground\": true, \"ticks\": \"\", \"zerolinecolor\": \"white\"}, \"zaxis\": {\"backgroundcolor\": \"#E5ECF6\", \"gridcolor\": \"white\", \"gridwidth\": 2, \"linecolor\": \"white\", \"showbackground\": true, \"ticks\": \"\", \"zerolinecolor\": \"white\"}}, \"shapedefaults\": {\"line\": {\"color\": \"#2a3f5f\"}}, \"ternary\": {\"aaxis\": {\"gridcolor\": \"white\", \"linecolor\": \"white\", \"ticks\": \"\"}, \"baxis\": {\"gridcolor\": \"white\", \"linecolor\": \"white\", \"ticks\": \"\"}, \"bgcolor\": \"#E5ECF6\", \"caxis\": {\"gridcolor\": \"white\", \"linecolor\": \"white\", \"ticks\": \"\"}}, \"title\": {\"x\": 0.05}, \"xaxis\": {\"automargin\": true, \"gridcolor\": \"white\", \"linecolor\": \"white\", \"ticks\": \"\", \"title\": {\"standoff\": 15}, \"zerolinecolor\": \"white\", \"zerolinewidth\": 2}, \"yaxis\": {\"automargin\": true, \"gridcolor\": \"white\", \"linecolor\": \"white\", \"ticks\": \"\", \"title\": {\"standoff\": 15}, \"zerolinecolor\": \"white\", \"zerolinewidth\": 2}}}},\n",
       "                        {\"responsive\": true}\n",
       "                    ).then(function(){\n",
       "                            \n",
       "var gd = document.getElementById('9774f183-b535-4185-af0d-fc406a5c7675');\n",
       "var x = new MutationObserver(function (mutations, observer) {{\n",
       "        var display = window.getComputedStyle(gd).display;\n",
       "        if (!display || display === 'none') {{\n",
       "            console.log([gd, 'removed!']);\n",
       "            Plotly.purge(gd);\n",
       "            observer.disconnect();\n",
       "        }}\n",
       "}});\n",
       "\n",
       "// Listen for the removal of the full notebook cells\n",
       "var notebookContainer = gd.closest('#notebook-container');\n",
       "if (notebookContainer) {{\n",
       "    x.observe(notebookContainer, {childList: true});\n",
       "}}\n",
       "\n",
       "// Listen for the clearing of the current output cell\n",
       "var outputEl = gd.closest('.output');\n",
       "if (outputEl) {{\n",
       "    x.observe(outputEl, {childList: true});\n",
       "}}\n",
       "\n",
       "                        })\n",
       "                };\n",
       "                });\n",
       "            </script>\n",
       "        </div>"
      ]
     },
     "metadata": {},
     "output_type": "display_data"
    }
   ],
   "source": [
    "# building a stack funnel plot to represent the number of users for each ab_test  per event\n",
    "\n",
    "\n",
    "fig = go.Figure()\n",
    "\n",
    "fig.add_trace(go.Funnel(\n",
    "    name = 'interface_users_count',\n",
    "    y = interface_users_count['event_name'],\n",
    "     x =  interface_users_count['number of users'],\n",
    "                          textinfo = \"value + percent previous + percent initial\"))\n",
    "\n",
    "fig.add_trace(go.Funnel(\n",
    "    name = 'recommender_users_count',\n",
    "    orientation = \"h\",\n",
    "    y = recommender_users_count['event_name'],\n",
    "    x =  recommender_users_count['number of users'],\n",
    "    textinfo = \"value + percent previous + percent initial\"))\n",
    "\n",
    "\n",
    "\n"
   ]
  },
  {
   "cell_type": "markdown",
   "metadata": {},
   "source": [
    "From the above graph it is pretty much clear that interface_test has better results in both per stage and overall conversion percentage of users when compared to recommender_user_test dataframe.  \n",
    "\n",
    "In both the ab_tests we can see that conversion from login stage to landing on product page  stage the conversion percentgae is not more than 66% , we might want to check up what happened to rest of 33% users. We can check factors like what products were they looking for, if found weren't the prices attractive or whether there were extra shipping costs etc. \n",
    "\n",
    "Coming to the purchase stage, here we lost almost 50% of our users. We need to check factors like, may be there were some unexpected extra taxes added during payment? or do we need to include some promo codes to attract users to make sure they do their purchase? etc. Surprisingly Product_cart is the final stage in our funnel, this may be because some websites do have a buy in one click option which makes things easier for them to make direct payment without adding items to the cart. "
   ]
  },
  {
   "cell_type": "markdown",
   "metadata": {},
   "source": [
    "### Is the number of events per user distributed equally among the samples?"
   ]
  },
  {
   "cell_type": "code",
   "execution_count": 56,
   "metadata": {},
   "outputs": [
    {
     "name": "stdout",
     "output_type": "stream",
     "text": [
      "Average number of events per user: 7\n"
     ]
    }
   ],
   "source": [
    "# Checking the average number of events per user for interface_test users of group A\n",
    "\n",
    "interface_group_A = interface_test_data.query('group == \"A\"')\n",
    "interface_events_per_user_A = interface_group_A.groupby('user_id')['event_name'].count().mean()\n",
    "print('Average number of events per user: {:.0f}'.format(interface_events_per_user_A))"
   ]
  },
  {
   "cell_type": "code",
   "execution_count": 57,
   "metadata": {},
   "outputs": [
    {
     "name": "stdout",
     "output_type": "stream",
     "text": [
      "Average number of events per user: 7\n"
     ]
    }
   ],
   "source": [
    "# Checking the average number of events per user for interface_test users of group B\n",
    "\n",
    "interface_group_B = interface_test_data.query('group == \"B\"')\n",
    "interface_events_per_user_B = interface_group_B.groupby('user_id')['event_name'].count().mean()\n",
    "print('Average number of events per user: {:.0f}'.format(interface_events_per_user_B))"
   ]
  },
  {
   "cell_type": "code",
   "execution_count": 58,
   "metadata": {},
   "outputs": [
    {
     "name": "stdout",
     "output_type": "stream",
     "text": [
      "Average number of events per user: 5\n"
     ]
    }
   ],
   "source": [
    "# Checking the average number of events per user for recommender_system_test users of group A\n",
    "\n",
    "recommender_group_A = recommender_test_data.query('group == \"A\"')\n",
    "recommender_events_per_user_A = recommender_group_A.groupby('user_id')['event_name'].count().mean()\n",
    "print('Average number of events per user: {:.0f}'.format(recommender_events_per_user_A))"
   ]
  },
  {
   "cell_type": "code",
   "execution_count": 59,
   "metadata": {},
   "outputs": [
    {
     "name": "stdout",
     "output_type": "stream",
     "text": [
      "Average number of events per user: 2\n"
     ]
    }
   ],
   "source": [
    "# Checking the average number of events per user for recommender_system_test users of group B\n",
    "\n",
    "recommender_group_B = recommender_test_data.query('group == \"B\"')\n",
    "recommender_events_per_user_B = recommender_group_B.groupby('user_id')['event_name'].count().mean()\n",
    "print('Average number of events per user: {:.0f}'.format(recommender_events_per_user_B))"
   ]
  },
  {
   "cell_type": "markdown",
   "metadata": {},
   "source": [
    "From the above results, we can see that average number of events per user is distributed equally in the two groups of interface_test and not in the recommender_system_test."
   ]
  },
  {
   "cell_type": "code",
   "execution_count": 60,
   "metadata": {},
   "outputs": [
    {
     "data": {
      "text/html": [
       "<div>\n",
       "<style scoped>\n",
       "    .dataframe tbody tr th:only-of-type {\n",
       "        vertical-align: middle;\n",
       "    }\n",
       "\n",
       "    .dataframe tbody tr th {\n",
       "        vertical-align: top;\n",
       "    }\n",
       "\n",
       "    .dataframe thead th {\n",
       "        text-align: right;\n",
       "    }\n",
       "</style>\n",
       "<table border=\"1\" class=\"dataframe\">\n",
       "  <thead>\n",
       "    <tr style=\"text-align: right;\">\n",
       "      <th></th>\n",
       "      <th>user_id</th>\n",
       "      <th>group</th>\n",
       "      <th>ab_test</th>\n",
       "      <th>event_dt</th>\n",
       "      <th>event_name</th>\n",
       "      <th>details</th>\n",
       "      <th>first_date</th>\n",
       "      <th>region</th>\n",
       "      <th>device</th>\n",
       "      <th>day</th>\n",
       "    </tr>\n",
       "  </thead>\n",
       "  <tbody>\n",
       "    <tr>\n",
       "      <td>9780</td>\n",
       "      <td>6460D0D3A5C3CD78</td>\n",
       "      <td>B</td>\n",
       "      <td>recommender_system_test</td>\n",
       "      <td>2020-12-18 08:02:56</td>\n",
       "      <td>product_page</td>\n",
       "      <td>NaN</td>\n",
       "      <td>2020-12-16</td>\n",
       "      <td>EU</td>\n",
       "      <td>Mac</td>\n",
       "      <td>4.0</td>\n",
       "    </tr>\n",
       "    <tr>\n",
       "      <td>10716</td>\n",
       "      <td>C3D6CC02662EBBFF</td>\n",
       "      <td>A</td>\n",
       "      <td>recommender_system_test</td>\n",
       "      <td>2020-12-15 00:08:51</td>\n",
       "      <td>product_page</td>\n",
       "      <td>NaN</td>\n",
       "      <td>2020-12-15</td>\n",
       "      <td>EU</td>\n",
       "      <td>PC</td>\n",
       "      <td>1.0</td>\n",
       "    </tr>\n",
       "    <tr>\n",
       "      <td>24391</td>\n",
       "      <td>D1292E911948CA98</td>\n",
       "      <td>A</td>\n",
       "      <td>recommender_system_test</td>\n",
       "      <td>2020-12-24 05:20:04</td>\n",
       "      <td>product_cart</td>\n",
       "      <td>NaN</td>\n",
       "      <td>2020-12-16</td>\n",
       "      <td>EU</td>\n",
       "      <td>Android</td>\n",
       "      <td>3.0</td>\n",
       "    </tr>\n",
       "    <tr>\n",
       "      <td>349</td>\n",
       "      <td>3B3F68DC5779E517</td>\n",
       "      <td>B</td>\n",
       "      <td>recommender_system_test</td>\n",
       "      <td>2020-12-21 21:14:27</td>\n",
       "      <td>login</td>\n",
       "      <td>NaN</td>\n",
       "      <td>2020-12-08</td>\n",
       "      <td>EU</td>\n",
       "      <td>iPhone</td>\n",
       "      <td>0.0</td>\n",
       "    </tr>\n",
       "    <tr>\n",
       "      <td>15360</td>\n",
       "      <td>900BB01307F50F4A</td>\n",
       "      <td>A</td>\n",
       "      <td>recommender_system_test</td>\n",
       "      <td>2020-12-13 23:06:32</td>\n",
       "      <td>login</td>\n",
       "      <td>NaN</td>\n",
       "      <td>2020-12-08</td>\n",
       "      <td>EU</td>\n",
       "      <td>Android</td>\n",
       "      <td>6.0</td>\n",
       "    </tr>\n",
       "    <tr>\n",
       "      <td>8739</td>\n",
       "      <td>B3B8EE722563EAC2</td>\n",
       "      <td>A</td>\n",
       "      <td>recommender_system_test</td>\n",
       "      <td>2020-12-14 19:05:50</td>\n",
       "      <td>purchase</td>\n",
       "      <td>4.99</td>\n",
       "      <td>2020-12-14</td>\n",
       "      <td>EU</td>\n",
       "      <td>iPhone</td>\n",
       "      <td>0.0</td>\n",
       "    </tr>\n",
       "    <tr>\n",
       "      <td>9143</td>\n",
       "      <td>08589AA89496453B</td>\n",
       "      <td>A</td>\n",
       "      <td>recommender_system_test</td>\n",
       "      <td>2020-12-18 09:35:57</td>\n",
       "      <td>login</td>\n",
       "      <td>NaN</td>\n",
       "      <td>2020-12-17</td>\n",
       "      <td>EU</td>\n",
       "      <td>Android</td>\n",
       "      <td>4.0</td>\n",
       "    </tr>\n",
       "    <tr>\n",
       "      <td>465</td>\n",
       "      <td>FB24D74F33FB4839</td>\n",
       "      <td>B</td>\n",
       "      <td>recommender_system_test</td>\n",
       "      <td>2020-12-21 22:05:27</td>\n",
       "      <td>login</td>\n",
       "      <td>NaN</td>\n",
       "      <td>2020-12-21</td>\n",
       "      <td>EU</td>\n",
       "      <td>PC</td>\n",
       "      <td>0.0</td>\n",
       "    </tr>\n",
       "    <tr>\n",
       "      <td>9654</td>\n",
       "      <td>1286609CAA081674</td>\n",
       "      <td>B</td>\n",
       "      <td>recommender_system_test</td>\n",
       "      <td>NaT</td>\n",
       "      <td>NaN</td>\n",
       "      <td>NaN</td>\n",
       "      <td>2020-12-10</td>\n",
       "      <td>EU</td>\n",
       "      <td>iPhone</td>\n",
       "      <td>NaN</td>\n",
       "    </tr>\n",
       "    <tr>\n",
       "      <td>20074</td>\n",
       "      <td>B6C7A727BF450FAC</td>\n",
       "      <td>A</td>\n",
       "      <td>recommender_system_test</td>\n",
       "      <td>2020-12-20 21:01:34</td>\n",
       "      <td>login</td>\n",
       "      <td>NaN</td>\n",
       "      <td>2020-12-18</td>\n",
       "      <td>EU</td>\n",
       "      <td>PC</td>\n",
       "      <td>6.0</td>\n",
       "    </tr>\n",
       "  </tbody>\n",
       "</table>\n",
       "</div>"
      ],
      "text/plain": [
       "                user_id group                  ab_test            event_dt  \\\n",
       "9780   6460D0D3A5C3CD78     B  recommender_system_test 2020-12-18 08:02:56   \n",
       "10716  C3D6CC02662EBBFF     A  recommender_system_test 2020-12-15 00:08:51   \n",
       "24391  D1292E911948CA98     A  recommender_system_test 2020-12-24 05:20:04   \n",
       "349    3B3F68DC5779E517     B  recommender_system_test 2020-12-21 21:14:27   \n",
       "15360  900BB01307F50F4A     A  recommender_system_test 2020-12-13 23:06:32   \n",
       "8739   B3B8EE722563EAC2     A  recommender_system_test 2020-12-14 19:05:50   \n",
       "9143   08589AA89496453B     A  recommender_system_test 2020-12-18 09:35:57   \n",
       "465    FB24D74F33FB4839     B  recommender_system_test 2020-12-21 22:05:27   \n",
       "9654   1286609CAA081674     B  recommender_system_test                 NaT   \n",
       "20074  B6C7A727BF450FAC     A  recommender_system_test 2020-12-20 21:01:34   \n",
       "\n",
       "         event_name  details first_date region   device  day  \n",
       "9780   product_page      NaN 2020-12-16     EU      Mac  4.0  \n",
       "10716  product_page      NaN 2020-12-15     EU       PC  1.0  \n",
       "24391  product_cart      NaN 2020-12-16     EU  Android  3.0  \n",
       "349           login      NaN 2020-12-08     EU   iPhone  0.0  \n",
       "15360         login      NaN 2020-12-08     EU  Android  6.0  \n",
       "8739       purchase     4.99 2020-12-14     EU   iPhone  0.0  \n",
       "9143          login      NaN 2020-12-17     EU  Android  4.0  \n",
       "465           login      NaN 2020-12-21     EU       PC  0.0  \n",
       "9654            NaN      NaN 2020-12-10     EU   iPhone  NaN  \n",
       "20074         login      NaN 2020-12-18     EU       PC  6.0  "
      ]
     },
     "execution_count": 60,
     "metadata": {},
     "output_type": "execute_result"
    }
   ],
   "source": [
    "# adding a new column to the dataframe representing the day of week\n",
    "recommender_test_data['day'] = recommender_test_data.event_dt.dt.weekday\n",
    "recommender_test_data.sample(10)"
   ]
  },
  {
   "cell_type": "code",
   "execution_count": 61,
   "metadata": {},
   "outputs": [
    {
     "data": {
      "text/html": [
       "<div>\n",
       "<style scoped>\n",
       "    .dataframe tbody tr th:only-of-type {\n",
       "        vertical-align: middle;\n",
       "    }\n",
       "\n",
       "    .dataframe tbody tr th {\n",
       "        vertical-align: top;\n",
       "    }\n",
       "\n",
       "    .dataframe thead th {\n",
       "        text-align: right;\n",
       "    }\n",
       "</style>\n",
       "<table border=\"1\" class=\"dataframe\">\n",
       "  <thead>\n",
       "    <tr style=\"text-align: right;\">\n",
       "      <th></th>\n",
       "      <th>user_id</th>\n",
       "      <th>group</th>\n",
       "      <th>ab_test</th>\n",
       "      <th>event_dt</th>\n",
       "      <th>event_name</th>\n",
       "      <th>details</th>\n",
       "      <th>first_date</th>\n",
       "      <th>region</th>\n",
       "      <th>device</th>\n",
       "      <th>day</th>\n",
       "    </tr>\n",
       "  </thead>\n",
       "  <tbody>\n",
       "    <tr>\n",
       "      <td>11064</td>\n",
       "      <td>7F3DADACDF8F5389</td>\n",
       "      <td>B</td>\n",
       "      <td>interface_eu_test</td>\n",
       "      <td>2020-12-19 20:03:15</td>\n",
       "      <td>login</td>\n",
       "      <td>NaN</td>\n",
       "      <td>2020-12-14</td>\n",
       "      <td>EU</td>\n",
       "      <td>Android</td>\n",
       "      <td>5.0</td>\n",
       "    </tr>\n",
       "    <tr>\n",
       "      <td>48637</td>\n",
       "      <td>96F6E23ADBF11576</td>\n",
       "      <td>B</td>\n",
       "      <td>interface_eu_test</td>\n",
       "      <td>2020-12-13 22:08:08</td>\n",
       "      <td>login</td>\n",
       "      <td>NaN</td>\n",
       "      <td>2020-12-11</td>\n",
       "      <td>EU</td>\n",
       "      <td>iPhone</td>\n",
       "      <td>6.0</td>\n",
       "    </tr>\n",
       "    <tr>\n",
       "      <td>79126</td>\n",
       "      <td>3223573D25EFE685</td>\n",
       "      <td>A</td>\n",
       "      <td>interface_eu_test</td>\n",
       "      <td>2020-12-07 06:05:13</td>\n",
       "      <td>product_page</td>\n",
       "      <td>NaN</td>\n",
       "      <td>2020-12-07</td>\n",
       "      <td>EU</td>\n",
       "      <td>PC</td>\n",
       "      <td>0.0</td>\n",
       "    </tr>\n",
       "    <tr>\n",
       "      <td>60747</td>\n",
       "      <td>960470D44496062F</td>\n",
       "      <td>A</td>\n",
       "      <td>interface_eu_test</td>\n",
       "      <td>2020-12-22 01:01:36</td>\n",
       "      <td>login</td>\n",
       "      <td>NaN</td>\n",
       "      <td>2020-12-17</td>\n",
       "      <td>EU</td>\n",
       "      <td>Mac</td>\n",
       "      <td>1.0</td>\n",
       "    </tr>\n",
       "    <tr>\n",
       "      <td>13840</td>\n",
       "      <td>7724BDD576B38A64</td>\n",
       "      <td>B</td>\n",
       "      <td>interface_eu_test</td>\n",
       "      <td>2020-12-15 02:39:06</td>\n",
       "      <td>product_cart</td>\n",
       "      <td>NaN</td>\n",
       "      <td>2020-12-15</td>\n",
       "      <td>EU</td>\n",
       "      <td>Android</td>\n",
       "      <td>1.0</td>\n",
       "    </tr>\n",
       "    <tr>\n",
       "      <td>62079</td>\n",
       "      <td>214E14CF5CE53DD1</td>\n",
       "      <td>A</td>\n",
       "      <td>interface_eu_test</td>\n",
       "      <td>2020-12-24 08:37:04</td>\n",
       "      <td>product_page</td>\n",
       "      <td>NaN</td>\n",
       "      <td>2020-12-20</td>\n",
       "      <td>EU</td>\n",
       "      <td>Android</td>\n",
       "      <td>3.0</td>\n",
       "    </tr>\n",
       "    <tr>\n",
       "      <td>10151</td>\n",
       "      <td>3E45B9D3156B8711</td>\n",
       "      <td>A</td>\n",
       "      <td>interface_eu_test</td>\n",
       "      <td>2020-12-19 20:02:19</td>\n",
       "      <td>login</td>\n",
       "      <td>NaN</td>\n",
       "      <td>2020-12-16</td>\n",
       "      <td>EU</td>\n",
       "      <td>Android</td>\n",
       "      <td>5.0</td>\n",
       "    </tr>\n",
       "    <tr>\n",
       "      <td>36</td>\n",
       "      <td>17B16DFA7D7B5801</td>\n",
       "      <td>A</td>\n",
       "      <td>interface_eu_test</td>\n",
       "      <td>2020-12-08 15:11:56</td>\n",
       "      <td>login</td>\n",
       "      <td>NaN</td>\n",
       "      <td>2020-12-08</td>\n",
       "      <td>EU</td>\n",
       "      <td>Android</td>\n",
       "      <td>1.0</td>\n",
       "    </tr>\n",
       "    <tr>\n",
       "      <td>12738</td>\n",
       "      <td>E693F7D38AB29B7E</td>\n",
       "      <td>A</td>\n",
       "      <td>interface_eu_test</td>\n",
       "      <td>2020-12-29 22:02:40</td>\n",
       "      <td>product_page</td>\n",
       "      <td>NaN</td>\n",
       "      <td>2020-12-19</td>\n",
       "      <td>EU</td>\n",
       "      <td>Android</td>\n",
       "      <td>1.0</td>\n",
       "    </tr>\n",
       "    <tr>\n",
       "      <td>73214</td>\n",
       "      <td>65067EEDF711859C</td>\n",
       "      <td>B</td>\n",
       "      <td>interface_eu_test</td>\n",
       "      <td>2020-12-26 22:28:53</td>\n",
       "      <td>purchase</td>\n",
       "      <td>4.99</td>\n",
       "      <td>2020-12-07</td>\n",
       "      <td>EU</td>\n",
       "      <td>iPhone</td>\n",
       "      <td>5.0</td>\n",
       "    </tr>\n",
       "  </tbody>\n",
       "</table>\n",
       "</div>"
      ],
      "text/plain": [
       "                user_id group            ab_test            event_dt  \\\n",
       "11064  7F3DADACDF8F5389     B  interface_eu_test 2020-12-19 20:03:15   \n",
       "48637  96F6E23ADBF11576     B  interface_eu_test 2020-12-13 22:08:08   \n",
       "79126  3223573D25EFE685     A  interface_eu_test 2020-12-07 06:05:13   \n",
       "60747  960470D44496062F     A  interface_eu_test 2020-12-22 01:01:36   \n",
       "13840  7724BDD576B38A64     B  interface_eu_test 2020-12-15 02:39:06   \n",
       "62079  214E14CF5CE53DD1     A  interface_eu_test 2020-12-24 08:37:04   \n",
       "10151  3E45B9D3156B8711     A  interface_eu_test 2020-12-19 20:02:19   \n",
       "36     17B16DFA7D7B5801     A  interface_eu_test 2020-12-08 15:11:56   \n",
       "12738  E693F7D38AB29B7E     A  interface_eu_test 2020-12-29 22:02:40   \n",
       "73214  65067EEDF711859C     B  interface_eu_test 2020-12-26 22:28:53   \n",
       "\n",
       "         event_name  details first_date region   device  day  \n",
       "11064         login      NaN 2020-12-14     EU  Android  5.0  \n",
       "48637         login      NaN 2020-12-11     EU   iPhone  6.0  \n",
       "79126  product_page      NaN 2020-12-07     EU       PC  0.0  \n",
       "60747         login      NaN 2020-12-17     EU      Mac  1.0  \n",
       "13840  product_cart      NaN 2020-12-15     EU  Android  1.0  \n",
       "62079  product_page      NaN 2020-12-20     EU  Android  3.0  \n",
       "10151         login      NaN 2020-12-16     EU  Android  5.0  \n",
       "36            login      NaN 2020-12-08     EU  Android  1.0  \n",
       "12738  product_page      NaN 2020-12-19     EU  Android  1.0  \n",
       "73214      purchase     4.99 2020-12-07     EU   iPhone  5.0  "
      ]
     },
     "execution_count": 61,
     "metadata": {},
     "output_type": "execute_result"
    }
   ],
   "source": [
    "# adding a new column to the dataframe representing the day of week\n",
    "interface_test_data['day'] = interface_test_data.event_dt.dt.weekday\n",
    "interface_test_data.sample(10)"
   ]
  },
  {
   "cell_type": "code",
   "execution_count": 62,
   "metadata": {},
   "outputs": [],
   "source": [
    "# calculating number of events taking place on each weekday\n",
    "interface_events_by_day = interface_test_data.groupby('day').agg({'event_name': ['count']}).sort_values(\n",
    "                                                                                            by = ('event_name', 'count'), \n",
    "                                                                                            ascending=False)\n",
    "interface_events_by_day.reset_index(inplace=True)"
   ]
  },
  {
   "cell_type": "code",
   "execution_count": 63,
   "metadata": {},
   "outputs": [
    {
     "data": {
      "text/html": [
       "<div>\n",
       "<style scoped>\n",
       "    .dataframe tbody tr th:only-of-type {\n",
       "        vertical-align: middle;\n",
       "    }\n",
       "\n",
       "    .dataframe tbody tr th {\n",
       "        vertical-align: top;\n",
       "    }\n",
       "\n",
       "    .dataframe thead th {\n",
       "        text-align: right;\n",
       "    }\n",
       "</style>\n",
       "<table border=\"1\" class=\"dataframe\">\n",
       "  <thead>\n",
       "    <tr style=\"text-align: right;\">\n",
       "      <th></th>\n",
       "      <th>weekday</th>\n",
       "      <th>total_events</th>\n",
       "    </tr>\n",
       "  </thead>\n",
       "  <tbody>\n",
       "    <tr>\n",
       "      <td>0</td>\n",
       "      <td>0.0</td>\n",
       "      <td>15037</td>\n",
       "    </tr>\n",
       "    <tr>\n",
       "      <td>1</td>\n",
       "      <td>1.0</td>\n",
       "      <td>13769</td>\n",
       "    </tr>\n",
       "    <tr>\n",
       "      <td>2</td>\n",
       "      <td>2.0</td>\n",
       "      <td>11272</td>\n",
       "    </tr>\n",
       "    <tr>\n",
       "      <td>3</td>\n",
       "      <td>6.0</td>\n",
       "      <td>11198</td>\n",
       "    </tr>\n",
       "    <tr>\n",
       "      <td>4</td>\n",
       "      <td>5.0</td>\n",
       "      <td>10475</td>\n",
       "    </tr>\n",
       "    <tr>\n",
       "      <td>5</td>\n",
       "      <td>3.0</td>\n",
       "      <td>10356</td>\n",
       "    </tr>\n",
       "    <tr>\n",
       "      <td>6</td>\n",
       "      <td>4.0</td>\n",
       "      <td>6822</td>\n",
       "    </tr>\n",
       "  </tbody>\n",
       "</table>\n",
       "</div>"
      ],
      "text/plain": [
       "   weekday  total_events\n",
       "0      0.0         15037\n",
       "1      1.0         13769\n",
       "2      2.0         11272\n",
       "3      6.0         11198\n",
       "4      5.0         10475\n",
       "5      3.0         10356\n",
       "6      4.0          6822"
      ]
     },
     "execution_count": 63,
     "metadata": {},
     "output_type": "execute_result"
    }
   ],
   "source": [
    "# renaming the columns as per convinience\n",
    "interface_events_by_day.columns = ['weekday','total_events']\n",
    "\n",
    "interface_events_by_day"
   ]
  },
  {
   "cell_type": "code",
   "execution_count": 64,
   "metadata": {},
   "outputs": [
    {
     "data": {
      "text/html": [
       "<div>\n",
       "<style scoped>\n",
       "    .dataframe tbody tr th:only-of-type {\n",
       "        vertical-align: middle;\n",
       "    }\n",
       "\n",
       "    .dataframe tbody tr th {\n",
       "        vertical-align: top;\n",
       "    }\n",
       "\n",
       "    .dataframe thead th {\n",
       "        text-align: right;\n",
       "    }\n",
       "</style>\n",
       "<table border=\"1\" class=\"dataframe\">\n",
       "  <thead>\n",
       "    <tr style=\"text-align: right;\">\n",
       "      <th></th>\n",
       "      <th>weekday</th>\n",
       "      <th>total_events</th>\n",
       "    </tr>\n",
       "  </thead>\n",
       "  <tbody>\n",
       "    <tr>\n",
       "      <td>0</td>\n",
       "      <td>0.0</td>\n",
       "      <td>5108</td>\n",
       "    </tr>\n",
       "    <tr>\n",
       "      <td>1</td>\n",
       "      <td>1.0</td>\n",
       "      <td>3923</td>\n",
       "    </tr>\n",
       "    <tr>\n",
       "      <td>2</td>\n",
       "      <td>2.0</td>\n",
       "      <td>3405</td>\n",
       "    </tr>\n",
       "    <tr>\n",
       "      <td>3</td>\n",
       "      <td>3.0</td>\n",
       "      <td>3203</td>\n",
       "    </tr>\n",
       "    <tr>\n",
       "      <td>4</td>\n",
       "      <td>5.0</td>\n",
       "      <td>3101</td>\n",
       "    </tr>\n",
       "    <tr>\n",
       "      <td>5</td>\n",
       "      <td>6.0</td>\n",
       "      <td>3043</td>\n",
       "    </tr>\n",
       "    <tr>\n",
       "      <td>6</td>\n",
       "      <td>4.0</td>\n",
       "      <td>2126</td>\n",
       "    </tr>\n",
       "  </tbody>\n",
       "</table>\n",
       "</div>"
      ],
      "text/plain": [
       "   weekday  total_events\n",
       "0      0.0          5108\n",
       "1      1.0          3923\n",
       "2      2.0          3405\n",
       "3      3.0          3203\n",
       "4      5.0          3101\n",
       "5      6.0          3043\n",
       "6      4.0          2126"
      ]
     },
     "execution_count": 64,
     "metadata": {},
     "output_type": "execute_result"
    }
   ],
   "source": [
    "# calculating number of events taking place on each weekday and renaming the columns as per convinience\n",
    "recommender_events_by_day = recommender_test_data.groupby('day').agg({'event_name': ['count']}).sort_values(\n",
    "                                                                                                by = ('event_name', 'count'), \n",
    "                                                                                                ascending=False)\n",
    "recommender_events_by_day.reset_index(inplace=True)\n",
    "\n",
    "recommender_events_by_day.columns = ['weekday','total_events']\n",
    "\n",
    "recommender_events_by_day"
   ]
  },
  {
   "cell_type": "code",
   "execution_count": 65,
   "metadata": {},
   "outputs": [
    {
     "data": {
      "application/vnd.plotly.v1+json": {
       "config": {
        "plotlyServerURL": "https://plot.ly"
       },
       "data": [
        {
         "name": "interface_test",
         "type": "bar",
         "x": [
          0,
          1,
          2,
          6,
          5,
          3,
          4
         ],
         "y": [
          15037,
          13769,
          11272,
          11198,
          10475,
          10356,
          6822
         ]
        },
        {
         "name": "recommender_system_test",
         "type": "bar",
         "x": [
          0,
          1,
          2,
          3,
          5,
          6,
          4
         ],
         "y": [
          5108,
          3923,
          3405,
          3203,
          3101,
          3043,
          2126
         ]
        }
       ],
       "layout": {
        "barmode": "group",
        "template": {
         "data": {
          "bar": [
           {
            "error_x": {
             "color": "#2a3f5f"
            },
            "error_y": {
             "color": "#2a3f5f"
            },
            "marker": {
             "line": {
              "color": "#E5ECF6",
              "width": 0.5
             }
            },
            "type": "bar"
           }
          ],
          "barpolar": [
           {
            "marker": {
             "line": {
              "color": "#E5ECF6",
              "width": 0.5
             }
            },
            "type": "barpolar"
           }
          ],
          "carpet": [
           {
            "aaxis": {
             "endlinecolor": "#2a3f5f",
             "gridcolor": "white",
             "linecolor": "white",
             "minorgridcolor": "white",
             "startlinecolor": "#2a3f5f"
            },
            "baxis": {
             "endlinecolor": "#2a3f5f",
             "gridcolor": "white",
             "linecolor": "white",
             "minorgridcolor": "white",
             "startlinecolor": "#2a3f5f"
            },
            "type": "carpet"
           }
          ],
          "choropleth": [
           {
            "colorbar": {
             "outlinewidth": 0,
             "ticks": ""
            },
            "type": "choropleth"
           }
          ],
          "contour": [
           {
            "colorbar": {
             "outlinewidth": 0,
             "ticks": ""
            },
            "colorscale": [
             [
              0,
              "#0d0887"
             ],
             [
              0.1111111111,
              "#46039f"
             ],
             [
              0.2222222222,
              "#7201a8"
             ],
             [
              0.3333333333,
              "#9c179e"
             ],
             [
              0.4444444444,
              "#bd3786"
             ],
             [
              0.5555555556,
              "#d8576b"
             ],
             [
              0.6666666667,
              "#ed7953"
             ],
             [
              0.7777777778,
              "#fb9f3a"
             ],
             [
              0.8888888889,
              "#fdca26"
             ],
             [
              1,
              "#f0f921"
             ]
            ],
            "type": "contour"
           }
          ],
          "contourcarpet": [
           {
            "colorbar": {
             "outlinewidth": 0,
             "ticks": ""
            },
            "type": "contourcarpet"
           }
          ],
          "heatmap": [
           {
            "colorbar": {
             "outlinewidth": 0,
             "ticks": ""
            },
            "colorscale": [
             [
              0,
              "#0d0887"
             ],
             [
              0.1111111111,
              "#46039f"
             ],
             [
              0.2222222222,
              "#7201a8"
             ],
             [
              0.3333333333,
              "#9c179e"
             ],
             [
              0.4444444444,
              "#bd3786"
             ],
             [
              0.5555555556,
              "#d8576b"
             ],
             [
              0.6666666667,
              "#ed7953"
             ],
             [
              0.7777777778,
              "#fb9f3a"
             ],
             [
              0.8888888889,
              "#fdca26"
             ],
             [
              1,
              "#f0f921"
             ]
            ],
            "type": "heatmap"
           }
          ],
          "heatmapgl": [
           {
            "colorbar": {
             "outlinewidth": 0,
             "ticks": ""
            },
            "colorscale": [
             [
              0,
              "#0d0887"
             ],
             [
              0.1111111111,
              "#46039f"
             ],
             [
              0.2222222222,
              "#7201a8"
             ],
             [
              0.3333333333,
              "#9c179e"
             ],
             [
              0.4444444444,
              "#bd3786"
             ],
             [
              0.5555555556,
              "#d8576b"
             ],
             [
              0.6666666667,
              "#ed7953"
             ],
             [
              0.7777777778,
              "#fb9f3a"
             ],
             [
              0.8888888889,
              "#fdca26"
             ],
             [
              1,
              "#f0f921"
             ]
            ],
            "type": "heatmapgl"
           }
          ],
          "histogram": [
           {
            "marker": {
             "colorbar": {
              "outlinewidth": 0,
              "ticks": ""
             }
            },
            "type": "histogram"
           }
          ],
          "histogram2d": [
           {
            "colorbar": {
             "outlinewidth": 0,
             "ticks": ""
            },
            "colorscale": [
             [
              0,
              "#0d0887"
             ],
             [
              0.1111111111,
              "#46039f"
             ],
             [
              0.2222222222,
              "#7201a8"
             ],
             [
              0.3333333333,
              "#9c179e"
             ],
             [
              0.4444444444,
              "#bd3786"
             ],
             [
              0.5555555556,
              "#d8576b"
             ],
             [
              0.6666666667,
              "#ed7953"
             ],
             [
              0.7777777778,
              "#fb9f3a"
             ],
             [
              0.8888888889,
              "#fdca26"
             ],
             [
              1,
              "#f0f921"
             ]
            ],
            "type": "histogram2d"
           }
          ],
          "histogram2dcontour": [
           {
            "colorbar": {
             "outlinewidth": 0,
             "ticks": ""
            },
            "colorscale": [
             [
              0,
              "#0d0887"
             ],
             [
              0.1111111111,
              "#46039f"
             ],
             [
              0.2222222222,
              "#7201a8"
             ],
             [
              0.3333333333,
              "#9c179e"
             ],
             [
              0.4444444444,
              "#bd3786"
             ],
             [
              0.5555555556,
              "#d8576b"
             ],
             [
              0.6666666667,
              "#ed7953"
             ],
             [
              0.7777777778,
              "#fb9f3a"
             ],
             [
              0.8888888889,
              "#fdca26"
             ],
             [
              1,
              "#f0f921"
             ]
            ],
            "type": "histogram2dcontour"
           }
          ],
          "mesh3d": [
           {
            "colorbar": {
             "outlinewidth": 0,
             "ticks": ""
            },
            "type": "mesh3d"
           }
          ],
          "parcoords": [
           {
            "line": {
             "colorbar": {
              "outlinewidth": 0,
              "ticks": ""
             }
            },
            "type": "parcoords"
           }
          ],
          "pie": [
           {
            "automargin": true,
            "type": "pie"
           }
          ],
          "scatter": [
           {
            "marker": {
             "colorbar": {
              "outlinewidth": 0,
              "ticks": ""
             }
            },
            "type": "scatter"
           }
          ],
          "scatter3d": [
           {
            "line": {
             "colorbar": {
              "outlinewidth": 0,
              "ticks": ""
             }
            },
            "marker": {
             "colorbar": {
              "outlinewidth": 0,
              "ticks": ""
             }
            },
            "type": "scatter3d"
           }
          ],
          "scattercarpet": [
           {
            "marker": {
             "colorbar": {
              "outlinewidth": 0,
              "ticks": ""
             }
            },
            "type": "scattercarpet"
           }
          ],
          "scattergeo": [
           {
            "marker": {
             "colorbar": {
              "outlinewidth": 0,
              "ticks": ""
             }
            },
            "type": "scattergeo"
           }
          ],
          "scattergl": [
           {
            "marker": {
             "colorbar": {
              "outlinewidth": 0,
              "ticks": ""
             }
            },
            "type": "scattergl"
           }
          ],
          "scattermapbox": [
           {
            "marker": {
             "colorbar": {
              "outlinewidth": 0,
              "ticks": ""
             }
            },
            "type": "scattermapbox"
           }
          ],
          "scatterpolar": [
           {
            "marker": {
             "colorbar": {
              "outlinewidth": 0,
              "ticks": ""
             }
            },
            "type": "scatterpolar"
           }
          ],
          "scatterpolargl": [
           {
            "marker": {
             "colorbar": {
              "outlinewidth": 0,
              "ticks": ""
             }
            },
            "type": "scatterpolargl"
           }
          ],
          "scatterternary": [
           {
            "marker": {
             "colorbar": {
              "outlinewidth": 0,
              "ticks": ""
             }
            },
            "type": "scatterternary"
           }
          ],
          "surface": [
           {
            "colorbar": {
             "outlinewidth": 0,
             "ticks": ""
            },
            "colorscale": [
             [
              0,
              "#0d0887"
             ],
             [
              0.1111111111,
              "#46039f"
             ],
             [
              0.2222222222,
              "#7201a8"
             ],
             [
              0.3333333333,
              "#9c179e"
             ],
             [
              0.4444444444,
              "#bd3786"
             ],
             [
              0.5555555556,
              "#d8576b"
             ],
             [
              0.6666666667,
              "#ed7953"
             ],
             [
              0.7777777778,
              "#fb9f3a"
             ],
             [
              0.8888888889,
              "#fdca26"
             ],
             [
              1,
              "#f0f921"
             ]
            ],
            "type": "surface"
           }
          ],
          "table": [
           {
            "cells": {
             "fill": {
              "color": "#EBF0F8"
             },
             "line": {
              "color": "white"
             }
            },
            "header": {
             "fill": {
              "color": "#C8D4E3"
             },
             "line": {
              "color": "white"
             }
            },
            "type": "table"
           }
          ]
         },
         "layout": {
          "annotationdefaults": {
           "arrowcolor": "#2a3f5f",
           "arrowhead": 0,
           "arrowwidth": 1
          },
          "coloraxis": {
           "colorbar": {
            "outlinewidth": 0,
            "ticks": ""
           }
          },
          "colorscale": {
           "diverging": [
            [
             0,
             "#8e0152"
            ],
            [
             0.1,
             "#c51b7d"
            ],
            [
             0.2,
             "#de77ae"
            ],
            [
             0.3,
             "#f1b6da"
            ],
            [
             0.4,
             "#fde0ef"
            ],
            [
             0.5,
             "#f7f7f7"
            ],
            [
             0.6,
             "#e6f5d0"
            ],
            [
             0.7,
             "#b8e186"
            ],
            [
             0.8,
             "#7fbc41"
            ],
            [
             0.9,
             "#4d9221"
            ],
            [
             1,
             "#276419"
            ]
           ],
           "sequential": [
            [
             0,
             "#0d0887"
            ],
            [
             0.1111111111,
             "#46039f"
            ],
            [
             0.2222222222,
             "#7201a8"
            ],
            [
             0.3333333333,
             "#9c179e"
            ],
            [
             0.4444444444,
             "#bd3786"
            ],
            [
             0.5555555556,
             "#d8576b"
            ],
            [
             0.6666666667,
             "#ed7953"
            ],
            [
             0.7777777778,
             "#fb9f3a"
            ],
            [
             0.8888888889,
             "#fdca26"
            ],
            [
             1,
             "#f0f921"
            ]
           ],
           "sequentialminus": [
            [
             0,
             "#0d0887"
            ],
            [
             0.1111111111,
             "#46039f"
            ],
            [
             0.2222222222,
             "#7201a8"
            ],
            [
             0.3333333333,
             "#9c179e"
            ],
            [
             0.4444444444,
             "#bd3786"
            ],
            [
             0.5555555556,
             "#d8576b"
            ],
            [
             0.6666666667,
             "#ed7953"
            ],
            [
             0.7777777778,
             "#fb9f3a"
            ],
            [
             0.8888888889,
             "#fdca26"
            ],
            [
             1,
             "#f0f921"
            ]
           ]
          },
          "colorway": [
           "#636efa",
           "#EF553B",
           "#00cc96",
           "#ab63fa",
           "#FFA15A",
           "#19d3f3",
           "#FF6692",
           "#B6E880",
           "#FF97FF",
           "#FECB52"
          ],
          "font": {
           "color": "#2a3f5f"
          },
          "geo": {
           "bgcolor": "white",
           "lakecolor": "white",
           "landcolor": "#E5ECF6",
           "showlakes": true,
           "showland": true,
           "subunitcolor": "white"
          },
          "hoverlabel": {
           "align": "left"
          },
          "hovermode": "closest",
          "mapbox": {
           "style": "light"
          },
          "paper_bgcolor": "white",
          "plot_bgcolor": "#E5ECF6",
          "polar": {
           "angularaxis": {
            "gridcolor": "white",
            "linecolor": "white",
            "ticks": ""
           },
           "bgcolor": "#E5ECF6",
           "radialaxis": {
            "gridcolor": "white",
            "linecolor": "white",
            "ticks": ""
           }
          },
          "scene": {
           "xaxis": {
            "backgroundcolor": "#E5ECF6",
            "gridcolor": "white",
            "gridwidth": 2,
            "linecolor": "white",
            "showbackground": true,
            "ticks": "",
            "zerolinecolor": "white"
           },
           "yaxis": {
            "backgroundcolor": "#E5ECF6",
            "gridcolor": "white",
            "gridwidth": 2,
            "linecolor": "white",
            "showbackground": true,
            "ticks": "",
            "zerolinecolor": "white"
           },
           "zaxis": {
            "backgroundcolor": "#E5ECF6",
            "gridcolor": "white",
            "gridwidth": 2,
            "linecolor": "white",
            "showbackground": true,
            "ticks": "",
            "zerolinecolor": "white"
           }
          },
          "shapedefaults": {
           "line": {
            "color": "#2a3f5f"
           }
          },
          "ternary": {
           "aaxis": {
            "gridcolor": "white",
            "linecolor": "white",
            "ticks": ""
           },
           "baxis": {
            "gridcolor": "white",
            "linecolor": "white",
            "ticks": ""
           },
           "bgcolor": "#E5ECF6",
           "caxis": {
            "gridcolor": "white",
            "linecolor": "white",
            "ticks": ""
           }
          },
          "title": {
           "x": 0.05
          },
          "xaxis": {
           "automargin": true,
           "gridcolor": "white",
           "linecolor": "white",
           "ticks": "",
           "title": {
            "standoff": 15
           },
           "zerolinecolor": "white",
           "zerolinewidth": 2
          },
          "yaxis": {
           "automargin": true,
           "gridcolor": "white",
           "linecolor": "white",
           "ticks": "",
           "title": {
            "standoff": 15
           },
           "zerolinecolor": "white",
           "zerolinewidth": 2
          }
         }
        },
        "title": {
         "text": "Number of events distributed among days"
        },
        "xaxis": {
         "title": {
          "text": "Weekday"
         }
        },
        "yaxis": {
         "title": {
          "text": "Number of events"
         }
        }
       }
      },
      "text/html": [
       "<div>\n",
       "        \n",
       "        \n",
       "            <div id=\"1bd50e74-3543-47dc-857a-35447ffca741\" class=\"plotly-graph-div\" style=\"height:525px; width:100%;\"></div>\n",
       "            <script type=\"text/javascript\">\n",
       "                require([\"plotly\"], function(Plotly) {\n",
       "                    window.PLOTLYENV=window.PLOTLYENV || {};\n",
       "                    \n",
       "                if (document.getElementById(\"1bd50e74-3543-47dc-857a-35447ffca741\")) {\n",
       "                    Plotly.newPlot(\n",
       "                        '1bd50e74-3543-47dc-857a-35447ffca741',\n",
       "                        [{\"name\": \"interface_test\", \"type\": \"bar\", \"x\": [0.0, 1.0, 2.0, 6.0, 5.0, 3.0, 4.0], \"y\": [15037, 13769, 11272, 11198, 10475, 10356, 6822]}, {\"name\": \"recommender_system_test\", \"type\": \"bar\", \"x\": [0.0, 1.0, 2.0, 3.0, 5.0, 6.0, 4.0], \"y\": [5108, 3923, 3405, 3203, 3101, 3043, 2126]}],\n",
       "                        {\"barmode\": \"group\", \"template\": {\"data\": {\"bar\": [{\"error_x\": {\"color\": \"#2a3f5f\"}, \"error_y\": {\"color\": \"#2a3f5f\"}, \"marker\": {\"line\": {\"color\": \"#E5ECF6\", \"width\": 0.5}}, \"type\": \"bar\"}], \"barpolar\": [{\"marker\": {\"line\": {\"color\": \"#E5ECF6\", \"width\": 0.5}}, \"type\": \"barpolar\"}], \"carpet\": [{\"aaxis\": {\"endlinecolor\": \"#2a3f5f\", \"gridcolor\": \"white\", \"linecolor\": \"white\", \"minorgridcolor\": \"white\", \"startlinecolor\": \"#2a3f5f\"}, \"baxis\": {\"endlinecolor\": \"#2a3f5f\", \"gridcolor\": \"white\", \"linecolor\": \"white\", \"minorgridcolor\": \"white\", \"startlinecolor\": \"#2a3f5f\"}, \"type\": \"carpet\"}], \"choropleth\": [{\"colorbar\": {\"outlinewidth\": 0, \"ticks\": \"\"}, \"type\": \"choropleth\"}], \"contour\": [{\"colorbar\": {\"outlinewidth\": 0, \"ticks\": \"\"}, \"colorscale\": [[0.0, \"#0d0887\"], [0.1111111111111111, \"#46039f\"], [0.2222222222222222, \"#7201a8\"], [0.3333333333333333, \"#9c179e\"], [0.4444444444444444, \"#bd3786\"], [0.5555555555555556, \"#d8576b\"], [0.6666666666666666, \"#ed7953\"], [0.7777777777777778, \"#fb9f3a\"], [0.8888888888888888, \"#fdca26\"], [1.0, \"#f0f921\"]], \"type\": \"contour\"}], \"contourcarpet\": [{\"colorbar\": {\"outlinewidth\": 0, \"ticks\": \"\"}, \"type\": \"contourcarpet\"}], \"heatmap\": [{\"colorbar\": {\"outlinewidth\": 0, \"ticks\": \"\"}, \"colorscale\": [[0.0, \"#0d0887\"], [0.1111111111111111, \"#46039f\"], [0.2222222222222222, \"#7201a8\"], [0.3333333333333333, \"#9c179e\"], [0.4444444444444444, \"#bd3786\"], [0.5555555555555556, \"#d8576b\"], [0.6666666666666666, \"#ed7953\"], [0.7777777777777778, \"#fb9f3a\"], [0.8888888888888888, \"#fdca26\"], [1.0, \"#f0f921\"]], \"type\": \"heatmap\"}], \"heatmapgl\": [{\"colorbar\": {\"outlinewidth\": 0, \"ticks\": \"\"}, \"colorscale\": [[0.0, \"#0d0887\"], [0.1111111111111111, \"#46039f\"], [0.2222222222222222, \"#7201a8\"], [0.3333333333333333, \"#9c179e\"], [0.4444444444444444, \"#bd3786\"], [0.5555555555555556, \"#d8576b\"], [0.6666666666666666, \"#ed7953\"], [0.7777777777777778, \"#fb9f3a\"], [0.8888888888888888, \"#fdca26\"], [1.0, \"#f0f921\"]], \"type\": \"heatmapgl\"}], \"histogram\": [{\"marker\": {\"colorbar\": {\"outlinewidth\": 0, \"ticks\": \"\"}}, \"type\": \"histogram\"}], \"histogram2d\": [{\"colorbar\": {\"outlinewidth\": 0, \"ticks\": \"\"}, \"colorscale\": [[0.0, \"#0d0887\"], [0.1111111111111111, \"#46039f\"], [0.2222222222222222, \"#7201a8\"], [0.3333333333333333, \"#9c179e\"], [0.4444444444444444, \"#bd3786\"], [0.5555555555555556, \"#d8576b\"], [0.6666666666666666, \"#ed7953\"], [0.7777777777777778, \"#fb9f3a\"], [0.8888888888888888, \"#fdca26\"], [1.0, \"#f0f921\"]], \"type\": \"histogram2d\"}], \"histogram2dcontour\": [{\"colorbar\": {\"outlinewidth\": 0, \"ticks\": \"\"}, \"colorscale\": [[0.0, \"#0d0887\"], [0.1111111111111111, \"#46039f\"], [0.2222222222222222, \"#7201a8\"], [0.3333333333333333, \"#9c179e\"], [0.4444444444444444, \"#bd3786\"], [0.5555555555555556, \"#d8576b\"], [0.6666666666666666, \"#ed7953\"], [0.7777777777777778, \"#fb9f3a\"], [0.8888888888888888, \"#fdca26\"], [1.0, \"#f0f921\"]], \"type\": \"histogram2dcontour\"}], \"mesh3d\": [{\"colorbar\": {\"outlinewidth\": 0, \"ticks\": \"\"}, \"type\": \"mesh3d\"}], \"parcoords\": [{\"line\": {\"colorbar\": {\"outlinewidth\": 0, \"ticks\": \"\"}}, \"type\": \"parcoords\"}], \"pie\": [{\"automargin\": true, \"type\": \"pie\"}], \"scatter\": [{\"marker\": {\"colorbar\": {\"outlinewidth\": 0, \"ticks\": \"\"}}, \"type\": \"scatter\"}], \"scatter3d\": [{\"line\": {\"colorbar\": {\"outlinewidth\": 0, \"ticks\": \"\"}}, \"marker\": {\"colorbar\": {\"outlinewidth\": 0, \"ticks\": \"\"}}, \"type\": \"scatter3d\"}], \"scattercarpet\": [{\"marker\": {\"colorbar\": {\"outlinewidth\": 0, \"ticks\": \"\"}}, \"type\": \"scattercarpet\"}], \"scattergeo\": [{\"marker\": {\"colorbar\": {\"outlinewidth\": 0, \"ticks\": \"\"}}, \"type\": \"scattergeo\"}], \"scattergl\": [{\"marker\": {\"colorbar\": {\"outlinewidth\": 0, \"ticks\": \"\"}}, \"type\": \"scattergl\"}], \"scattermapbox\": [{\"marker\": {\"colorbar\": {\"outlinewidth\": 0, \"ticks\": \"\"}}, \"type\": \"scattermapbox\"}], \"scatterpolar\": [{\"marker\": {\"colorbar\": {\"outlinewidth\": 0, \"ticks\": \"\"}}, \"type\": \"scatterpolar\"}], \"scatterpolargl\": [{\"marker\": {\"colorbar\": {\"outlinewidth\": 0, \"ticks\": \"\"}}, \"type\": \"scatterpolargl\"}], \"scatterternary\": [{\"marker\": {\"colorbar\": {\"outlinewidth\": 0, \"ticks\": \"\"}}, \"type\": \"scatterternary\"}], \"surface\": [{\"colorbar\": {\"outlinewidth\": 0, \"ticks\": \"\"}, \"colorscale\": [[0.0, \"#0d0887\"], [0.1111111111111111, \"#46039f\"], [0.2222222222222222, \"#7201a8\"], [0.3333333333333333, \"#9c179e\"], [0.4444444444444444, \"#bd3786\"], [0.5555555555555556, \"#d8576b\"], [0.6666666666666666, \"#ed7953\"], [0.7777777777777778, \"#fb9f3a\"], [0.8888888888888888, \"#fdca26\"], [1.0, \"#f0f921\"]], \"type\": \"surface\"}], \"table\": [{\"cells\": {\"fill\": {\"color\": \"#EBF0F8\"}, \"line\": {\"color\": \"white\"}}, \"header\": {\"fill\": {\"color\": \"#C8D4E3\"}, \"line\": {\"color\": \"white\"}}, \"type\": \"table\"}]}, \"layout\": {\"annotationdefaults\": {\"arrowcolor\": \"#2a3f5f\", \"arrowhead\": 0, \"arrowwidth\": 1}, \"coloraxis\": {\"colorbar\": {\"outlinewidth\": 0, \"ticks\": \"\"}}, \"colorscale\": {\"diverging\": [[0, \"#8e0152\"], [0.1, \"#c51b7d\"], [0.2, \"#de77ae\"], [0.3, \"#f1b6da\"], [0.4, \"#fde0ef\"], [0.5, \"#f7f7f7\"], [0.6, \"#e6f5d0\"], [0.7, \"#b8e186\"], [0.8, \"#7fbc41\"], [0.9, \"#4d9221\"], [1, \"#276419\"]], \"sequential\": [[0.0, \"#0d0887\"], [0.1111111111111111, \"#46039f\"], [0.2222222222222222, \"#7201a8\"], [0.3333333333333333, \"#9c179e\"], [0.4444444444444444, \"#bd3786\"], [0.5555555555555556, \"#d8576b\"], [0.6666666666666666, \"#ed7953\"], [0.7777777777777778, \"#fb9f3a\"], [0.8888888888888888, \"#fdca26\"], [1.0, \"#f0f921\"]], \"sequentialminus\": [[0.0, \"#0d0887\"], [0.1111111111111111, \"#46039f\"], [0.2222222222222222, \"#7201a8\"], [0.3333333333333333, \"#9c179e\"], [0.4444444444444444, \"#bd3786\"], [0.5555555555555556, \"#d8576b\"], [0.6666666666666666, \"#ed7953\"], [0.7777777777777778, \"#fb9f3a\"], [0.8888888888888888, \"#fdca26\"], [1.0, \"#f0f921\"]]}, \"colorway\": [\"#636efa\", \"#EF553B\", \"#00cc96\", \"#ab63fa\", \"#FFA15A\", \"#19d3f3\", \"#FF6692\", \"#B6E880\", \"#FF97FF\", \"#FECB52\"], \"font\": {\"color\": \"#2a3f5f\"}, \"geo\": {\"bgcolor\": \"white\", \"lakecolor\": \"white\", \"landcolor\": \"#E5ECF6\", \"showlakes\": true, \"showland\": true, \"subunitcolor\": \"white\"}, \"hoverlabel\": {\"align\": \"left\"}, \"hovermode\": \"closest\", \"mapbox\": {\"style\": \"light\"}, \"paper_bgcolor\": \"white\", \"plot_bgcolor\": \"#E5ECF6\", \"polar\": {\"angularaxis\": {\"gridcolor\": \"white\", \"linecolor\": \"white\", \"ticks\": \"\"}, \"bgcolor\": \"#E5ECF6\", \"radialaxis\": {\"gridcolor\": \"white\", \"linecolor\": \"white\", \"ticks\": \"\"}}, \"scene\": {\"xaxis\": {\"backgroundcolor\": \"#E5ECF6\", \"gridcolor\": \"white\", \"gridwidth\": 2, \"linecolor\": \"white\", \"showbackground\": true, \"ticks\": \"\", \"zerolinecolor\": \"white\"}, \"yaxis\": {\"backgroundcolor\": \"#E5ECF6\", \"gridcolor\": \"white\", \"gridwidth\": 2, \"linecolor\": \"white\", \"showbackground\": true, \"ticks\": \"\", \"zerolinecolor\": \"white\"}, \"zaxis\": {\"backgroundcolor\": \"#E5ECF6\", \"gridcolor\": \"white\", \"gridwidth\": 2, \"linecolor\": \"white\", \"showbackground\": true, \"ticks\": \"\", \"zerolinecolor\": \"white\"}}, \"shapedefaults\": {\"line\": {\"color\": \"#2a3f5f\"}}, \"ternary\": {\"aaxis\": {\"gridcolor\": \"white\", \"linecolor\": \"white\", \"ticks\": \"\"}, \"baxis\": {\"gridcolor\": \"white\", \"linecolor\": \"white\", \"ticks\": \"\"}, \"bgcolor\": \"#E5ECF6\", \"caxis\": {\"gridcolor\": \"white\", \"linecolor\": \"white\", \"ticks\": \"\"}}, \"title\": {\"x\": 0.05}, \"xaxis\": {\"automargin\": true, \"gridcolor\": \"white\", \"linecolor\": \"white\", \"ticks\": \"\", \"title\": {\"standoff\": 15}, \"zerolinecolor\": \"white\", \"zerolinewidth\": 2}, \"yaxis\": {\"automargin\": true, \"gridcolor\": \"white\", \"linecolor\": \"white\", \"ticks\": \"\", \"title\": {\"standoff\": 15}, \"zerolinecolor\": \"white\", \"zerolinewidth\": 2}}}, \"title\": {\"text\": \"Number of events distributed among days\"}, \"xaxis\": {\"title\": {\"text\": \"Weekday\"}}, \"yaxis\": {\"title\": {\"text\": \"Number of events\"}}},\n",
       "                        {\"responsive\": true}\n",
       "                    ).then(function(){\n",
       "                            \n",
       "var gd = document.getElementById('1bd50e74-3543-47dc-857a-35447ffca741');\n",
       "var x = new MutationObserver(function (mutations, observer) {{\n",
       "        var display = window.getComputedStyle(gd).display;\n",
       "        if (!display || display === 'none') {{\n",
       "            console.log([gd, 'removed!']);\n",
       "            Plotly.purge(gd);\n",
       "            observer.disconnect();\n",
       "        }}\n",
       "}});\n",
       "\n",
       "// Listen for the removal of the full notebook cells\n",
       "var notebookContainer = gd.closest('#notebook-container');\n",
       "if (notebookContainer) {{\n",
       "    x.observe(notebookContainer, {childList: true});\n",
       "}}\n",
       "\n",
       "// Listen for the clearing of the current output cell\n",
       "var outputEl = gd.closest('.output');\n",
       "if (outputEl) {{\n",
       "    x.observe(outputEl, {childList: true});\n",
       "}}\n",
       "\n",
       "                        })\n",
       "                };\n",
       "                });\n",
       "            </script>\n",
       "        </div>"
      ]
     },
     "metadata": {},
     "output_type": "display_data"
    }
   ],
   "source": [
    "# plotting a plotly bar graph showing number of events per weekday for both the ab_tests\n",
    "fig = go.Figure(data=[\n",
    "    go.Bar(name='interface_test', x=interface_events_by_day['weekday'], y=interface_events_by_day.total_events),\n",
    "    go.Bar(name='recommender_system_test', x=recommender_events_by_day['weekday'], y=recommender_events_by_day.total_events)\n",
    "])\n",
    "# Change the bar mode\n",
    "fig.update_layout(barmode='group')\n",
    "fig.update_layout(title='Number of events distributed among days',\n",
    "                  yaxis={'title':'Number of events'},\n",
    "                 xaxis={'title':'Weekday'})\n",
    "\n",
    "fig.show()\n"
   ]
  },
  {
   "cell_type": "markdown",
   "metadata": {},
   "source": [
    "In the graph weekday starts from Monday which is denoted by 0 and is followed by corresponding day for the succeeding numbers like 1 is Tuesday and so on till 6 being Sunday. We see that, for both ab_tests the total number of events taking place is highest on Monday and being least on Fridays. May be people are busy making plans for the weekends :P \n",
    "\n",
    "Yet again , the interface_test has better results here than that of recommender_system_test."
   ]
  },
  {
   "cell_type": "markdown",
   "metadata": {},
   "source": [
    "### Checking if the condition 15% of the new users from the EU region is satisfied\n"
   ]
  },
  {
   "cell_type": "code",
   "execution_count": 66,
   "metadata": {},
   "outputs": [
    {
     "data": {
      "text/plain": [
       "EU           79646\n",
       "N.America        0\n",
       "CIS              0\n",
       "APAC             0\n",
       "Name: region, dtype: int64"
      ]
     },
     "execution_count": 66,
     "metadata": {},
     "output_type": "execute_result"
    }
   ],
   "source": [
    "interface_test_data.region.value_counts()"
   ]
  },
  {
   "cell_type": "markdown",
   "metadata": {},
   "source": [
    "We see that in both the test there are atleast 15% of new users from EU region"
   ]
  },
  {
   "cell_type": "code",
   "execution_count": 67,
   "metadata": {},
   "outputs": [
    {
     "data": {
      "text/plain": [
       "EU           25544\n",
       "N.America      908\n",
       "APAC           252\n",
       "CIS            231\n",
       "Name: region, dtype: int64"
      ]
     },
     "execution_count": 67,
     "metadata": {},
     "output_type": "execute_result"
    }
   ],
   "source": [
    "recommender_test_data.region.value_counts()"
   ]
  },
  {
   "cell_type": "code",
   "execution_count": 68,
   "metadata": {},
   "outputs": [
    {
     "data": {
      "text/plain": [
       "0.18737142209191193"
      ]
     },
     "execution_count": 68,
     "metadata": {},
     "output_type": "execute_result"
    }
   ],
   "source": [
    "eu_users_interface = interface_test_data.user_id.nunique() / final_ab_new_users.user_id.nunique()\n",
    "eu_users_interface"
   ]
  },
  {
   "cell_type": "code",
   "execution_count": 70,
   "metadata": {},
   "outputs": [
    {
     "data": {
      "text/plain": [
       "0.10854810231156756"
      ]
     },
     "execution_count": 70,
     "metadata": {},
     "output_type": "execute_result"
    }
   ],
   "source": [
    "eu_users_recom_test = recommender_test_data.user_id.nunique() / final_ab_new_users.user_id.nunique()\n",
    "eu_users_recom_test"
   ]
  },
  {
   "cell_type": "markdown",
   "metadata": {},
   "source": [
    "As we can see that there are about 19% EU users in the inteface_test and almost 11% EU users in recommender_system_test_data. As the experiments demands for 15% EU users we shall now proceed with the interface ab_test."
   ]
  },
  {
   "cell_type": "markdown",
   "metadata": {},
   "source": [
    "### Are there any peculiarities in the data that you have to take into account before starting the A/B test?"
   ]
  },
  {
   "cell_type": "markdown",
   "metadata": {},
   "source": [
    "Based on the above analysis, we conclude that we can consider proceeding further in our analysis with the interface_test rather than recommender_system_test due to the following reasons:\n",
    "\n",
    "1. There are only 3675 users who made any event out of 6701 test participants in the recommender_system_test but expected number of active users is 6000.\n",
    "2. Number of users for each ab_test  per event are very less in the recommender_system_test,\n",
    "3. Interface_test has better results in both per stage and overall conversion percentage of users when compared to recommender_user_test dataframe.\n",
    "4. Average number of events per user is distributed equally in the two groups of interface_test and not in the recommender_system_test.\n"
   ]
  },
  {
   "cell_type": "markdown",
   "metadata": {},
   "source": [
    "### Calculating cummulative revenue for the groups A & B for the interface_test"
   ]
  },
  {
   "cell_type": "code",
   "execution_count": 61,
   "metadata": {},
   "outputs": [
    {
     "name": "stdout",
     "output_type": "stream",
     "text": [
      "group\n",
      "A    145954.26\n",
      "B    129659.30\n",
      "Name: revenue, dtype: float64\n"
     ]
    }
   ],
   "source": [
    "# calculating the cummulative revenue of both the groups\n",
    "\n",
    "cumulative_revenue =  interface_test_data.groupby(['event_dt','group']).agg({'details': 'sum'}).reset_index()\n",
    "cumulative_revenue.columns = ['event_dt','group','revenue']\n",
    "print(cumulative_revenue.groupby('group').revenue.sum())\n"
   ]
  },
  {
   "cell_type": "markdown",
   "metadata": {},
   "source": [
    "Clearly Group 'A' has higher revenue when compared to group 'B'."
   ]
  },
  {
   "cell_type": "markdown",
   "metadata": {},
   "source": [
    "### Checking whether users are split equally in both the groups"
   ]
  },
  {
   "cell_type": "code",
   "execution_count": 62,
   "metadata": {},
   "outputs": [
    {
     "name": "stdout",
     "output_type": "stream",
     "text": [
      "Users in control group A: 50 %\n",
      "Users in  group B: 50 %\n"
     ]
    }
   ],
   "source": [
    "# calculating number of users in each group\n",
    "group_A=len(interface_test_data[interface_test_data.group=='A']['user_id'].value_counts())\n",
    "group_B=len(interface_test_data[interface_test_data.group=='B']['user_id'].value_counts())\n",
    "\n",
    "total = group_A + group_B \n",
    "print('Users in control group A: {:.0f}'.format(group_A/total*100),'%')\n",
    "print('Users in  group B: {:.0f}'.format(group_B/total*100),'%')"
   ]
  },
  {
   "cell_type": "markdown",
   "metadata": {},
   "source": [
    "Yes, they're split in groups correctly!"
   ]
  },
  {
   "cell_type": "code",
   "execution_count": 63,
   "metadata": {},
   "outputs": [],
   "source": [
    "# calculating share of users per event in both the groups A & B\n",
    "pivot = interface_test_data.pivot_table(index='event_name', values='user_id', columns='group', aggfunc=lambda x: x.nunique())\n",
    "pivot.reset_index(inplace=True)"
   ]
  },
  {
   "cell_type": "code",
   "execution_count": 64,
   "metadata": {},
   "outputs": [
    {
     "data": {
      "text/html": [
       "<div>\n",
       "<style scoped>\n",
       "    .dataframe tbody tr th:only-of-type {\n",
       "        vertical-align: middle;\n",
       "    }\n",
       "\n",
       "    .dataframe tbody tr th {\n",
       "        vertical-align: top;\n",
       "    }\n",
       "\n",
       "    .dataframe thead th {\n",
       "        text-align: right;\n",
       "    }\n",
       "</style>\n",
       "<table border=\"1\" class=\"dataframe\">\n",
       "  <thead>\n",
       "    <tr style=\"text-align: right;\">\n",
       "      <th>group</th>\n",
       "      <th>A</th>\n",
       "      <th>B</th>\n",
       "    </tr>\n",
       "    <tr>\n",
       "      <th>event_name</th>\n",
       "      <th></th>\n",
       "      <th></th>\n",
       "    </tr>\n",
       "  </thead>\n",
       "  <tbody>\n",
       "    <tr>\n",
       "      <td>login</td>\n",
       "      <td>0.427298</td>\n",
       "      <td>0.430502</td>\n",
       "    </tr>\n",
       "    <tr>\n",
       "      <td>product_cart</td>\n",
       "      <td>0.137273</td>\n",
       "      <td>0.144914</td>\n",
       "    </tr>\n",
       "    <tr>\n",
       "      <td>product_page</td>\n",
       "      <td>0.284475</td>\n",
       "      <td>0.282070</td>\n",
       "    </tr>\n",
       "    <tr>\n",
       "      <td>purchase</td>\n",
       "      <td>0.150954</td>\n",
       "      <td>0.142514</td>\n",
       "    </tr>\n",
       "  </tbody>\n",
       "</table>\n",
       "</div>"
      ],
      "text/plain": [
       "group                A         B\n",
       "event_name                      \n",
       "login         0.427298  0.430502\n",
       "product_cart  0.137273  0.144914\n",
       "product_page  0.284475  0.282070\n",
       "purchase      0.150954  0.142514"
      ]
     },
     "execution_count": 64,
     "metadata": {},
     "output_type": "execute_result"
    }
   ],
   "source": [
    "pivot_ = pd.crosstab(interface_test_data.event_name,\n",
    "                     interface_test_data.group,\n",
    "                     values=interface_test_data.user_id,\n",
    "                     aggfunc='nunique', normalize='columns')\n",
    "pivot_"
   ]
  },
  {
   "cell_type": "code",
   "execution_count": 65,
   "metadata": {},
   "outputs": [
    {
     "data": {
      "image/png": "[encoded data removed]",
      "text/plain": [
       "<Figure size 720x360 with 1 Axes>"
      ]
     },
     "metadata": {
      "needs_background": "light"
     },
     "output_type": "display_data"
    }
   ],
   "source": [
    "# plotting a bar graph to show percent share of users per event per group\n",
    "ax = pivot_.plot(kind='bar',figsize=(10,5))\n",
    "ax.set_title('Graph showing percent share of users per event per group')\n",
    "ax.set_xlabel('Name of the event')\n",
    "ax.set_ylabel('Share of users');"
   ]
  },
  {
   "cell_type": "markdown",
   "metadata": {},
   "source": [
    "We can see that there is less than 0.5% difference between the number of users split into two groups A & B. Therefore, we can happily proceed further with our analysis."
   ]
  },
  {
   "cell_type": "markdown",
   "metadata": {},
   "source": [
    "### Use a z-test to check the statistical difference between the proportions."
   ]
  },
  {
   "cell_type": "markdown",
   "metadata": {},
   "source": [
    "#### Formulating Hypothesis"
   ]
  },
  {
   "cell_type": "markdown",
   "metadata": {},
   "source": [
    "Null Hypothesis : H0 - There is no statistical significant difference between the conversions of two groups.\n",
    "\n",
    "Alternative Hypothesis : H1 - The conversions between the two groups have statistical significant difference"
   ]
  },
  {
   "cell_type": "code",
   "execution_count": 66,
   "metadata": {},
   "outputs": [],
   "source": [
    "# formulating a function to Check whether the difference between the groups is statistically significant for different events\n",
    "def check_hypothesis(group1,group2, event, alpha=0.05):\n",
    "    #let's start with successes, using \n",
    "    successes1=pivot[pivot.event_name==event][group1].iloc[0]\n",
    "    successes2=pivot[pivot.event_name==event][group2].iloc[0]\n",
    "    \n",
    "    #for trials we can go back to original df or used a pre-aggregated data\n",
    "    trials1=interface_test_data[interface_test_data.group==group1]['user_id'].nunique()\n",
    "    trials2=interface_test_data[interface_test_data.group==group2]['user_id'].nunique()\n",
    "    \n",
    "    #proportion for success in the first group\n",
    "    p1 = successes1/trials1\n",
    "\n",
    "   #proportion for success in the second group\n",
    "    p2 = successes2/trials2\n",
    "\n",
    "    # proportion in a combined dataset\n",
    "    p_combined = (successes1 + successes2) / (trials1 + trials2)\n",
    "\n",
    "  \n",
    "    difference = p1 - p2\n",
    "    \n",
    "    \n",
    "    z_value = difference / mth.sqrt(p_combined * (1 - p_combined) * (1/trials1 + 1/trials2))\n",
    "\n",
    "  \n",
    "    distr = st.norm(0, 1) \n",
    "\n",
    "\n",
    "    p_value = (1 - distr.cdf(abs(z_value))) * 2\n",
    "\n",
    "    print('p-value: ', p_value)\n",
    "\n",
    "    if (p_value < alpha):\n",
    "        print(\"Reject H0 for\",event, 'and groups',group1,group2)\n",
    "    else:\n",
    "        print(\"Fail to Reject H0 for\", event,'and groups',group1,group2)  "
   ]
  },
  {
   "cell_type": "code",
   "execution_count": 67,
   "metadata": {},
   "outputs": [
    {
     "name": "stdout",
     "output_type": "stream",
     "text": [
      "p-value:  0.814062888768059\n",
      "Fail to Reject H0 for login and groups A B\n",
      "p-value:  0.0859111947332698\n",
      "Fail to Reject H0 for product_cart and groups A B\n",
      "p-value:  0.30875632339671144\n",
      "Fail to Reject H0 for product_page and groups A B\n",
      "p-value:  0.01826370095380514\n",
      "Reject H0 for purchase and groups A B\n"
     ]
    }
   ],
   "source": [
    "# writing a for loop to keep the function iterating through the events for groups A & B\n",
    "for i in pivot.event_name.unique():\n",
    "    check_hypothesis('A','B', i, alpha=0.05)"
   ]
  },
  {
   "cell_type": "markdown",
   "metadata": {},
   "source": [
    "There were total 4 tests conducted and out of them only three samples seems to have no statistical significant difference between the proportions.\n",
    "\n",
    "Here we can see that, except the 'purchase' event all other events have no statistical significant difference between the proportions. Therefore , we may need to proceed further by using a midifed alpha value which can acquired using the bon ferroni correction factor."
   ]
  },
  {
   "cell_type": "code",
   "execution_count": 68,
   "metadata": {},
   "outputs": [
    {
     "data": {
      "text/plain": [
       "0.0125"
      ]
     },
     "execution_count": 68,
     "metadata": {},
     "output_type": "execute_result"
    }
   ],
   "source": [
    "# calculating bon ferroni correction factor \n",
    "bon_ferroni_correction = 0.05 / 4\n",
    "bon_ferroni_correction"
   ]
  },
  {
   "cell_type": "code",
   "execution_count": 69,
   "metadata": {},
   "outputs": [
    {
     "name": "stdout",
     "output_type": "stream",
     "text": [
      "p-value:  0.814062888768059\n",
      "Fail to Reject H0 for login and groups A B\n",
      "p-value:  0.0859111947332698\n",
      "Fail to Reject H0 for product_cart and groups A B\n",
      "p-value:  0.30875632339671144\n",
      "Fail to Reject H0 for product_page and groups A B\n",
      "p-value:  0.01826370095380514\n",
      "Fail to Reject H0 for purchase and groups A B\n"
     ]
    }
   ],
   "source": [
    "# writing a for loop to keep the function iterating through the events for groups A & B with modified alpha value\n",
    "for i in pivot.event_name.unique():\n",
    "    check_hypothesis('A','B', i, alpha=0.012)"
   ]
  },
  {
   "cell_type": "markdown",
   "metadata": {},
   "source": [
    "There is no statistical significant difference between the conversions of two groups."
   ]
  },
  {
   "cell_type": "markdown",
   "metadata": {},
   "source": [
    "# Overall conclusion and recommendations"
   ]
  },
  {
   "cell_type": "markdown",
   "metadata": {},
   "source": [
    "Testing changes related to the introduction of an improved recommendation system was supposed to lead to show better conversion into product page views,instances of adding items to the shopping cart (product_cart), and purchases (purchase). At each stage of the funnel there was supposed to be at least a 10% increase. Unfortunately, that didn't happen. Therefore, I think spending additional amount, time and effort on improving the recommendation system can be avoided.\n",
    "\n",
    "\n",
    "\n",
    "Coimng to the analysis part, these are the steps that were carried out:\n",
    "\n",
    "1. The datatypes were arranged appropriately and missing values in the 'details' column in the final_ab_events dataframe which were about 363447 were present, may be due to the fact that not all users who login and search for products end up making purchases.\n",
    "\n",
    "2. There were no duplicate values reported in any of the dataframes except for the final_ab_participants dataframe that too specifically in the group and ab_test columns, this may be due to the reason that repeated usrs in group A may be users who belong to both the tests or vice versa so for our further analysis I separated the users based on type of ab_test and no mixed users were found.\n",
    "\n",
    "3. The 'login' stage is the most popular event which actually makes sense as users need to login first in order to access the page and make purchases. The product_page is the second popular ones as user needs to browse for their required products, however we might need to look out for things that are responsible for the users who logged in but didn't land on product_page was there any technical error or was the login process was too lengthy to make users tired of using the site.\n",
    "\n",
    "4. The interface_test has better results in both per stage and overall conversion percentage of users when compared to recommender_user_test dataframe. In the 'purchase' stage we lost almost 50% of our users. We need to check factors like, may be there were some unexpected extra taxes added during payment? or do we need to include some promo codes to attract users to make sure they do their purchase? etc. Surprisingly Product_cart is the final stage in our funnel, this may be because some websites do have a buy in one click option which makes things easier for them to make direct payment without adding items to the cart.\n",
    "\n",
    "5. Total number of events taking place is highest on Monday and being least on Fridays. We came to a conclusion to proceed with the 'interface_test' rather than 'recommender_system' test due to the following reasons:\n",
    "\n",
    "   a. There are only 3675 users in the recommender_system_test but expected number of test participants is 6000.\n",
    "   b. Number of users for each ab_test per event are very less in the recommender_system_test,\n",
    "   c. Interface_test has better results in both per stage and overall conversion percentage of users when compared to   recommender_user_test dataframe.\n",
    "   d. Average number of events per user is distributed equally in the two groups of interface_test and not in the recommender_system_test.\n",
    " \n",
    "6. There is no statistical significant difference between the conversions of two groups.\n",
    "\n",
    "Finally, coming to recommendations from my side based on analysis are:\n",
    "\n",
    "1. May be we can focus more on the purchase stage as we loose almost 50% of our users. We need to check factors like, may be there were some unexpected extra taxes added during payment? or do we need to include some promo codes to attract users to make sure they do their purchase!\n",
    "\n",
    "2. We can try putting some exciting offers right on top of the login page so that users get attracted to those offers and end up purchasing in order to avail those offer benefits.\n",
    "\n",
    "3. Modifying the recommendation system might not be an effective option all alone but can still be an add on which involves less time and money."
   ]
  }
 ],
 "metadata": {
  "ExecuteTimeLog": [
   {
    "duration": 12140,
    "start_time": "2021-06-30T21:15:23.400Z"
   },
   {
    "duration": 1513,
    "start_time": "2021-06-30T21:15:35.542Z"
   },
   {
    "duration": 437,
    "start_time": "2021-06-30T21:15:37.057Z"
   },
   {
    "duration": 51,
    "start_time": "2021-06-30T21:15:37.496Z"
   },
   {
    "duration": 3577,
    "start_time": "2021-06-30T21:15:37.549Z"
   },
   {
    "duration": 23,
    "start_time": "2021-06-30T21:15:41.128Z"
   },
   {
    "duration": 140,
    "start_time": "2021-06-30T21:15:41.153Z"
   },
   {
    "duration": 8,
    "start_time": "2021-06-30T21:15:41.295Z"
   },
   {
    "duration": 6,
    "start_time": "2021-06-30T21:15:41.305Z"
   },
   {
    "duration": 921,
    "start_time": "2021-06-30T21:15:41.312Z"
   },
   {
    "duration": 13,
    "start_time": "2021-06-30T21:15:42.235Z"
   },
   {
    "duration": 402,
    "start_time": "2021-06-30T21:15:42.250Z"
   },
   {
    "duration": 7,
    "start_time": "2021-06-30T21:15:42.654Z"
   },
   {
    "duration": 28,
    "start_time": "2021-06-30T21:15:42.663Z"
   },
   {
    "duration": 7,
    "start_time": "2021-06-30T21:15:42.693Z"
   },
   {
    "duration": 7,
    "start_time": "2021-06-30T21:15:42.702Z"
   },
   {
    "duration": 25,
    "start_time": "2021-06-30T21:15:42.711Z"
   },
   {
    "duration": 24,
    "start_time": "2021-06-30T21:15:42.738Z"
   },
   {
    "duration": 6,
    "start_time": "2021-06-30T21:15:42.763Z"
   },
   {
    "duration": 13,
    "start_time": "2021-06-30T21:15:42.770Z"
   },
   {
    "duration": 8,
    "start_time": "2021-06-30T21:15:42.785Z"
   },
   {
    "duration": 12,
    "start_time": "2021-06-30T21:15:42.794Z"
   },
   {
    "duration": 5,
    "start_time": "2021-06-30T21:15:42.810Z"
   },
   {
    "duration": 37,
    "start_time": "2021-06-30T21:15:42.817Z"
   },
   {
    "duration": 7,
    "start_time": "2021-06-30T21:15:42.855Z"
   },
   {
    "duration": 10,
    "start_time": "2021-06-30T21:15:42.864Z"
   },
   {
    "duration": 15,
    "start_time": "2021-06-30T21:15:42.875Z"
   },
   {
    "duration": 16,
    "start_time": "2021-06-30T21:15:42.891Z"
   },
   {
    "duration": 7,
    "start_time": "2021-06-30T21:15:42.908Z"
   },
   {
    "duration": 12,
    "start_time": "2021-06-30T21:15:42.916Z"
   },
   {
    "duration": 25,
    "start_time": "2021-06-30T21:15:42.929Z"
   },
   {
    "duration": 23,
    "start_time": "2021-06-30T21:15:42.956Z"
   },
   {
    "duration": 9,
    "start_time": "2021-06-30T21:15:42.980Z"
   },
   {
    "duration": 18,
    "start_time": "2021-06-30T21:15:42.991Z"
   },
   {
    "duration": 12,
    "start_time": "2021-06-30T21:15:43.011Z"
   },
   {
    "duration": 155,
    "start_time": "2021-06-30T21:15:43.025Z"
   },
   {
    "duration": 132,
    "start_time": "2021-06-30T21:15:43.181Z"
   },
   {
    "duration": 10,
    "start_time": "2021-06-30T21:15:43.315Z"
   },
   {
    "duration": 7,
    "start_time": "2021-06-30T21:15:43.327Z"
   },
   {
    "duration": 8,
    "start_time": "2021-06-30T21:15:43.335Z"
   },
   {
    "duration": 7,
    "start_time": "2021-06-30T21:15:43.344Z"
   },
   {
    "duration": 42,
    "start_time": "2021-06-30T21:15:43.352Z"
   },
   {
    "duration": 22,
    "start_time": "2021-06-30T21:15:43.395Z"
   },
   {
    "duration": 395,
    "start_time": "2021-06-30T21:15:43.419Z"
   },
   {
    "duration": 57,
    "start_time": "2021-06-30T21:15:43.816Z"
   },
   {
    "duration": 29,
    "start_time": "2021-06-30T21:15:43.874Z"
   },
   {
    "duration": 3,
    "start_time": "2021-06-30T21:15:43.904Z"
   },
   {
    "duration": 580,
    "start_time": "2021-06-30T21:15:43.908Z"
   },
   {
    "duration": 20,
    "start_time": "2021-06-30T21:15:44.490Z"
   },
   {
    "duration": 19,
    "start_time": "2021-06-30T21:15:44.512Z"
   },
   {
    "duration": 14,
    "start_time": "2021-06-30T21:15:44.532Z"
   },
   {
    "duration": 11,
    "start_time": "2021-06-30T21:15:44.547Z"
   },
   {
    "duration": 31,
    "start_time": "2021-06-30T21:15:44.559Z"
   },
   {
    "duration": 24,
    "start_time": "2021-06-30T21:15:44.592Z"
   },
   {
    "duration": 11,
    "start_time": "2021-06-30T21:15:44.618Z"
   },
   {
    "duration": 6,
    "start_time": "2021-06-30T21:15:44.631Z"
   },
   {
    "duration": 14,
    "start_time": "2021-06-30T21:15:44.638Z"
   },
   {
    "duration": 133,
    "start_time": "2021-06-30T21:15:44.654Z"
   },
   {
    "duration": 7,
    "start_time": "2021-06-30T21:15:44.789Z"
   },
   {
    "duration": 10,
    "start_time": "2021-06-30T21:15:44.797Z"
   },
   {
    "duration": 97,
    "start_time": "2021-06-30T21:15:44.809Z"
   },
   {
    "duration": 81,
    "start_time": "2021-06-30T21:15:44.908Z"
   },
   {
    "duration": 31,
    "start_time": "2021-06-30T21:15:44.991Z"
   },
   {
    "duration": 198,
    "start_time": "2021-06-30T21:15:45.024Z"
   },
   {
    "duration": 475,
    "start_time": "2021-06-30T21:15:45.223Z"
   },
   {
    "duration": 5,
    "start_time": "2021-06-30T21:15:45.700Z"
   },
   {
    "duration": 141,
    "start_time": "2021-06-30T21:15:45.707Z"
   },
   {
    "duration": 5,
    "start_time": "2021-06-30T21:15:45.856Z"
   },
   {
    "duration": 143,
    "start_time": "2021-06-30T21:15:45.885Z"
   },
   {
    "duration": 54877,
    "start_time": "2021-07-01T07:09:13.772Z"
   },
   {
    "duration": 15544,
    "start_time": "2021-07-01T07:10:08.652Z"
   },
   {
    "duration": 574,
    "start_time": "2021-07-01T07:10:24.200Z"
   },
   {
    "duration": 83,
    "start_time": "2021-07-01T07:10:24.778Z"
   },
   {
    "duration": 6473,
    "start_time": "2021-07-01T07:10:24.863Z"
   },
   {
    "duration": 40,
    "start_time": "2021-07-01T07:10:31.338Z"
   },
   {
    "duration": 181,
    "start_time": "2021-07-01T07:10:31.380Z"
   },
   {
    "duration": 11,
    "start_time": "2021-07-01T07:10:31.565Z"
   },
   {
    "duration": 16,
    "start_time": "2021-07-01T07:10:31.579Z"
   },
   {
    "duration": 309,
    "start_time": "2021-07-01T07:10:31.597Z"
   },
   {
    "duration": 17,
    "start_time": "2021-07-01T07:10:31.908Z"
   },
   {
    "duration": 705,
    "start_time": "2021-07-01T07:10:31.928Z"
   },
   {
    "duration": 10,
    "start_time": "2021-07-01T07:10:32.635Z"
   },
   {
    "duration": 37,
    "start_time": "2021-07-01T07:10:32.648Z"
   },
   {
    "duration": 8,
    "start_time": "2021-07-01T07:10:32.688Z"
   },
   {
    "duration": 17,
    "start_time": "2021-07-01T07:10:32.698Z"
   },
   {
    "duration": 60,
    "start_time": "2021-07-01T07:10:32.717Z"
   },
   {
    "duration": 26,
    "start_time": "2021-07-01T07:10:32.780Z"
   },
   {
    "duration": 16,
    "start_time": "2021-07-01T07:10:32.809Z"
   },
   {
    "duration": 17,
    "start_time": "2021-07-01T07:10:32.827Z"
   },
   {
    "duration": 7,
    "start_time": "2021-07-01T07:10:32.855Z"
   },
   {
    "duration": 12,
    "start_time": "2021-07-01T07:10:32.865Z"
   },
   {
    "duration": 7,
    "start_time": "2021-07-01T07:10:32.883Z"
   },
   {
    "duration": 393,
    "start_time": "2021-07-01T07:10:32.894Z"
   },
   {
    "duration": 11,
    "start_time": "2021-07-01T07:10:33.289Z"
   },
   {
    "duration": 12,
    "start_time": "2021-07-01T07:10:33.302Z"
   },
   {
    "duration": 9,
    "start_time": "2021-07-01T07:10:33.316Z"
   },
   {
    "duration": 29,
    "start_time": "2021-07-01T07:10:33.328Z"
   },
   {
    "duration": 10,
    "start_time": "2021-07-01T07:10:33.360Z"
   },
   {
    "duration": 21,
    "start_time": "2021-07-01T07:10:33.374Z"
   },
   {
    "duration": 62,
    "start_time": "2021-07-01T07:10:33.398Z"
   },
   {
    "duration": 31,
    "start_time": "2021-07-01T07:10:33.462Z"
   },
   {
    "duration": 16,
    "start_time": "2021-07-01T07:10:33.496Z"
   },
   {
    "duration": 50,
    "start_time": "2021-07-01T07:10:33.514Z"
   },
   {
    "duration": 18,
    "start_time": "2021-07-01T07:10:33.567Z"
   },
   {
    "duration": 221,
    "start_time": "2021-07-01T07:10:33.588Z"
   },
   {
    "duration": 188,
    "start_time": "2021-07-01T07:10:33.811Z"
   },
   {
    "duration": 15,
    "start_time": "2021-07-01T07:10:34.002Z"
   },
   {
    "duration": 10,
    "start_time": "2021-07-01T07:10:34.020Z"
   },
   {
    "duration": 11,
    "start_time": "2021-07-01T07:10:34.056Z"
   },
   {
    "duration": 7,
    "start_time": "2021-07-01T07:10:34.070Z"
   },
   {
    "duration": 79,
    "start_time": "2021-07-01T07:10:34.080Z"
   },
   {
    "duration": 34,
    "start_time": "2021-07-01T07:10:34.162Z"
   },
   {
    "duration": 663,
    "start_time": "2021-07-01T07:10:34.198Z"
   },
   {
    "duration": 97,
    "start_time": "2021-07-01T07:10:34.864Z"
   },
   {
    "duration": 39,
    "start_time": "2021-07-01T07:10:34.964Z"
   },
   {
    "duration": 3,
    "start_time": "2021-07-01T07:10:35.006Z"
   },
   {
    "duration": 821,
    "start_time": "2021-07-01T07:10:35.011Z"
   },
   {
    "duration": 37,
    "start_time": "2021-07-01T07:10:35.835Z"
   },
   {
    "duration": 27,
    "start_time": "2021-07-01T07:10:35.875Z"
   },
   {
    "duration": 20,
    "start_time": "2021-07-01T07:10:35.904Z"
   },
   {
    "duration": 16,
    "start_time": "2021-07-01T07:10:35.957Z"
   },
   {
    "duration": 28,
    "start_time": "2021-07-01T07:10:35.976Z"
   },
   {
    "duration": 64,
    "start_time": "2021-07-01T07:10:36.007Z"
   },
   {
    "duration": 17,
    "start_time": "2021-07-01T07:10:36.074Z"
   },
   {
    "duration": 9,
    "start_time": "2021-07-01T07:10:36.094Z"
   },
   {
    "duration": 23,
    "start_time": "2021-07-01T07:10:36.105Z"
   },
   {
    "duration": 225,
    "start_time": "2021-07-01T07:10:36.130Z"
   },
   {
    "duration": 8,
    "start_time": "2021-07-01T07:10:36.358Z"
   },
   {
    "duration": 8,
    "start_time": "2021-07-01T07:10:36.369Z"
   },
   {
    "duration": 90,
    "start_time": "2021-07-01T07:10:36.380Z"
   },
   {
    "duration": 40,
    "start_time": "2021-07-01T07:10:36.473Z"
   },
   {
    "duration": 74,
    "start_time": "2021-07-01T07:10:36.516Z"
   },
   {
    "duration": 147,
    "start_time": "2021-07-01T07:10:36.593Z"
   },
   {
    "duration": 340,
    "start_time": "2021-07-01T07:10:36.743Z"
   },
   {
    "duration": 8,
    "start_time": "2021-07-01T07:10:37.086Z"
   },
   {
    "duration": 158,
    "start_time": "2021-07-01T07:10:37.097Z"
   },
   {
    "duration": 5,
    "start_time": "2021-07-01T07:10:37.263Z"
   },
   {
    "duration": 135,
    "start_time": "2021-07-01T07:10:37.270Z"
   },
   {
    "duration": 2052,
    "start_time": "2021-07-01T08:17:19.813Z"
   },
   {
    "duration": 9495,
    "start_time": "2021-07-01T08:18:32.130Z"
   },
   {
    "duration": 2231,
    "start_time": "2021-07-01T08:18:41.629Z"
   },
   {
    "duration": 633,
    "start_time": "2021-07-01T08:18:54.178Z"
   },
   {
    "duration": 77,
    "start_time": "2021-07-01T08:18:58.274Z"
   },
   {
    "duration": 6617,
    "start_time": "2021-07-01T08:19:00.402Z"
   },
   {
    "duration": 36,
    "start_time": "2021-07-01T08:19:11.550Z"
   },
   {
    "duration": 211,
    "start_time": "2021-07-01T08:19:16.795Z"
   },
   {
    "duration": 13,
    "start_time": "2021-07-01T08:19:30.786Z"
   },
   {
    "duration": 10,
    "start_time": "2021-07-01T08:19:31.283Z"
   },
   {
    "duration": 100,
    "start_time": "2021-07-01T08:19:31.884Z"
   },
   {
    "duration": 20,
    "start_time": "2021-07-01T08:19:33.190Z"
   },
   {
    "duration": 779,
    "start_time": "2021-07-01T08:19:33.836Z"
   },
   {
    "duration": 14,
    "start_time": "2021-07-01T08:19:34.617Z"
   },
   {
    "duration": 41,
    "start_time": "2021-07-01T08:19:34.978Z"
   },
   {
    "duration": 11,
    "start_time": "2021-07-01T08:19:36.005Z"
   },
   {
    "duration": 10,
    "start_time": "2021-07-01T08:19:36.414Z"
   },
   {
    "duration": 34,
    "start_time": "2021-07-01T08:19:36.750Z"
   },
   {
    "duration": 26,
    "start_time": "2021-07-01T08:19:37.083Z"
   },
   {
    "duration": 8,
    "start_time": "2021-07-01T08:19:37.392Z"
   },
   {
    "duration": 16,
    "start_time": "2021-07-01T08:19:37.704Z"
   },
   {
    "duration": 7,
    "start_time": "2021-07-01T08:19:38.035Z"
   },
   {
    "duration": 9,
    "start_time": "2021-07-01T08:19:38.387Z"
   },
   {
    "duration": 7,
    "start_time": "2021-07-01T08:19:38.763Z"
   },
   {
    "duration": 39,
    "start_time": "2021-07-01T08:19:39.117Z"
   },
   {
    "duration": 10,
    "start_time": "2021-07-01T08:19:39.468Z"
   },
   {
    "duration": 8,
    "start_time": "2021-07-01T08:19:39.835Z"
   },
   {
    "duration": 11,
    "start_time": "2021-07-01T08:19:40.219Z"
   },
   {
    "duration": 10,
    "start_time": "2021-07-01T08:19:40.571Z"
   },
   {
    "duration": 13,
    "start_time": "2021-07-01T08:19:40.909Z"
   },
   {
    "duration": 14,
    "start_time": "2021-07-01T08:19:41.294Z"
   },
   {
    "duration": 46,
    "start_time": "2021-07-01T08:19:41.605Z"
   },
   {
    "duration": 40,
    "start_time": "2021-07-01T08:19:41.985Z"
   },
   {
    "duration": 29,
    "start_time": "2021-07-01T08:19:43.375Z"
   },
   {
    "duration": 33,
    "start_time": "2021-07-01T08:19:44.702Z"
   },
   {
    "duration": 23,
    "start_time": "2021-07-01T08:19:45.322Z"
   },
   {
    "duration": 256,
    "start_time": "2021-07-01T08:21:15.831Z"
   },
   {
    "duration": 220,
    "start_time": "2021-07-01T08:21:17.263Z"
   },
   {
    "duration": 17,
    "start_time": "2021-07-01T08:21:17.927Z"
   },
   {
    "duration": 13,
    "start_time": "2021-07-01T08:21:19.318Z"
   },
   {
    "duration": 14,
    "start_time": "2021-07-01T08:21:24.322Z"
   },
   {
    "duration": 16,
    "start_time": "2021-07-01T08:21:25.108Z"
   },
   {
    "duration": 52,
    "start_time": "2021-07-01T08:26:36.856Z"
   },
   {
    "duration": 40,
    "start_time": "2021-07-01T08:26:38.065Z"
   },
   {
    "duration": 715,
    "start_time": "2021-07-01T08:26:38.677Z"
   },
   {
    "duration": 91,
    "start_time": "2021-07-01T08:26:40.533Z"
   },
   {
    "duration": 42,
    "start_time": "2021-07-01T08:26:40.867Z"
   },
   {
    "duration": 4,
    "start_time": "2021-07-01T08:26:41.195Z"
   },
   {
    "duration": 893,
    "start_time": "2021-07-01T08:26:41.505Z"
   },
   {
    "duration": 640,
    "start_time": "2021-07-01T08:44:14.951Z"
   },
   {
    "duration": 205,
    "start_time": "2021-07-01T08:44:21.882Z"
   },
   {
    "duration": 84,
    "start_time": "2021-07-01T08:51:06.821Z"
   },
   {
    "duration": 36,
    "start_time": "2021-07-01T08:51:08.554Z"
   },
   {
    "duration": 4,
    "start_time": "2021-07-01T08:51:12.922Z"
   },
   {
    "duration": 204,
    "start_time": "2021-07-01T08:51:13.746Z"
   },
   {
    "duration": 32,
    "start_time": "2021-07-01T08:54:19.280Z"
   },
   {
    "duration": 32,
    "start_time": "2021-07-01T08:54:19.896Z"
   },
   {
    "duration": 24,
    "start_time": "2021-07-01T08:54:20.297Z"
   },
   {
    "duration": 18,
    "start_time": "2021-07-01T08:54:20.942Z"
   },
   {
    "duration": 30,
    "start_time": "2021-07-01T08:54:32.761Z"
   },
   {
    "duration": 41,
    "start_time": "2021-07-01T08:54:35.047Z"
   },
   {
    "duration": 18,
    "start_time": "2021-07-01T08:54:35.638Z"
   },
   {
    "duration": 9,
    "start_time": "2021-07-01T08:54:37.741Z"
   },
   {
    "duration": 21,
    "start_time": "2021-07-01T08:54:38.555Z"
   },
   {
    "duration": 206,
    "start_time": "2021-07-01T08:54:39.191Z"
   },
   {
    "duration": 11,
    "start_time": "2021-07-01T08:54:50.516Z"
   },
   {
    "duration": 9,
    "start_time": "2021-07-01T08:54:51.034Z"
   },
   {
    "duration": 41,
    "start_time": "2021-07-01T08:57:00.486Z"
   },
   {
    "duration": 30,
    "start_time": "2021-07-01T08:57:43.974Z"
   },
   {
    "duration": 28,
    "start_time": "2021-07-01T08:58:26.474Z"
   }
  ],
  "kernelspec": {
   "display_name": "Python 3",
   "language": "python",
   "name": "python3"
  },
  "language_info": {
   "codemirror_mode": {
    "name": "ipython",
    "version": 3
   },
   "file_extension": ".py",
   "mimetype": "text/x-python",
   "name": "python",
   "nbconvert_exporter": "python",
   "pygments_lexer": "ipython3",
   "version": "3.8.5"
  },
  "toc": {
   "base_numbering": 1,
   "nav_menu": {},
   "number_sections": true,
   "sideBar": true,
   "skip_h1_title": false,
   "title_cell": "Table of Contents",
   "title_sidebar": "Contents",
   "toc_cell": false,
   "toc_position": {
    "height": "calc(100% - 180px)",
    "left": "10px",
    "top": "150px",
    "width": "165px"
   },
   "toc_section_display": true,
   "toc_window_display": false
  }
 },
 "nbformat": 4,
 "nbformat_minor": 4
}
